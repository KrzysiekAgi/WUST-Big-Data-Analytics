{
 "cells": [
  {
   "cell_type": "code",
   "execution_count": 109,
   "metadata": {},
   "outputs": [
    {
     "name": "stdout",
     "output_type": "stream",
     "text": [
      "0.5\n",
      "[1, 1, 25, 17, 89, 2, 9, 17, 20, 8, 17, 9, 26, 34, 37, 50, 10, 29, 65, 10, 52, 32, 10, 13, 45, 5, 25, 40, 4, 5, 4, 49, 1, 5, 13, 5, 16, 45, 5, 20, 10, 16, 20, 20, 20, 10, 5, 18, 4, 18, 5, 34, 1, 17, 18, 2, 17, 16, 8, 5, 0, 29, 41, 13, 20, 17, 10, 5, 41, 41, 16, 10, 2, 41, 4, 85, 1, 137, 80, 68, 10, 4, 29, 5, 9, 29, 5, 26, 98, 1, 9, 17, 4, 2, 4, 10, 40, 41, 41, 4, 1, 37, 68, 1, 1, 2, 25, 41, 9, 36, 34, 13, 49, 10, 9, 25, 65, 20, 20, 20, 4, 5, 65, 13, 37, 41, 29, 25, 13, 49, 13, 2, 26, 10, 5, 50, 37, 17, 20, 20, 8, 17, 5, 4, 65, 2, 20, 36, 13, 32, 13, 0, 0, 29, 20, 13, 17, 40, 25, 37, 29, 117, 10, 13, 4, 29, 5, 1, 26, 5, 25, 10, 17, 20, 34, 13, 5, 20, 2, 34, 10, 5, 25, 32, 1, 2, 90, 17, 17, 5, 41, 9, 10, 25, 8, 13, 9, 52, 1, 2]\n",
      "0.108475\n"
     ]
    }
   ],
   "source": [
    "possibleMoves = ((0,1),(0,-1),(1,0),(-1,0))\n",
    "positionOfAtoms = list()\n",
    "distanceX = list()\n",
    "distanceY = list()\n",
    "\n",
    "def prepTheBoard(numberOfAtoms, dimmension):\n",
    "    global distanceX\n",
    "    global distanceY\n",
    "    if numberOfAtoms < dimmension*dimmension:\n",
    "        distanceX = [0 for _ in range(numberOfAtoms)]\n",
    "        distanceY = [0 for _ in range(numberOfAtoms)]\n",
    "    else:\n",
    "        print(\"Can't put so many atoms\")\n",
    "        return\n",
    "    \n",
    "def fillTheBoard(numberOfAtoms, dimmension):\n",
    "    for _ in range(numberOfAtoms):\n",
    "        position = (randint(0,dimmension), randint(0,dimmension))\n",
    "        while position in positionOfAtoms:\n",
    "            position = (randint(0,dimmension), randint(0,dimmension))\n",
    "        positionOfAtoms.append(position)\n",
    "\n",
    "def checkMove(atomBoard, index, dimmension):\n",
    "    for move in possibleMoves:\n",
    "        if (((positionOfAtoms[index][0]+move[0])%dimmension, (positionOfAtoms[index][1]+move[1])%dimmension) in positionOfAtoms):\n",
    "            pass\n",
    "        else:\n",
    "            return(1)\n",
    "    \n",
    "def diffusion(numberOfAtoms, numberOfSteps, dimmension):\n",
    "    global distanceX\n",
    "    global distanceY\n",
    "    prepTheBoard(numberOfAtoms, dimmension)\n",
    "    fillTheBoard(numberOfAtoms, dimmension)\n",
    "    for _ in range(numberOfSteps):\n",
    "        for index in range(numberOfAtoms):\n",
    "            if checkMove(positionOfAtoms, index, dimmension):\n",
    "                whichMove = choice(possibleMoves)\n",
    "                newPosition = ((positionOfAtoms[index][0] + whichMove[0])%dimmension, (positionOfAtoms[index][1] + whichMove[1])%dimmension)\n",
    "                if newPosition not in positionOfAtoms:\n",
    "                    distanceX[index] += whichMove[0]\n",
    "                    distanceY[index] += whichMove[1]\n",
    "                    positionOfAtoms[index] = newPosition\n",
    "    \n",
    "#diffusion(numberOfAtoms, numberOfSteps, dimmension)\n",
    "\n",
    "numberOfAtoms = 200\n",
    "numberOfSteps = 50\n",
    "dimmension = 20\n",
    "rSquared = []\n",
    "rSquaredAllIterations = []\n",
    "density = numberOfAtoms / (dimmension*dimmension)\n",
    "print(density)\n",
    "diffusion(numberOfAtoms, numberOfSteps, dimmension)\n",
    "rSquared = [x**2 + y**2 for x,y in zip(distanceX, distanceY)]\n",
    "\n",
    "print(rSquared)\n",
    "\n",
    "diffusionCoefficient = (float(sum(rSquared)/len(rSquared)))/(4*numberOfSteps)\n",
    "print(diffusionCoefficient)"
   ]
  }
 ],
 "metadata": {
  "kernelspec": {
   "display_name": "Python 3",
   "language": "python",
   "name": "python3"
  },
  "language_info": {
   "codemirror_mode": {
    "name": "ipython",
    "version": 3
   },
   "file_extension": ".py",
   "mimetype": "text/x-python",
   "name": "python",
   "nbconvert_exporter": "python",
   "pygments_lexer": "ipython3",
   "version": "3.7.1"
  }
 },
 "nbformat": 4,
 "nbformat_minor": 2
}
