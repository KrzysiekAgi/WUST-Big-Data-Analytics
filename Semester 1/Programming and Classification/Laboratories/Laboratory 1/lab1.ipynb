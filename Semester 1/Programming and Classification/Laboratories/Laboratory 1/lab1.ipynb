{
 "cells": [
  {
   "cell_type": "markdown",
   "metadata": {},
   "source": [
    "# Programming and Classification:\n",
    "## 1. Introduction to Python Programming Language"
   ]
  },
  {
   "cell_type": "markdown",
   "metadata": {},
   "source": [
    "### @author Krzysztof Agieńczuk\n",
    "This notebook is available under the beerware license for educational purposes"
   ]
  },
  {
   "cell_type": "code",
   "execution_count": 1,
   "metadata": {},
   "outputs": [],
   "source": [
    "import math\n",
    "import random\n",
    "import itertools\n",
    "import collections\n",
    "from scipy import spatial"
   ]
  },
  {
   "cell_type": "markdown",
   "metadata": {},
   "source": [
    "### Ask the user for a number. Check if the input is an integer. Depending on whether the number is odd or even, print out an appropriate message to the user."
   ]
  },
  {
   "cell_type": "code",
   "execution_count": 2,
   "metadata": {},
   "outputs": [
    {
     "name": "stdin",
     "output_type": "stream",
     "text": [
      " 11\n"
     ]
    }
   ],
   "source": [
    "number = input()"
   ]
  },
  {
   "cell_type": "code",
   "execution_count": 3,
   "metadata": {},
   "outputs": [
    {
     "name": "stdout",
     "output_type": "stream",
     "text": [
      "odd\n"
     ]
    }
   ],
   "source": [
    "num_int = int(float(number))\n",
    "if math.fmod(num_int, 2) == 0:\n",
    "    print('even')\n",
    "else: \n",
    "    print('odd')"
   ]
  },
  {
   "cell_type": "markdown",
   "metadata": {},
   "source": [
    "### Generate 20 integers in the range 10 to 99 at random and return their mean value and maximal value."
   ]
  },
  {
   "cell_type": "code",
   "execution_count": 4,
   "metadata": {},
   "outputs": [
    {
     "name": "stdout",
     "output_type": "stream",
     "text": [
      "[59, 79, 7, 31, 23, 39, 76, 17, 25, 70, 97, 91, 28, 98, 4, 87, 2, 34, 9, 46]\n"
     ]
    }
   ],
   "source": [
    "random_numbers = random.sample(range(100), 20)\n",
    "print(random_numbers)"
   ]
  },
  {
   "cell_type": "markdown",
   "metadata": {},
   "source": [
    "### Write a function that computes cosine of the angle between two d-dimensional vectors."
   ]
  },
  {
   "cell_type": "code",
   "execution_count": 5,
   "metadata": {},
   "outputs": [
    {
     "name": "stdout",
     "output_type": "stream",
     "text": [
      "-0.28867513459481287\n"
     ]
    }
   ],
   "source": [
    "v1 = [1,2,1]\n",
    "v2 = [1,-1,0]\n",
    "\n",
    "print(1-spatial.distance.cosine(v1,v2))"
   ]
  },
  {
   "cell_type": "markdown",
   "metadata": {},
   "source": [
    "### Write a function that for a given set of integers {a,...,b} and an integer c lists all integers greater than a and smaller than b that are divisible by c."
   ]
  },
  {
   "cell_type": "code",
   "execution_count": 6,
   "metadata": {},
   "outputs": [
    {
     "name": "stdout",
     "output_type": "stream",
     "text": [
      "25\n",
      "30\n",
      "35\n",
      "40\n",
      "45\n",
      "50\n",
      "55\n",
      "60\n",
      "65\n",
      "70\n",
      "75\n",
      "80\n",
      "85\n",
      "90\n",
      "95\n"
     ]
    }
   ],
   "source": [
    "a = 20\n",
    "b = 100\n",
    "c = 5\n",
    "setOfInts = set(list(range(random.randint(0,20),random.randint(b,b+50))))\n",
    "\n",
    "def divisibleByC(setOfInts, c):\n",
    "    inBetween = (i for i in setOfInts if (i>a and i<b))\n",
    "    divisible = (i for i in inBetween if math.fmod(i, c) == 0)\n",
    "    [print(i) for i in divisible]\n",
    "\n",
    "    \n",
    "divisibleByC(setOfInts, c)"
   ]
  },
  {
   "cell_type": "markdown",
   "metadata": {},
   "source": [
    "### Write a program that for two lists x and y (possibly of different sizes) returns a list of elements that are common between the lists."
   ]
  },
  {
   "cell_type": "code",
   "execution_count": 10,
   "metadata": {},
   "outputs": [
    {
     "name": "stdout",
     "output_type": "stream",
     "text": [
      "[9, 3, 6]\n"
     ]
    }
   ],
   "source": [
    "x = [1,2,3,4,5,6,7,8,9]\n",
    "y = [3,6,9,12,15]\n",
    "print(list(set(x).intersection(y)))"
   ]
  },
  {
   "cell_type": "markdown",
   "metadata": {},
   "source": [
    "### Write a function that removes all 'a' letters form a given string x. For example, for x = abracadabra we expect x = brcdbr."
   ]
  },
  {
   "cell_type": "code",
   "execution_count": 11,
   "metadata": {},
   "outputs": [
    {
     "name": "stdout",
     "output_type": "stream",
     "text": [
      "brcdbr\n"
     ]
    }
   ],
   "source": [
    "x = \"abracadabra\"\n",
    "print(x.replace(\"a\",\"\"))"
   ]
  },
  {
   "cell_type": "markdown",
   "metadata": {},
   "source": [
    "### Write a program that accepts a sentence and calculates the number of letters and digits.\n",
    "#### Hint: you can use functions isalpha() and isdigit()."
   ]
  },
  {
   "cell_type": "code",
   "execution_count": 12,
   "metadata": {},
   "outputs": [
    {
     "name": "stdin",
     "output_type": "stream",
     "text": [
      " kshjsh51452\n"
     ]
    }
   ],
   "source": [
    "sentence = input()\n"
   ]
  },
  {
   "cell_type": "code",
   "execution_count": 13,
   "metadata": {},
   "outputs": [
    {
     "name": "stdout",
     "output_type": "stream",
     "text": [
      "6 5\n"
     ]
    }
   ],
   "source": [
    "letters = sum(l.isalpha() for l in sentence)\n",
    "numbers = sum(l.isdigit() for l in sentence)\n",
    "print(letters, numbers)"
   ]
  },
  {
   "cell_type": "markdown",
   "metadata": {},
   "source": [
    "### Write a program that lists all subsets of the set {a,b,c,d}."
   ]
  },
  {
   "cell_type": "code",
   "execution_count": 14,
   "metadata": {},
   "outputs": [
    {
     "name": "stdout",
     "output_type": "stream",
     "text": [
      "{()}\n",
      "{('d',), ('a',), ('b',), ('c',)}\n",
      "{('d', 'c'), ('a', 'c'), ('a', 'd'), ('b', 'c'), ('a', 'b'), ('b', 'd')}\n",
      "{('a', 'd', 'c'), ('a', 'b', 'd'), ('b', 'd', 'c'), ('a', 'b', 'c')}\n"
     ]
    }
   ],
   "source": [
    "setOfChars = {'a','b','c','d'}\n",
    "def findsubsets(S,m):\n",
    "    return set(itertools.combinations(S, m))\n",
    "\n",
    "for i in range(0, len(setOfChars)):\n",
    "    print(findsubsets(setOfChars, i))"
   ]
  },
  {
   "cell_type": "markdown",
   "metadata": {},
   "source": [
    "### Write a program that returns the most frequent letter in a string."
   ]
  },
  {
   "cell_type": "code",
   "execution_count": 15,
   "metadata": {},
   "outputs": [
    {
     "data": {
      "text/plain": [
       "{'a': 5,\n",
       " 'l': 1,\n",
       " 'i': 1,\n",
       " 'c': 1,\n",
       " 'e': 3,\n",
       " 'n': 1,\n",
       " 'd': 1,\n",
       " 'b': 3,\n",
       " 'o': 1,\n",
       " 't': 2,\n",
       " 'r': 1,\n",
       " 'k': 1,\n",
       " 'f': 1,\n",
       " 's': 1}"
      ]
     },
     "execution_count": 15,
     "metadata": {},
     "output_type": "execute_result"
    }
   ],
   "source": [
    "string = \"aliceandbobeatbreakfast\"\n",
    "charOccurences = collections.Counter(string)\n",
    "dict(charOccurences)"
   ]
  },
  {
   "cell_type": "markdown",
   "metadata": {},
   "source": [
    "### Convert a number represented as a sequence of decimal digits to the binary representation."
   ]
  },
  {
   "cell_type": "code",
   "execution_count": 17,
   "metadata": {},
   "outputs": [
    {
     "data": {
      "text/plain": [
       "['0b1', '0b10', '0b11', '0b100', '0b101', '0b110', '0b111', '0b1000', '0b1001']"
      ]
     },
     "execution_count": 17,
     "metadata": {},
     "output_type": "execute_result"
    }
   ],
   "source": [
    "decimal = [1,2,3,4,5,6,7,8,9]\n",
    "[bin(i) for i in decimal]"
   ]
  },
  {
   "cell_type": "code",
   "execution_count": 22,
   "metadata": {},
   "outputs": [
    {
     "name": "stdout",
     "output_type": "stream",
     "text": [
      "-1.0\n"
     ]
    }
   ],
   "source": [
    "v1 = [1,0,0]\n",
    "v2 = [-1,0,0]\n",
    "def cos(vec1, vec2):\n",
    "    vec1_norm = math.sqrt(vec1[0]**2 + vec1[1]**2 + vec1[2]**2)\n",
    "    vec2_norm = math.sqrt(vec2[0]**2 + vec2[1]**2 + vec2[2]**2)\n",
    "    scal = vec1[0]*vec2[0] + vec1[1]*vec2[1] + vec1[2]*vec2[2]\n",
    "    cosine = scal / (vec1_norm * vec2_norm)\n",
    "    print(cosine)\n",
    "        \n",
    "cos(v1,v2)"
   ]
  },
  {
   "cell_type": "code",
   "execution_count": 40,
   "metadata": {},
   "outputs": [
    {
     "name": "stdout",
     "output_type": "stream",
     "text": [
      "1 10 11 100 101 110 111 1000 1001 "
     ]
    }
   ],
   "source": [
    "import sys\n",
    "\n",
    "def binary(n):\n",
    "   if n > 1:\n",
    "       binary(n//2)\n",
    "   print(n % 2,end = '')\n",
    "\n",
    "decimal = [1,2,3,4,5,6,7,8,9]\n",
    "for number in decimal:\n",
    "    binary(number)\n",
    "    sys.stdout.write(\" \")"
   ]
  }
 ],
 "metadata": {
  "kernelspec": {
   "display_name": "Python 3",
   "language": "python",
   "name": "python3"
  },
  "language_info": {
   "codemirror_mode": {
    "name": "ipython",
    "version": 3
   },
   "file_extension": ".py",
   "mimetype": "text/x-python",
   "name": "python",
   "nbconvert_exporter": "python",
   "pygments_lexer": "ipython3",
   "version": "3.7.1"
  }
 },
 "nbformat": 4,
 "nbformat_minor": 2
}
