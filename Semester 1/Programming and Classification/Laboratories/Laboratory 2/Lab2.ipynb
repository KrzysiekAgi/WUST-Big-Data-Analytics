{
 "cells": [
  {
   "cell_type": "markdown",
   "metadata": {},
   "source": [
    "# Programming and Classification:\n",
    "## 2. Python Programming Language (lists, dictionaries, NLTK)"
   ]
  },
  {
   "cell_type": "markdown",
   "metadata": {},
   "source": [
    "### @author Krzysztof Agieńczuk\n",
    "This notebook is available under the beerware license for educational purposes"
   ]
  },
  {
   "cell_type": "code",
   "execution_count": 1,
   "metadata": {},
   "outputs": [
    {
     "name": "stdout",
     "output_type": "stream",
     "text": [
      "showing info https://raw.githubusercontent.com/nltk/nltk_data/gh-pages/index.xml\n"
     ]
    },
    {
     "data": {
      "text/plain": [
       "True"
      ]
     },
     "execution_count": 1,
     "metadata": {},
     "output_type": "execute_result"
    }
   ],
   "source": [
    "import random\n",
    "import string\n",
    "import nltk\n",
    "nltk.download()"
   ]
  },
  {
   "cell_type": "markdown",
   "metadata": {},
   "source": [
    "### From given list of integers remove all negative numbers"
   ]
  },
  {
   "cell_type": "code",
   "execution_count": 2,
   "metadata": {},
   "outputs": [],
   "source": [
    "integersToBeFiltered = []\n",
    "for i in range(50):\n",
    "    integersToBeFiltered.append(int(random.uniform(-50,50)))\n",
    "    \n",
    "filteredIntegers = [integer for integer in integersToBeFiltered if integer >= 0 ]\n",
    "#for integer in filteredIntegers:\n",
    "#    print(integer)"
   ]
  },
  {
   "cell_type": "markdown",
   "metadata": {},
   "source": [
    "### From list of strings remove all strings longer than 5"
   ]
  },
  {
   "cell_type": "code",
   "execution_count": 3,
   "metadata": {},
   "outputs": [
    {
     "name": "stdout",
     "output_type": "stream",
     "text": [
      "\n",
      "w\n",
      "mo\n",
      "tec\n",
      "motu\n",
      "doyak\n"
     ]
    }
   ],
   "source": [
    "# just to make it more pronounceable\n",
    "def randomWord(length=5):\n",
    "    consonants=\"bcdfghjklmnpqrstvwxyz\"\n",
    "    vowels=\"aeiou\"\n",
    "    return \"\".join(random.choice((consonants,vowels)[i%2]) for i in range(length))\n",
    "\n",
    "randomStrings = (randomWord(i) for i in range(10))\n",
    "filteredStrings = [string for string in randomStrings if len(string)<=5]\n",
    "for string in filteredStrings: \n",
    "    print(string)"
   ]
  },
  {
   "cell_type": "markdown",
   "metadata": {},
   "source": [
    "### Construct a function that returns a string of maximal length from a set of strings. Note that the the maximal string does not have to be unique."
   ]
  },
  {
   "cell_type": "code",
   "execution_count": 4,
   "metadata": {},
   "outputs": [
    {
     "data": {
      "text/plain": [
       "'faheruxim'"
      ]
     },
     "execution_count": 4,
     "metadata": {},
     "output_type": "execute_result"
    }
   ],
   "source": [
    "setOfStrings=set()\n",
    "for i in range(10):\n",
    "    setOfStrings.add(randomWord(int(random.uniform(2,10))))\n",
    "\n",
    "max(setOfStrings, key=len)"
   ]
  },
  {
   "cell_type": "markdown",
   "metadata": {},
   "source": [
    "### Construct a function that constructs a list that keeps alternately consecutive elements from two argument lists of equal length. For example, for a=[a1,a2,a3] and a=[b1,b2,b3] the correct output is [a1,b1,a2,b2,a3,b3] ."
   ]
  },
  {
   "cell_type": "code",
   "execution_count": 5,
   "metadata": {},
   "outputs": [],
   "source": [
    "odds = [number for number in range(100) if number%2 != 0]\n",
    "evens = [number for number in range(100) if number%2 == 0]\n",
    "allNumbers = []\n",
    "\n",
    "for i in range(len(odds)):\n",
    "    allNumbers.append(evens[i])\n",
    "    allNumbers.append(odds[i])\n",
    "    \n",
    "#for i in range(len(allNumbers)):\n",
    "#    print(allNumbers[i])"
   ]
  },
  {
   "cell_type": "markdown",
   "metadata": {},
   "source": [
    "### A list contains both integers and strings. Construct a function that sorts given list in such a way that at the beginning of the resulting list one gets strings in alphabetical order followed by integers in an increasing order."
   ]
  },
  {
   "cell_type": "code",
   "execution_count": 6,
   "metadata": {},
   "outputs": [],
   "source": [
    "elementsToBeSorted = [1,5,2,\"string\", 32,\"element\",9,4,\"a\"]\n",
    "sortedStrings = sorted([element for element in elementsToBeSorted if type(element) is str])\n",
    "sortedInts = sorted([element for element in elementsToBeSorted if type(element) is int])\n",
    "sortedElements = sortedStrings + sortedInts\n",
    "#sortedElements"
   ]
  },
  {
   "cell_type": "markdown",
   "metadata": {},
   "source": [
    "### Construct a dictionary that assigns each user (represented as a string) his address (string). Sort and list this dictionary by the addresses. Use lambda function."
   ]
  },
  {
   "cell_type": "code",
   "execution_count": 7,
   "metadata": {},
   "outputs": [
    {
     "data": {
      "text/plain": [
       "[('admin', 'admin@admin.com'),\n",
       " ('user2', 'auser2@gmail.com'),\n",
       " ('user3', 'user3@gmail.com'),\n",
       " ('user1', 'zuser1@gmail.com')]"
      ]
     },
     "execution_count": 7,
     "metadata": {},
     "output_type": "execute_result"
    }
   ],
   "source": [
    "users = {\"admin\":\"admin@admin.com\", \"user1\":\"zuser1@gmail.com\", \"user2\":\"auser2@gmail.com\", \"user3\":\"user3@gmail.com\"}\n",
    "sort = sorted(users.items(), key=lambda kv: kv[1])\n",
    "sort"
   ]
  },
  {
   "cell_type": "markdown",
   "metadata": {},
   "source": [
    "### Import all books from nltk.book. Check how many times the word knight appears in text6 (Monty Python) and text7 (Wall Street Journal)."
   ]
  },
  {
   "cell_type": "code",
   "execution_count": 8,
   "metadata": {},
   "outputs": [
    {
     "name": "stdout",
     "output_type": "stream",
     "text": [
      "*** Introductory Examples for the NLTK Book ***\n",
      "Loading text1, ..., text9 and sent1, ..., sent9\n",
      "Type the name of the text or sentence to view it.\n",
      "Type: 'texts()' or 'sents()' to list the materials.\n",
      "text1: Moby Dick by Herman Melville 1851\n",
      "text2: Sense and Sensibility by Jane Austen 1811\n",
      "text3: The Book of Genesis\n",
      "text4: Inaugural Address Corpus\n",
      "text5: Chat Corpus\n",
      "text6: Monty Python and the Holy Grail\n",
      "text7: Wall Street Journal\n",
      "text8: Personals Corpus\n",
      "text9: The Man Who Was Thursday by G . K . Chesterton 1908\n"
     ]
    }
   ],
   "source": [
    "from nltk.book import *"
   ]
  },
  {
   "cell_type": "code",
   "execution_count": 9,
   "metadata": {},
   "outputs": [
    {
     "name": "stdout",
     "output_type": "stream",
     "text": [
      "5\n",
      "1\n"
     ]
    }
   ],
   "source": [
    "print(text6.count(\"knight\"))\n",
    "print(text7.count(\"knight\"))"
   ]
  },
  {
   "cell_type": "markdown",
   "metadata": {},
   "source": [
    "### Import all books from nltk.book. Construct a set of words that appear in text6 (Monty Python) but do not appear in text7 (Wall Street Journal)."
   ]
  },
  {
   "cell_type": "code",
   "execution_count": 10,
   "metadata": {},
   "outputs": [],
   "source": [
    "text6Set = set(text6)\n",
    "text7Set = set(text7)\n",
    "wordsIn6NotIn7 = set()\n",
    "for word in text6Set:\n",
    "    if word not in text7Set:\n",
    "        wordsIn6NotIn7.add(word)\n",
    "        \n",
    "#wordsIn6NotIn7"
   ]
  },
  {
   "cell_type": "markdown",
   "metadata": {},
   "source": [
    "### Import all books from nltk.book. Construct a set of words that appear in all texts text1 - text9."
   ]
  },
  {
   "cell_type": "code",
   "execution_count": 11,
   "metadata": {},
   "outputs": [],
   "source": [
    "\"\"\"Yeah, you could do it with some kinf od loop intsead of flat out giving 9 arguments\n",
    "It's a bad practice, I know\n",
    "I'm just to lazy to figure it out :P \"\"\"\n",
    "setOfAllWords = set()\n",
    "setOfAllWords = set(text1) ^ set(text2) ^ set(text3) ^ set(text4) ^ set(text5) ^ set(text6) ^ set(text7) ^ set(text8) ^set(text9)\n",
    "#setOfAllWords"
   ]
  },
  {
   "cell_type": "markdown",
   "metadata": {},
   "source": [
    "### Find the longest sentence in text2."
   ]
  },
  {
   "cell_type": "code",
   "execution_count": 12,
   "metadata": {},
   "outputs": [],
   "source": [
    "\"\"\"Not perfect solution - losing spaces in the process\"\"\"\n",
    "words = list(text1)\n",
    "text = \"\".join(words)\n",
    "sentences = text.split(\".\")\n",
    "longest = sentences[0]\n",
    "lengthOfLongest = len(sentences[0])\n",
    "for sentence in sentences:\n",
    "    if len(sentence) > lengthOfLongest:\n",
    "        lengthOfLongest = len(sentence)\n",
    "        longest = sentence\n",
    "        \n",
    "#longest"
   ]
  }
 ],
 "metadata": {
  "kernelspec": {
   "display_name": "Python 3",
   "language": "python",
   "name": "python3"
  },
  "language_info": {
   "codemirror_mode": {
    "name": "ipython",
    "version": 3
   },
   "file_extension": ".py",
   "mimetype": "text/x-python",
   "name": "python",
   "nbconvert_exporter": "python",
   "pygments_lexer": "ipython3",
   "version": "3.7.1"
  }
 },
 "nbformat": 4,
 "nbformat_minor": 2
}
