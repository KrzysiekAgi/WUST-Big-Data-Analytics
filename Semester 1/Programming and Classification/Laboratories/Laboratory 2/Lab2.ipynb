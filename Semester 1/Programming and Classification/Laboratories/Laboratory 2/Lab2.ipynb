{
 "cells": [
  {
   "cell_type": "markdown",
   "metadata": {},
   "source": [
    "# Programming and Classification:\n",
    "## 2. Python Programming Language (lists, dictionaries, NLTK)"
   ]
  },
  {
   "cell_type": "markdown",
   "metadata": {},
   "source": [
    "### @author Krzysztof Agieńczuk\n",
    "This notebook is available under the beerware license for educational purposes"
   ]
  },
  {
   "cell_type": "code",
   "execution_count": 1,
   "metadata": {},
   "outputs": [
    {
     "name": "stdout",
     "output_type": "stream",
     "text": [
      "showing info https://raw.githubusercontent.com/nltk/nltk_data/gh-pages/index.xml\n"
     ]
    },
    {
     "data": {
      "text/plain": [
       "True"
      ]
     },
     "execution_count": 1,
     "metadata": {},
     "output_type": "execute_result"
    }
   ],
   "source": [
    "import random\n",
    "import string\n",
    "import nltk\n",
    "nltk.download()"
   ]
  },
  {
   "cell_type": "markdown",
   "metadata": {},
   "source": [
    "### From given list of integers remove all negative numbers"
   ]
  },
  {
   "cell_type": "code",
   "execution_count": 2,
   "metadata": {},
   "outputs": [
    {
     "ename": "NameError",
     "evalue": "name 'integersToBeFiltered' is not defined",
     "output_type": "error",
     "traceback": [
      "\u001b[1;31m---------------------------------------------------------------------------\u001b[0m",
      "\u001b[1;31mNameError\u001b[0m                                 Traceback (most recent call last)",
      "\u001b[1;32m<ipython-input-2-3c3c9487e5ef>\u001b[0m in \u001b[0;36m<module>\u001b[1;34m\u001b[0m\n\u001b[0;32m      1\u001b[0m \u001b[1;32mfor\u001b[0m \u001b[0mi\u001b[0m \u001b[1;32min\u001b[0m \u001b[0mrange\u001b[0m\u001b[1;33m(\u001b[0m\u001b[1;36m50\u001b[0m\u001b[1;33m)\u001b[0m\u001b[1;33m:\u001b[0m\u001b[1;33m\u001b[0m\u001b[1;33m\u001b[0m\u001b[0m\n\u001b[1;32m----> 2\u001b[1;33m     \u001b[0mintegersToBeFiltered\u001b[0m\u001b[1;33m.\u001b[0m\u001b[0mappend\u001b[0m\u001b[1;33m(\u001b[0m\u001b[0mint\u001b[0m\u001b[1;33m(\u001b[0m\u001b[0mrandom\u001b[0m\u001b[1;33m.\u001b[0m\u001b[0muniform\u001b[0m\u001b[1;33m(\u001b[0m\u001b[1;33m-\u001b[0m\u001b[1;36m50\u001b[0m\u001b[1;33m,\u001b[0m\u001b[1;36m50\u001b[0m\u001b[1;33m)\u001b[0m\u001b[1;33m)\u001b[0m\u001b[1;33m)\u001b[0m\u001b[1;33m\u001b[0m\u001b[1;33m\u001b[0m\u001b[0m\n\u001b[0m\u001b[0;32m      3\u001b[0m \u001b[1;33m\u001b[0m\u001b[0m\n\u001b[0;32m      4\u001b[0m \u001b[0mfilteredIntegers\u001b[0m \u001b[1;33m=\u001b[0m \u001b[1;33m[\u001b[0m\u001b[0minteger\u001b[0m \u001b[1;32mfor\u001b[0m \u001b[0minteger\u001b[0m \u001b[1;32min\u001b[0m \u001b[0mintegersToBeFiltered\u001b[0m \u001b[1;32mif\u001b[0m \u001b[0minteger\u001b[0m \u001b[1;33m>=\u001b[0m \u001b[1;36m0\u001b[0m \u001b[1;33m]\u001b[0m\u001b[1;33m\u001b[0m\u001b[1;33m\u001b[0m\u001b[0m\n\u001b[0;32m      5\u001b[0m \u001b[1;31m#for integer in filteredIntegers:\u001b[0m\u001b[1;33m\u001b[0m\u001b[1;33m\u001b[0m\u001b[1;33m\u001b[0m\u001b[0m\n",
      "\u001b[1;31mNameError\u001b[0m: name 'integersToBeFiltered' is not defined"
     ]
    }
   ],
   "source": [
    "integersToBeFiltered = []\n",
    "for i in range(50):\n",
    "    integersToBeFiltered.append(int(random.uniform(-50,50)))\n",
    "    \n",
    "filteredIntegers = [integer for integer in integersToBeFiltered if integer >= 0 ]\n",
    "#for integer in filteredIntegers:\n",
    "#    print(integer)"
   ]
  },
  {
   "cell_type": "markdown",
   "metadata": {},
   "source": [
    "### From list of strings remove all strings longer than 5"
   ]
  },
  {
   "cell_type": "code",
   "execution_count": null,
   "metadata": {},
   "outputs": [],
   "source": [
    "# just to make it more pronounceable\n",
    "def randomWord(length=5):\n",
    "    consonants=\"bcdfghjklmnpqrstvwxyz\"\n",
    "    vowels=\"aeiou\"\n",
    "    return \"\".join(random.choice((consonants,vowels)[i%2]) for i in range(length))\n",
    "\n",
    "randomStrings = (randomWord(i) for i in range(10))\n",
    "filteredStrings = [string for string in randomStrings if len(string)<=5]\n",
    "for string in filteredStrings: \n",
    "    print(string)"
   ]
  },
  {
   "cell_type": "markdown",
   "metadata": {},
   "source": [
    "### Construct a function that returns a string of maximal length from a set of strings. Note that the the maximal string does not have to be unique."
   ]
  },
  {
   "cell_type": "code",
   "execution_count": null,
   "metadata": {},
   "outputs": [],
   "source": [
    "setOfStrings=set()\n",
    "for i in range(10):\n",
    "    setOfStrings.add(randomWord(int(random.uniform(2,10))))\n",
    "\n",
    "max(setOfStrings, key=len)"
   ]
  },
  {
   "cell_type": "markdown",
   "metadata": {},
   "source": [
    "### Construct a function that constructs a list that keeps alternately consecutive elements from two argument lists of equal length. For example, for a=[a1,a2,a3] and a=[b1,b2,b3] the correct output is [a1,b1,a2,b2,a3,b3] ."
   ]
  },
  {
   "cell_type": "code",
   "execution_count": null,
   "metadata": {},
   "outputs": [],
   "source": [
    "odds = [number for number in range(100) if number%2 != 0]\n",
    "evens = [number for number in range(100) if number%2 == 0]\n",
    "allNumbers = []\n",
    "\n",
    "for i in range(len(odds)):\n",
    "    allNumbers.append(evens[i])\n",
    "    allNumbers.append(odds[i])\n",
    "    \n",
    "#for i in range(len(allNumbers)):\n",
    "#    print(allNumbers[i])"
   ]
  },
  {
   "cell_type": "markdown",
   "metadata": {},
   "source": [
    "### A list contains both integers and strings. Construct a function that sorts given list in such a way that at the beginning of the resulting list one gets strings in alphabetical order followed by integers in an increasing order."
   ]
  },
  {
   "cell_type": "code",
   "execution_count": null,
   "metadata": {},
   "outputs": [],
   "source": [
    "elementsToBeSorted = [1,5,2,\"string\", 32,\"element\",9,4,\"a\"]\n",
    "sortedStrings = sorted([element for element in elementsToBeSorted if type(element) is str])\n",
    "sortedInts = sorted([element for element in elementsToBeSorted if type(element) is int])\n",
    "sortedElements = sortedStrings + sortedInts\n",
    "#sortedElements"
   ]
  },
  {
   "cell_type": "markdown",
   "metadata": {},
   "source": [
    "### Construct a dictionary that assigns each user (represented as a string) his address (string). Sort and list this dictionary by the addresses. Use lambda function."
   ]
  },
  {
   "cell_type": "code",
   "execution_count": null,
   "metadata": {},
   "outputs": [],
   "source": [
    "users = {\"admin\":\"admin@admin.com\", \"user1\":\"zuser1@gmail.com\", \"user2\":\"auser2@gmail.com\", \"user3\":\"user3@gmail.com\"}\n",
    "sort = sorted(users.items(), key=lambda kv: kv[1])\n",
    "sort"
   ]
  },
  {
   "cell_type": "markdown",
   "metadata": {},
   "source": [
    "### Import all books from nltk.book. Check how many times the word knight appears in text6 (Monty Python) and text7 (Wall Street Journal)."
   ]
  },
  {
   "cell_type": "code",
   "execution_count": null,
   "metadata": {},
   "outputs": [],
   "source": [
    "from nltk.book import *"
   ]
  },
  {
   "cell_type": "code",
   "execution_count": null,
   "metadata": {},
   "outputs": [],
   "source": [
    "print(text6.count(\"knight\"))\n",
    "print(text7.count(\"knight\"))"
   ]
  },
  {
   "cell_type": "markdown",
   "metadata": {},
   "source": [
    "### Import all books from nltk.book. Construct a set of words that appear in text6 (Monty Python) but do not appear in text7 (Wall Street Journal)."
   ]
  },
  {
   "cell_type": "code",
   "execution_count": null,
   "metadata": {},
   "outputs": [],
   "source": [
    "text6Set = set(text6)\n",
    "text7Set = set(text7)\n",
    "wordsIn6NotIn7 = set()\n",
    "for word in text6Set:\n",
    "    if word not in text7Set:\n",
    "        wordsIn6NotIn7.add(word)\n",
    "        \n",
    "#wordsIn6NotIn7"
   ]
  },
  {
   "cell_type": "markdown",
   "metadata": {},
   "source": [
    "### Import all books from nltk.book. Construct a set of words that appear in all texts text1 - text9."
   ]
  },
  {
   "cell_type": "code",
   "execution_count": null,
   "metadata": {},
   "outputs": [],
   "source": [
    "\"\"\"Yeah, you could do it with some kinf od loop intsead of flat out giving 9 arguments\n",
    "It's a bad practice, I know\n",
    "I'm just to lazy to figure it out :P \"\"\"\n",
    "setOfAllWords = set()\n",
    "setOfAllWords = set(text1) ^ set(text2) ^ set(text3) ^ set(text4) ^ set(text5) ^ set(text6) ^ set(text7) ^ set(text8) ^set(text9)\n",
    "#setOfAllWords"
   ]
  },
  {
   "cell_type": "markdown",
   "metadata": {},
   "source": [
    "### Find the longest sentence in text2."
   ]
  },
  {
   "cell_type": "code",
   "execution_count": null,
   "metadata": {},
   "outputs": [],
   "source": [
    "\"\"\"Not perfect solution - losing spaces in the process\"\"\"\n",
    "words = list(text1)\n",
    "text = \"\".join(words)\n",
    "sentences = text.split(\".\")\n",
    "longest = sentences[0]\n",
    "lengthOfLongest = len(sentences[0])\n",
    "for sentence in sentences:\n",
    "    if len(sentence) > lengthOfLongest:\n",
    "        lengthOfLongest = len(sentence)\n",
    "        longest = sentence\n",
    "        \n",
    "#longest"
   ]
  }
 ],
 "metadata": {
  "kernelspec": {
   "display_name": "Python 3",
   "language": "python",
   "name": "python3"
  },
  "language_info": {
   "codemirror_mode": {
    "name": "ipython",
    "version": 3
   },
   "file_extension": ".py",
   "mimetype": "text/x-python",
   "name": "python",
   "nbconvert_exporter": "python",
   "pygments_lexer": "ipython3",
   "version": "3.7.1"
  }
 },
 "nbformat": 4,
 "nbformat_minor": 2
}
