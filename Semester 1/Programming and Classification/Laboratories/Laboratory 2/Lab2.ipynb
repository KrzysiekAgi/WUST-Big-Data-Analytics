{
 "cells": [
  {
   "cell_type": "markdown",
   "metadata": {},
   "source": [
    "# Programming and Classification:\n",
    "## 2. Python Programming Language (lists, dictionaries, NLTK)"
   ]
  },
  {
   "cell_type": "markdown",
   "metadata": {},
   "source": [
    "### @author Krzysztof Agieńczuk\n",
    "This notebook is available under the beerware license for educational purposes"
   ]
  },
  {
   "cell_type": "code",
   "execution_count": 2,
   "metadata": {},
   "outputs": [
    {
     "name": "stdout",
     "output_type": "stream",
     "text": [
      "showing info https://raw.githubusercontent.com/nltk/nltk_data/gh-pages/index.xml\n"
     ]
    },
    {
     "data": {
      "text/plain": [
       "True"
      ]
     },
     "execution_count": 2,
     "metadata": {},
     "output_type": "execute_result"
    }
   ],
   "source": [
    "import random\n",
    "import string\n",
    "import nltk\n",
    "nltk.download()"
   ]
  },
  {
   "cell_type": "markdown",
   "metadata": {},
   "source": [
    "### From given list of integers remove all negative numbers"
   ]
  },
  {
   "cell_type": "code",
   "execution_count": 10,
   "metadata": {},
   "outputs": [
    {
     "name": "stdout",
     "output_type": "stream",
     "text": [
      "40\n",
      "47\n",
      "0\n",
      "36\n",
      "15\n",
      "10\n",
      "3\n",
      "48\n",
      "13\n",
      "27\n",
      "16\n",
      "12\n",
      "22\n",
      "48\n",
      "15\n",
      "5\n",
      "38\n",
      "27\n",
      "29\n",
      "29\n",
      "27\n",
      "32\n",
      "30\n",
      "4\n",
      "7\n",
      "30\n",
      "0\n"
     ]
    }
   ],
   "source": [
    "#integersToBeFiltered = []\n",
    "#for i in range(50):\n",
    "#    integersToBeFiltered.append(int(random.uniform(-50,50)))\n",
    "#    print(integersToBeFiltered[i])\n",
    "    \n",
    "    \n",
    "filteredIntegers = [integer for integer in integersToBeFiltered if integer >= 0 ]\n",
    "for integer in filteredIntegers:\n",
    "    print(integer)"
   ]
  },
  {
   "cell_type": "markdown",
   "metadata": {},
   "source": [
    "### From list of strings remove all strings longer than 5"
   ]
  },
  {
   "cell_type": "code",
   "execution_count": 11,
   "metadata": {},
   "outputs": [
    {
     "name": "stdout",
     "output_type": "stream",
     "text": [
      "\n",
      "d\n",
      "zi\n",
      "waf\n",
      "jaya\n",
      "selej\n"
     ]
    }
   ],
   "source": [
    "# just to make it more pronounceable\n",
    "def randomWord(length=5):\n",
    "    consonants=\"bcdfghjklmnpqrstvwxyz\"\n",
    "    vowels=\"aeiou\"\n",
    "    return \"\".join(random.choice((consonants,vowels)[i%2]) for i in range(length))\n",
    "\n",
    "randomStrings = (randomWord(i) for i in range(10))\n",
    "filteredStrings = [string for string in randomStrings if len(string)<=5]\n",
    "for string in filteredStrings: \n",
    "    print(string)"
   ]
  },
  {
   "cell_type": "markdown",
   "metadata": {},
   "source": [
    "### Construct a function that returns a string of maximal length from a set of strings. Note that the the maximal string does not have to be unique."
   ]
  },
  {
   "cell_type": "code",
   "execution_count": 12,
   "metadata": {},
   "outputs": [
    {
     "data": {
      "text/plain": [
       "'fasasef'"
      ]
     },
     "execution_count": 12,
     "metadata": {},
     "output_type": "execute_result"
    }
   ],
   "source": [
    "setOfStrings=set()\n",
    "for i in range(10):\n",
    "    setOfStrings.add(randomWord(int(random.uniform(2,10))))\n",
    "\n",
    "max(setOfStrings, key=len)"
   ]
  },
  {
   "cell_type": "markdown",
   "metadata": {},
   "source": [
    "### Construct a function that constructs a list that keeps alternately consecutive elements from two argument lists of equal length. For example, for a=[a1,a2,a3] and a=[b1,b2,b3] the correct output is [a1,b1,a2,b2,a3,b3] ."
   ]
  },
  {
   "cell_type": "code",
   "execution_count": 13,
   "metadata": {},
   "outputs": [
    {
     "name": "stdout",
     "output_type": "stream",
     "text": [
      "0\n",
      "1\n",
      "2\n",
      "3\n",
      "4\n",
      "5\n",
      "6\n",
      "7\n",
      "8\n",
      "9\n",
      "10\n",
      "11\n",
      "12\n",
      "13\n",
      "14\n",
      "15\n",
      "16\n",
      "17\n",
      "18\n",
      "19\n",
      "20\n",
      "21\n",
      "22\n",
      "23\n",
      "24\n",
      "25\n",
      "26\n",
      "27\n",
      "28\n",
      "29\n",
      "30\n",
      "31\n",
      "32\n",
      "33\n",
      "34\n",
      "35\n",
      "36\n",
      "37\n",
      "38\n",
      "39\n",
      "40\n",
      "41\n",
      "42\n",
      "43\n",
      "44\n",
      "45\n",
      "46\n",
      "47\n",
      "48\n",
      "49\n",
      "50\n",
      "51\n",
      "52\n",
      "53\n",
      "54\n",
      "55\n",
      "56\n",
      "57\n",
      "58\n",
      "59\n",
      "60\n",
      "61\n",
      "62\n",
      "63\n",
      "64\n",
      "65\n",
      "66\n",
      "67\n",
      "68\n",
      "69\n",
      "70\n",
      "71\n",
      "72\n",
      "73\n",
      "74\n",
      "75\n",
      "76\n",
      "77\n",
      "78\n",
      "79\n",
      "80\n",
      "81\n",
      "82\n",
      "83\n",
      "84\n",
      "85\n",
      "86\n",
      "87\n",
      "88\n",
      "89\n",
      "90\n",
      "91\n",
      "92\n",
      "93\n",
      "94\n",
      "95\n",
      "96\n",
      "97\n",
      "98\n",
      "99\n"
     ]
    }
   ],
   "source": [
    "odds = [number for number in range(100) if number%2 != 0]\n",
    "evens = [number for number in range(100) if number%2 == 0]\n",
    "allNumbers = []\n",
    "\n",
    "for i in range(len(odds)):\n",
    "    allNumbers.append(evens[i])\n",
    "    allNumbers.append(odds[i])\n",
    "    \n",
    "for i in range(len(allNumbers)):\n",
    "    print(allNumbers[i])"
   ]
  },
  {
   "cell_type": "markdown",
   "metadata": {},
   "source": [
    "### A list contains both integers and strings. Construct a function that sorts given list in such a way that at the beginning of the resulting list one gets strings in alphabetical order followed by integers in an increasing order."
   ]
  },
  {
   "cell_type": "code",
   "execution_count": 14,
   "metadata": {},
   "outputs": [
    {
     "data": {
      "text/plain": [
       "['a', 'element', 'string', 1, 2, 4, 5, 9, 32]"
      ]
     },
     "execution_count": 14,
     "metadata": {},
     "output_type": "execute_result"
    }
   ],
   "source": [
    "elementsToBeSorted = [1,5,2,\"string\", 32,\"element\",9,4,\"a\"]\n",
    "sortedStrings = sorted([element for element in elementsToBeSorted if type(element) is str])\n",
    "sortedInts = sorted([element for element in elementsToBeSorted if type(element) is int])\n",
    "sortedElements = sortedStrings + sortedInts\n",
    "sortedElements"
   ]
  },
  {
   "cell_type": "markdown",
   "metadata": {},
   "source": [
    "### Construct a dictionary that assigns each user (represented as a string) his address (string). Sort and list this dictionary by the addresses. Use lambda function."
   ]
  },
  {
   "cell_type": "code",
   "execution_count": 16,
   "metadata": {},
   "outputs": [
    {
     "data": {
      "text/plain": [
       "[('user2', 'auser2@gmail.com'),\n",
       " ('user3', 'user3@gmail.com'),\n",
       " ('admin', 'zdmin@admin.com'),\n",
       " ('user1', 'zuser1@gmail.com')]"
      ]
     },
     "execution_count": 16,
     "metadata": {},
     "output_type": "execute_result"
    }
   ],
   "source": [
    "users = {\"admin\":\"zdmin@admin.com\", \"user1\":\"zuser1@gmail.com\", \"user2\":\"auser2@gmail.com\", \"user3\":\"user3@gmail.com\"}\n",
    "sort = sorted(users.items(), key=lambda kv: kv[1])\n",
    "sort"
   ]
  },
  {
   "cell_type": "markdown",
   "metadata": {},
   "source": [
    "### Import all books from nltk.book. Check how many times the word knight appears in text6 (Monty Python) and text7 (Wall Street Journal)."
   ]
  },
  {
   "cell_type": "code",
   "execution_count": 26,
   "metadata": {},
   "outputs": [],
   "source": [
    "from nltk.book import *"
   ]
  },
  {
   "cell_type": "code",
   "execution_count": 46,
   "metadata": {},
   "outputs": [
    {
     "name": "stdout",
     "output_type": "stream",
     "text": [
      "84\n",
      "1\n",
      "Displaying 25 of 84 matches:\n",
      ": Man ! ARTHUR : Man . Sorry . What knight live in that castle over there ? DE\n",
      "rthur music ] [ music stops ] BLACK KNIGHT : Aaagh ! [ King Arthur music ] [ m\n",
      "rthur music ] [ music stops ] BLACK KNIGHT : Aaagh ! GREEN KNIGHT : Ooh ! [ Ki\n",
      "tops ] BLACK KNIGHT : Aaagh ! GREEN KNIGHT : Ooh ! [ King Arthur music ] [ mus\n",
      "ic ] [ music stops ] [ stab ] BLACK KNIGHT : Aagh ! GREEN KNIGHT : Oh ! [ King\n",
      " stab ] BLACK KNIGHT : Aagh ! GREEN KNIGHT : Oh ! [ King Arthur music ] Ooh ! \n",
      "music ] Ooh ! [ music stops ] BLACK KNIGHT : Aaagh ! [ clang ] BLACK KNIGHT an\n",
      "CK KNIGHT : Aaagh ! [ clang ] BLACK KNIGHT and GREEN KNIGHT : Agh !, oh !, etc\n",
      " ! [ clang ] BLACK KNIGHT and GREEN KNIGHT : Agh !, oh !, etc . GREEN KNIGHT :\n",
      "N KNIGHT : Agh !, oh !, etc . GREEN KNIGHT : Aaaaaah ! Aaaaaaaaah ! [ woosh ] \n",
      "ah ! Aaaaaaaaah ! [ woosh ] [ BLACK KNIGHT kills GREEN KNIGHT ] [ thud ] [ scr\n",
      " woosh ] [ BLACK KNIGHT kills GREEN KNIGHT ] [ thud ] [ scrape ] BLACK KNIGHT \n",
      " KNIGHT ] [ thud ] [ scrape ] BLACK KNIGHT : Umm ! [ clop clop clop ] ARTHUR :\n",
      "with the strength of many men , Sir Knight . [ pause ] I am Arthur , King of t\n",
      "d . So be it . Come , Patsy . BLACK KNIGHT : None shall pass . ARTHUR : What ?\n",
      " shall pass . ARTHUR : What ? BLACK KNIGHT : None shall pass . ARTHUR : I have\n",
      "have no quarrel with you , good Sir Knight , but I must cross this bridge . BL\n",
      "ut I must cross this bridge . BLACK KNIGHT : Then you shall die . ARTHUR : I c\n",
      "he Britons , to stand aside ! BLACK KNIGHT : I move for no man . ARTHUR : So b\n",
      "RTHUR : So be it ! ARTHUR and BLACK KNIGHT : Aaah !, hiyaah !, etc . [ ARTHUR \n",
      "h !, etc . [ ARTHUR chops the BLACK KNIGHT ' s left arm off ] ARTHUR : Now sta\n",
      "nd aside , worthy adversary . BLACK KNIGHT : ' Tis but a scratch . ARTHUR : A \n",
      " scratch ? Your arm ' s off ! BLACK KNIGHT : No , it isn ' t . ARTHUR : Well ,\n",
      ": Well , what ' s that then ? BLACK KNIGHT : I ' ve had worse . ARTHUR : You l\n",
      "d worse . ARTHUR : You liar ! BLACK KNIGHT : Come on , you pansy ! [ clang ] H\n"
     ]
    }
   ],
   "source": [
    "print(text6.count(\"Knight\") + text6.count(\"knight\") + text6.count(\"KNIGHT\"))\n",
    "print(text7.count(\"knight\"))\n",
    "text6.concordance(\"knight\")"
   ]
  },
  {
   "cell_type": "markdown",
   "metadata": {},
   "source": [
    "### Import all books from nltk.book. Construct a set of words that appear in text6 (Monty Python) but do not appear in text7 (Wall Street Journal)."
   ]
  },
  {
   "cell_type": "code",
   "execution_count": 23,
   "metadata": {},
   "outputs": [],
   "source": [
    "text6Set = set(text6)\n",
    "text7Set = set(text7)\n",
    "wordsIn6NotIn7 = set()\n",
    "for word in text6Set:\n",
    "    if word not in text7Set:\n",
    "        wordsIn6NotIn7.add(word)\n",
    "        \n",
    "#wordsIn6NotIn7"
   ]
  },
  {
   "cell_type": "markdown",
   "metadata": {},
   "source": [
    "### Import all books from nltk.book. Construct a set of words that appear in all texts text1 - text9."
   ]
  },
  {
   "cell_type": "code",
   "execution_count": 44,
   "metadata": {},
   "outputs": [
    {
     "name": "stdout",
     "output_type": "stream",
     "text": [
      "Displaying 1 of 1 matches:\n",
      "ost the contract to Fujitsu , which *T*-139 made the same bid and won a tie-bre\n"
     ]
    }
   ],
   "source": [
    "\"\"\"Yeah, you could do it with some kind of loop intsead of flat out giving 9 arguments\n",
    "It's a bad practice, I know\n",
    "I'm just too lazy to figure it out :P \"\"\"\n",
    "setOfAllWords = set()\n",
    "setOfAllWords = set(text1) ^ set(text2) ^ set(text3) ^ set(text4) ^ set(text5) ^ set(text6) ^ set(text7) ^ set(text8) ^set(text9)\n",
    "#setOfAllWords\n",
    "text7.concordance(\"*T*-139\")"
   ]
  },
  {
   "cell_type": "markdown",
   "metadata": {},
   "source": [
    "### Find the longest sentence in text2."
   ]
  },
  {
   "cell_type": "code",
   "execution_count": 5,
   "metadata": {},
   "outputs": [
    {
     "data": {
      "text/plain": [
       "' Though in many natural objects , whiteness refiningly enhances beauty , as if imparting some special virtue of its own , as in marbles , japonicas , and pearls ; and though various nations have in some way recognised a certain royal preeminence in this hue ; even the barbaric , grand old kings of Pegu placing the title \" Lord of the White Elephants \" above all their other magniloquent ascriptions of dominion ; and the modern kings of Siam unfurling the same snow - white quadruped in the royal standard ; and the Hanoverian flag bearing the one figure of a snow - white charger ; and the great Austrian Empire , Caesarian , heir to overlording Rome , having for the imperial colour the same imperial hue ; and though this pre - eminence in it applies to the human race itself , giving the white man ideal mastership over every dusky tribe ; and though , besides , all this , whiteness has been even made significant of gladness , for among the Romans a white stone marked a joyful day ; and though in other mortal sympathies and symbolizings , this same hue is made the emblem of many touching , noble things -- the innocence of brides , the benignity of age ; though among the Red Men of America the giving of the white belt of wampum was the deepest pledge of honour ; though in many climes , whiteness typifies the majesty of Justice in the ermine of the Judge , and contributes to the daily state of kings and queens drawn by milk - white steeds ; though even in the higher mysteries of the most august religions it has been made the symbol of the divine spotlessness and power ; by the Persian fire worshippers , the white forked flame being held the holiest on the altar ; and in the Greek mythologies , Great Jove himself being made incarnate in a snow - white bull ; and though to the noble Iroquois , the midwinter sacrifice of the sacred White Dog was by far the holiest festival of their theology , that spotless , faithful creature being held the purest envoy they could send to the Great Spirit with the annual tidings of their own fidelity ; and though directly from the Latin word for white , all Christian priests derive the name of one part of their sacred vesture , the alb or tunic , worn beneath the cassock ; and though among the holy pomps of the Romish faith , white is specially employed in the celebration of the Passion of our Lord ; though in the Vision of St '"
      ]
     },
     "execution_count": 5,
     "metadata": {},
     "output_type": "execute_result"
    }
   ],
   "source": [
    "\"\"\"Not perfect solution - losing spaces in the process\"\"\"\n",
    "words = list(text1)\n",
    "text = \" \".join(words)\n",
    "sentences = text.split(\".\")\n",
    "longest = sentences[0]\n",
    "lengthOfLongest = len(sentences[0])\n",
    "for sentence in sentences:\n",
    "    if len(sentence) > lengthOfLongest:\n",
    "        lengthOfLongest = len(sentence)\n",
    "        longest = sentence\n",
    "        \n",
    "longest"
   ]
  }
 ],
 "metadata": {
  "kernelspec": {
   "display_name": "Python 3",
   "language": "python",
   "name": "python3"
  },
  "language_info": {
   "codemirror_mode": {
    "name": "ipython",
    "version": 3
   },
   "file_extension": ".py",
   "mimetype": "text/x-python",
   "name": "python",
   "nbconvert_exporter": "python",
   "pygments_lexer": "ipython3",
   "version": "3.7.1"
  }
 },
 "nbformat": 4,
 "nbformat_minor": 2
}
