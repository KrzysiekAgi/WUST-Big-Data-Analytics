{
 "cells": [
  {
   "cell_type": "markdown",
   "metadata": {},
   "source": [
    "# Programming and Classification:\n",
    "## 4. Similarity"
   ]
  },
  {
   "cell_type": "markdown",
   "metadata": {},
   "source": [
    "### @author Krzysztof Agieńczuk\n",
    "This notebook is available under the beerware license for educational purposes"
   ]
  },
  {
   "cell_type": "code",
   "execution_count": 53,
   "metadata": {},
   "outputs": [],
   "source": [
    "import nltk\n",
    "from nltk import ngrams\n",
    "import random\n",
    "import hashlib\n",
    "import string\n",
    "import sys\n",
    "from datasketch import MinHash, MinHashLSH\n",
    "#nltk.download()"
   ]
  },
  {
   "cell_type": "markdown",
   "metadata": {},
   "source": [
    "31. Generate a set S of n random bitstrings of length 100. Find min x,y∈S sha-1(x\\\\y), where x\\\\y denotes concatenation of bitstrings x and y. Estimate, what is the maximal n for this task that can be handled by your computer?"
   ]
  },
  {
   "cell_type": "code",
   "execution_count": 40,
   "metadata": {},
   "outputs": [
    {
     "name": "stdout",
     "output_type": "stream",
     "text": [
      "779143632613082241533972178276328115952401783975\n"
     ]
    }
   ],
   "source": [
    "def generateBitString():\n",
    "    bits = \"01\"\n",
    "    return ''.join(random.choice(bits) for i in range(100))\n",
    "    \n",
    "amount = 15000\n",
    "listOfStrings = list()\n",
    "for i in range(amount):\n",
    "    listOfStrings.append(generateBitString())\n",
    "    \n",
    "minimal = sys.float_info.max\n",
    "hashFunction = hashlib.sha1()\n",
    "for string in listOfStrings:\n",
    "    hashFunction.update(string.encode('utf-8'))\n",
    "    numericHash = int(hashFunction.hexdigest(), 16)\n",
    "    if minimal > numericHash:\n",
    "        minimal = numericHash\n",
    "print(numericHash)"
   ]
  },
  {
   "cell_type": "markdown",
   "metadata": {},
   "source": [
    "32. (use NLTK). Let S1, S2, S3 be the sets of all words shorter than 8 letters from text1,text2, text3, respectively. Compute signatures for S1, S2, S3 represented by 100 minhashes and then estimate Jaccard similarity between each pair of S1, S2, S3."
   ]
  },
  {
   "cell_type": "code",
   "execution_count": 42,
   "metadata": {},
   "outputs": [],
   "source": [
    "from nltk.book import *"
   ]
  },
  {
   "cell_type": "code",
   "execution_count": 64,
   "metadata": {},
   "outputs": [
    {
     "name": "stdout",
     "output_type": "stream",
     "text": [
      "Estimated Jaccard for S1 and S2 is 0.9765625\n",
      "Estimated Jaccard for S1 and S3 is 0.796875\n",
      "Estimated Jaccard for S2 and S3 is 0.796875\n"
     ]
    }
   ],
   "source": [
    "def chooseWords(S):\n",
    "    wordsToConsider = set()\n",
    "    for word in S:\n",
    "        if len(word)<8:\n",
    "            wordsToConsider.update(word)\n",
    "    return wordsToConsider\n",
    "            \n",
    "S1 = chooseWords(set(text1))\n",
    "S2 = chooseWords(set(text2))\n",
    "S3 = chooseWords(set(text3))\n",
    "\n",
    "m1, m2, m3 = MinHash(), MinHash(), MinHash()\n",
    "for d in S1:\n",
    "    m1.update(d.encode('utf8'))\n",
    "for d in S2:\n",
    "    m2.update(d.encode('utf8'))\n",
    "for d in S3:\n",
    "    m3.update(d.encode('utf-8'))\n",
    "print(\"Estimated Jaccard for S1 and S2 is\", m1.jaccard(m2))\n",
    "print(\"Estimated Jaccard for S1 and S3 is\", m1.jaccard(m3))\n",
    "print(\"Estimated Jaccard for S2 and S3 is\", m2.jaccard(m3))"
   ]
  },
  {
   "cell_type": "markdown",
   "metadata": {},
   "source": [
    "33. Compare the results from the previous exercise with the exact Jaccard similarity of sets S1, S2, S3. What if random permutation of the characteristic matrix rows were replaced with a random mapping?"
   ]
  },
  {
   "cell_type": "code",
   "execution_count": 65,
   "metadata": {},
   "outputs": [
    {
     "name": "stdout",
     "output_type": "stream",
     "text": [
      "0.9493670886075949\n",
      "0.7435897435897436\n",
      "0.7402597402597403\n"
     ]
    }
   ],
   "source": [
    "def jaccardSimilaritySets(element1, element2):\n",
    "    if element2 == []:\n",
    "        return \"empty\"\n",
    "    intersection = set(element1).intersection(set(element2))\n",
    "    union = set(element1).union(set(element2))\n",
    "    return float(len(intersection)/len(union))\n",
    "\n",
    "print(jaccardSimilaritySets(S1, S2))\n",
    "print(jaccardSimilaritySets(S1, S3))\n",
    "print(jaccardSimilaritySets(S2, S3))"
   ]
  }
 ],
 "metadata": {
  "kernelspec": {
   "display_name": "Python 3",
   "language": "python",
   "name": "python3"
  },
  "language_info": {
   "codemirror_mode": {
    "name": "ipython",
    "version": 3
   },
   "file_extension": ".py",
   "mimetype": "text/x-python",
   "name": "python",
   "nbconvert_exporter": "python",
   "pygments_lexer": "ipython3",
   "version": "3.7.1"
  }
 },
 "nbformat": 4,
 "nbformat_minor": 2
}
