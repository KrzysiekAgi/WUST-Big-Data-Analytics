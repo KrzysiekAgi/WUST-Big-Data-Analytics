{
 "cells": [
  {
   "cell_type": "markdown",
   "metadata": {},
   "source": [
    "# Programming and Classification:\n",
    "## 4. Similarity"
   ]
  },
  {
   "cell_type": "markdown",
   "metadata": {},
   "source": [
    "### @author Krzysztof Agieńczuk\n",
    "This notebook is available under the beerware license for educational purposes"
   ]
  },
  {
   "cell_type": "code",
   "execution_count": 1,
   "metadata": {},
   "outputs": [],
   "source": [
    "import nltk\n",
    "from nltk import ngrams\n",
    "import random\n",
    "import hashlib\n",
    "import string\n",
    "import sys\n",
    "from datasketch import MinHash, MinHashLSH\n",
    "import time\n",
    "#nltk.download()"
   ]
  },
  {
   "cell_type": "markdown",
   "metadata": {},
   "source": [
    "31. Generate a set S of n random bitstrings of length 100. Find min x,y∈S sha-1(x\\\\y), where x\\\\y denotes concatenation of bitstrings x and y. Estimate, what is the maximal n for this task that can be handled by your computer?"
   ]
  },
  {
   "cell_type": "code",
   "execution_count": 15,
   "metadata": {},
   "outputs": [
    {
     "name": "stdout",
     "output_type": "stream",
     "text": [
      "28.04100012779236\n",
      "26.218000173568726\n"
     ]
    }
   ],
   "source": [
    "def generateBitString():\n",
    "    bits = \"01\"\n",
    "    return ''.join(random.choice(bits) for i in range(100))\n",
    "    \n",
    "amount = 4000\n",
    "listOfStrings = list()\n",
    "for i in range(amount):\n",
    "    listOfStrings.append(generateBitString())\n",
    "\n",
    "    \n",
    "minimal = sys.float_info.max\n",
    "hashFunction = hashlib.sha1()\n",
    "start_time = time.time()\n",
    "for i in range(len(listOfStrings)):\n",
    "    for ii in range(len(listOfStrings)):\n",
    "        words = listOfStrings[i] + listOfStrings[ii]\n",
    "        hashFunction.update(words.encode('utf-8'))\n",
    "        numericHash = int(hashFunction.hexdigest(), 16)\n",
    "        if minimal > numericHash:\n",
    "            minimal = numericHash\n",
    "elapsed = time.time() - start_time \n",
    "print(elapsed)\n",
    "\n",
    "\n",
    "setOfStrings = set()\n",
    "for i in range(amount):\n",
    "    setOfStrings.add(generateBitString())\n",
    "    \n",
    "start_time = time.time()\n",
    "for element in setOfStrings:\n",
    "    for element2 in setOfStrings:\n",
    "        words = element + element2\n",
    "        hashFunction.update(words.encode('utf-8'))\n",
    "        numericHash = int(hashFunction.hexdigest(), 16)\n",
    "        if minimal > numericHash:\n",
    "            minimal = numericHash\n",
    "elapsed = time.time() - start_time       \n",
    "            \n",
    "print(elapsed)"
   ]
  },
  {
   "cell_type": "markdown",
   "metadata": {},
   "source": [
    "32. (use NLTK). Let S1, S2, S3 be the sets of all words shorter than 8 letters from text1,text2, text3, respectively. Compute signatures for S1, S2, S3 represented by 100 minhashes and then estimate Jaccard similarity between each pair of S1, S2, S3."
   ]
  },
  {
   "cell_type": "code",
   "execution_count": 18,
   "metadata": {},
   "outputs": [
    {
     "name": "stdout",
     "output_type": "stream",
     "text": [
      "*** Introductory Examples for the NLTK Book ***\n",
      "Loading text1, ..., text9 and sent1, ..., sent9\n",
      "Type the name of the text or sentence to view it.\n",
      "Type: 'texts()' or 'sents()' to list the materials.\n",
      "text1: Moby Dick by Herman Melville 1851\n",
      "text2: Sense and Sensibility by Jane Austen 1811\n",
      "text3: The Book of Genesis\n",
      "text4: Inaugural Address Corpus\n",
      "text5: Chat Corpus\n",
      "text6: Monty Python and the Holy Grail\n",
      "text7: Wall Street Journal\n",
      "text8: Personals Corpus\n",
      "text9: The Man Who Was Thursday by G . K . Chesterton 1908\n"
     ]
    }
   ],
   "source": [
    "from nltk.book import *"
   ]
  },
  {
   "cell_type": "code",
   "execution_count": 19,
   "metadata": {},
   "outputs": [
    {
     "name": "stdout",
     "output_type": "stream",
     "text": [
      "Estimated Jaccard for S1 and S2 is 0.9765625\n",
      "Estimated Jaccard for S1 and S3 is 0.796875\n",
      "Estimated Jaccard for S2 and S3 is 0.796875\n"
     ]
    }
   ],
   "source": [
    "def chooseWords(S):\n",
    "    wordsToConsider = set()\n",
    "    for word in S:\n",
    "        if len(word)<8:\n",
    "            wordsToConsider.update(word)\n",
    "    return wordsToConsider\n",
    "            \n",
    "S1 = chooseWords(set(text1))\n",
    "S2 = chooseWords(set(text2))\n",
    "S3 = chooseWords(set(text3))\n",
    "\n",
    "m1, m2, m3 = MinHash(), MinHash(), MinHash()\n",
    "for d in S1:\n",
    "    m1.update(d.encode('utf8'))\n",
    "for d in S2:\n",
    "    m2.update(d.encode('utf8'))\n",
    "for d in S3:\n",
    "    m3.update(d.encode('utf-8'))\n",
    "print(\"Estimated Jaccard for S1 and S2 is\", m1.jaccard(m2))\n",
    "print(\"Estimated Jaccard for S1 and S3 is\", m1.jaccard(m3))\n",
    "print(\"Estimated Jaccard for S2 and S3 is\", m2.jaccard(m3))"
   ]
  },
  {
   "cell_type": "markdown",
   "metadata": {},
   "source": [
    "33. Compare the results from the previous exercise with the exact Jaccard similarity of sets S1, S2, S3. What if random permutation of the characteristic matrix rows were replaced with a random mapping?"
   ]
  },
  {
   "cell_type": "code",
   "execution_count": 20,
   "metadata": {},
   "outputs": [
    {
     "name": "stdout",
     "output_type": "stream",
     "text": [
      "0.9493670886075949\n",
      "0.7435897435897436\n",
      "0.7402597402597403\n"
     ]
    }
   ],
   "source": [
    "def jaccardSimilaritySets(element1, element2):\n",
    "    if element2 == []:\n",
    "        return \"empty\"\n",
    "    intersection = set(element1).intersection(set(element2))\n",
    "    union = set(element1).union(set(element2))\n",
    "    return float(len(intersection)/len(union))\n",
    "\n",
    "print(jaccardSimilaritySets(S1, S2))\n",
    "print(jaccardSimilaritySets(S1, S3))\n",
    "print(jaccardSimilaritySets(S2, S3))"
   ]
  },
  {
   "cell_type": "code",
   "execution_count": 23,
   "metadata": {},
   "outputs": [
    {
     "data": {
      "image/png": "[encoded data removed]",
      "text/plain": [
       "<Figure size 1080x1080 with 2 Axes>"
      ]
     },
     "metadata": {
      "needs_background": "light"
     },
     "output_type": "display_data"
    }
   ],
   "source": [
    "import matplotlib.pyplot as plt\n",
    "\n",
    "x = [1000,2000,3000,4000]\n",
    "Ylist = [1.748, 8.692, 15.21, 28.04]\n",
    "Yset = [1.794, 6.397, 13.94, 26.28]\n",
    "f = plt.figure(figsize=(15, 15)); # plot the calculated values  \n",
    "f.suptitle(\"sth\", fontsize = 32)\n",
    "\n",
    "sp =  f.add_subplot(3, 2, 1 );\n",
    "plt.scatter(x, Ylist, s=70, marker='o', color='IndianRed')\n",
    "plt.ylim([0,30])\n",
    "\n",
    "sp =  f.add_subplot(3, 2, 2 );\n",
    "plt.scatter(x, Yset, s=70, marker='o', color='IndianRed')\n",
    "plt.ylim([0,30])\n",
    "plt.show()"
   ]
  },
  {
   "cell_type": "code",
   "execution_count": null,
   "metadata": {},
   "outputs": [],
   "source": []
  }
 ],
 "metadata": {
  "kernelspec": {
   "display_name": "Python 3",
   "language": "python",
   "name": "python3"
  },
  "language_info": {
   "codemirror_mode": {
    "name": "ipython",
    "version": 3
   },
   "file_extension": ".py",
   "mimetype": "text/x-python",
   "name": "python",
   "nbconvert_exporter": "python",
   "pygments_lexer": "ipython3",
   "version": "3.7.1"
  }
 },
 "nbformat": 4,
 "nbformat_minor": 2
}
