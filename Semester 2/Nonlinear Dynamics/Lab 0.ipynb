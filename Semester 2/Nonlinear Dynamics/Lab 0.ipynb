{
 "cells": [
  {
   "cell_type": "code",
   "execution_count": 3,
   "metadata": {},
   "outputs": [],
   "source": [
    "from sympy import *\n",
    "import numpy as np\n",
    "import matplotlib.pyplot as plt"
   ]
  },
  {
   "cell_type": "code",
   "execution_count": 4,
   "metadata": {},
   "outputs": [
    {
     "data": {
      "text/plain": [
       "sqrt(3)"
      ]
     },
     "execution_count": 4,
     "metadata": {},
     "output_type": "execute_result"
    }
   ],
   "source": [
    "sqrt(3)"
   ]
  },
  {
   "cell_type": "code",
   "execution_count": 5,
   "metadata": {},
   "outputs": [
    {
     "data": {
      "image/png": "[encoded data removed]",
      "text/latex": [
       "$$e^{x} \\sin{\\left (x \\right )} + e^{x} \\cos{\\left (x \\right )}$$"
      ],
      "text/plain": [
       " x           x       \n",
       "ℯ ⋅sin(x) + ℯ ⋅cos(x)"
      ]
     },
     "execution_count": 5,
     "metadata": {},
     "output_type": "execute_result"
    }
   ],
   "source": [
    "x, t, z, nu = symbols('x t z nu')\n",
    "init_printing(use_unicode=True)\n",
    "diff(sin(x)*exp(x),x)"
   ]
  },
  {
   "cell_type": "code",
   "execution_count": 16,
   "metadata": {},
   "outputs": [
    {
     "data": {
      "image/png": "[encoded data removed]",
      "text/latex": [
       "$$\\sin^{2}{\\left (x \\right )}$$"
      ],
      "text/plain": [
       "   2   \n",
       "sin (x)"
      ]
     },
     "execution_count": 16,
     "metadata": {},
     "output_type": "execute_result"
    }
   ],
   "source": [
    "a = sin(x)\n",
    "b = a*a\n",
    "b"
   ]
  },
  {
   "cell_type": "code",
   "execution_count": 19,
   "metadata": {},
   "outputs": [
    {
     "data": {
      "image/png": "[encoded data removed]",
      "text/latex": [
       "$$\\left(t + 2 z\\right)^{6}$$"
      ],
      "text/plain": [
       "         6\n",
       "(t + 2⋅z) "
      ]
     },
     "execution_count": 19,
     "metadata": {},
     "output_type": "execute_result"
    }
   ],
   "source": [
    "(t+2*z)**6"
   ]
  },
  {
   "cell_type": "code",
   "execution_count": 21,
   "metadata": {},
   "outputs": [
    {
     "data": {
      "image/png": "[encoded data removed]",
      "text/latex": [
       "$$t^{6} + 12 t^{5} z + 60 t^{4} z^{2} + 160 t^{3} z^{3} + 240 t^{2} z^{4} + 192 t z^{5} + 64 z^{6}$$"
      ],
      "text/plain": [
       " 6       5         4  2        3  3        2  4          5       6\n",
       "t  + 12⋅t ⋅z + 60⋅t ⋅z  + 160⋅t ⋅z  + 240⋅t ⋅z  + 192⋅t⋅z  + 64⋅z "
      ]
     },
     "execution_count": 21,
     "metadata": {},
     "output_type": "execute_result"
    }
   ],
   "source": [
    "expand((t+2*z)**6)"
   ]
  },
  {
   "cell_type": "code",
   "execution_count": 57,
   "metadata": {},
   "outputs": [
    {
     "data": {
      "image/png": "[encoded data removed]",
      "text/latex": [
       "$$\\left [ \\frac{- b + \\sqrt{- 4 a c + b^{2}}}{2 a}, \\quad - \\frac{b + \\sqrt{- 4 a c + b^{2}}}{2 a}\\right ]$$"
      ],
      "text/plain": [
       "⎡        _____________   ⎛       _____________⎞ ⎤\n",
       "⎢       ╱           2    ⎜      ╱           2 ⎟ ⎥\n",
       "⎢-b + ╲╱  -4⋅a⋅c + b    -⎝b + ╲╱  -4⋅a⋅c + b  ⎠ ⎥\n",
       "⎢─────────────────────, ────────────────────────⎥\n",
       "⎣         2⋅a                     2⋅a           ⎦"
      ]
     },
     "execution_count": 57,
     "metadata": {},
     "output_type": "execute_result"
    }
   ],
   "source": [
    "a,b,c,x = symbols('a b c x')\n",
    "eq1 = a*x*x + b*x + c\n",
    "solve(eq1, x)"
   ]
  },
  {
   "cell_type": "code",
   "execution_count": 27,
   "metadata": {},
   "outputs": [
    {
     "data": {
      "image/png": "[encoded data removed]",
      "text/latex": [
       "$$\\left [ - \\frac{1}{2} + \\frac{\\sqrt{21}}{2}, \\quad - \\frac{\\sqrt{21}}{2} - \\frac{1}{2}\\right ]$$"
      ],
      "text/plain": [
       "⎡  1   √21    √21   1⎤\n",
       "⎢- ─ + ───, - ─── - ─⎥\n",
       "⎣  2    2      2    2⎦"
      ]
     },
     "execution_count": 27,
     "metadata": {},
     "output_type": "execute_result"
    }
   ],
   "source": [
    "eq2 = x**2 + x - 5\n",
    "solve(eq2, x)"
   ]
  },
  {
   "cell_type": "code",
   "execution_count": 29,
   "metadata": {},
   "outputs": [
    {
     "data": {
      "image/png": "[encoded data removed]",
      "text/latex": [
       "$$\\left [ - \\frac{1}{2} - \\frac{\\sqrt{19} i}{2}, \\quad - \\frac{1}{2} + \\frac{\\sqrt{19} i}{2}\\right ]$$"
      ],
      "text/plain": [
       "⎡  1   √19⋅ⅈ    1   √19⋅ⅈ⎤\n",
       "⎢- ─ - ─────, - ─ + ─────⎥\n",
       "⎣  2     2      2     2  ⎦"
      ]
     },
     "execution_count": 29,
     "metadata": {},
     "output_type": "execute_result"
    }
   ],
   "source": [
    "eq3 = x**2 + x + 5\n",
    "solve(eq3, x)"
   ]
  },
  {
   "cell_type": "code",
   "execution_count": 33,
   "metadata": {},
   "outputs": [
    {
     "data": {
      "image/png": "[encoded data removed]",
      "text/latex": [
       "$$\\left [ - \\frac{1}{3} + \\left(- \\frac{1}{2} - \\frac{\\sqrt{3} i}{2}\\right) \\sqrt[3]{\\frac{71}{27} + \\frac{\\sqrt{561}}{9}} - \\frac{2}{9 \\left(- \\frac{1}{2} - \\frac{\\sqrt{3} i}{2}\\right) \\sqrt[3]{\\frac{71}{27} + \\frac{\\sqrt{561}}{9}}}, \\quad - \\frac{1}{3} - \\frac{2}{9 \\left(- \\frac{1}{2} + \\frac{\\sqrt{3} i}{2}\\right) \\sqrt[3]{\\frac{71}{27} + \\frac{\\sqrt{561}}{9}}} + \\left(- \\frac{1}{2} + \\frac{\\sqrt{3} i}{2}\\right) \\sqrt[3]{\\frac{71}{27} + \\frac{\\sqrt{561}}{9}}, \\quad - \\frac{1}{3} - \\frac{2}{9 \\sqrt[3]{\\frac{71}{27} + \\frac{\\sqrt{561}}{9}}} + \\sqrt[3]{\\frac{71}{27} + \\frac{\\sqrt{561}}{9}}\\right ]$$"
      ],
      "text/plain": [
       "⎡                       ___________                                           \n",
       "⎢  1   ⎛  1   √3⋅ⅈ⎞    ╱ 71   √561                  2                   1     \n",
       "⎢- ─ + ⎜- ─ - ────⎟⋅3 ╱  ── + ────  - ──────────────────────────────, - ─ - ──\n",
       "⎢  3   ⎝  2    2  ⎠ ╲╱   27    9                         ___________    3     \n",
       "⎢                                       ⎛  1   √3⋅ⅈ⎞    ╱ 71   √561           \n",
       "⎢                                     9⋅⎜- ─ - ────⎟⋅3 ╱  ── + ────         9⋅\n",
       "⎣                                       ⎝  2    2  ⎠ ╲╱   27    9             \n",
       "\n",
       "                                                ___________                   \n",
       "            2                  ⎛  1   √3⋅ⅈ⎞    ╱ 71   √561     1           2  \n",
       "──────────────────────────── + ⎜- ─ + ────⎟⋅3 ╱  ── + ──── , - ─ - ───────────\n",
       "                 ___________   ⎝  2    2  ⎠ ╲╱   27    9       3         _____\n",
       "⎛  1   √3⋅ⅈ⎞    ╱ 71   √561                                             ╱ 71  \n",
       "⎜- ─ + ────⎟⋅3 ╱  ── + ────                                        9⋅3 ╱  ── +\n",
       "⎝  2    2  ⎠ ╲╱   27    9                                            ╲╱   27  \n",
       "\n",
       "             ___________⎤\n",
       "            ╱ 71   √561 ⎥\n",
       "────── + 3 ╱  ── + ──── ⎥\n",
       "______   ╲╱   27    9   ⎥\n",
       " √561                   ⎥\n",
       " ────                   ⎥\n",
       "  9                     ⎦"
      ]
     },
     "execution_count": 33,
     "metadata": {},
     "output_type": "execute_result"
    }
   ],
   "source": [
    "solve(x**3 + x**2 + x-5, x)"
   ]
  },
  {
   "cell_type": "code",
   "execution_count": 45,
   "metadata": {},
   "outputs": [
    {
     "data": {
      "image/png": "[encoded data removed]",
      "text/latex": [
       "$$0.680598174378454$$"
      ],
      "text/plain": [
       "0.680598174378454"
      ]
     },
     "execution_count": 45,
     "metadata": {},
     "output_type": "execute_result"
    }
   ],
   "source": [
    "eq4 = exp(-x**2) - sin(x)\n",
    "nsolve(eq4, 0)"
   ]
  },
  {
   "cell_type": "code",
   "execution_count": 9,
   "metadata": {},
   "outputs": [
    {
     "data": {
      "image/png": "[encoded data removed]",
      "text/plain": [
       "<Figure size 432x288 with 1 Axes>"
      ]
     },
     "metadata": {
      "needs_background": "light"
     },
     "output_type": "display_data"
    }
   ],
   "source": [
    "t = np.linspace(0, 2*math.pi, 400)\n",
    "a = np.sin(t)\n",
    "b = np.exp(-t**2)\n",
    "\n",
    "plt.plot(t, a, 'r') # plotting t, a separately \n",
    "plt.plot(t, b, 'b') # plotting t, b separately \n",
    "plt.grid()\n",
    "plt.show()"
   ]
  },
  {
   "cell_type": "code",
   "execution_count": 10,
   "metadata": {},
   "outputs": [
    {
     "data": {
      "image/png": "[encoded data removed]",
      "text/latex": [
       "$$\\frac{2 x \\cos{\\left (x^{2} + 1 \\right )} - \\frac{\\sin{\\left (x \\right )}}{\\cos{\\left (x \\right )} + 1}}{\\left(\\cos{\\left (x \\right )} + 1\\right)^{3}} + \\frac{3 \\left(\\log{\\left (\\cos{\\left (x \\right )} + 1 \\right )} + \\sin{\\left (x^{2} + 1 \\right )}\\right) \\sin{\\left (x \\right )}}{\\left(\\cos{\\left (x \\right )} + 1\\right)^{4}}$$"
      ],
      "text/plain": [
       "       ⎛ 2    ⎞     sin(x)                                             \n",
       "2⋅x⋅cos⎝x  + 1⎠ - ──────────     ⎛                     ⎛ 2    ⎞⎞       \n",
       "                  cos(x) + 1   3⋅⎝log(cos(x) + 1) + sin⎝x  + 1⎠⎠⋅sin(x)\n",
       "──────────────────────────── + ────────────────────────────────────────\n",
       "                   3                                    4              \n",
       "       (cos(x) + 1)                         (cos(x) + 1)               "
      ]
     },
     "execution_count": 10,
     "metadata": {},
     "output_type": "execute_result"
    }
   ],
   "source": [
    "x = symbols('x')\n",
    "eq5 = (sin(x**2+1) + ln(1+cos(x)))/(1+cos(x))**3\n",
    "diff(eq5)"
   ]
  },
  {
   "cell_type": "code",
   "execution_count": 19,
   "metadata": {},
   "outputs": [
    {
     "data": {
      "image/png": "[encoded data removed]",
      "text/latex": [
       "$$2 y{\\left (x \\right )} + \\frac{d}{d x} y{\\left (x \\right )}$$"
      ],
      "text/plain": [
       "         d       \n",
       "2⋅y(x) + ──(y(x))\n",
       "         dx      "
      ]
     },
     "execution_count": 19,
     "metadata": {},
     "output_type": "execute_result"
    }
   ],
   "source": [
    "y = Function('y')\n",
    "diffeq1 = diff(y(x), x) + 2*y(x)\n",
    "diffeq1"
   ]
  }
 ],
 "metadata": {
  "kernelspec": {
   "display_name": "Python 3",
   "language": "python",
   "name": "python3"
  },
  "language_info": {
   "codemirror_mode": {
    "name": "ipython",
    "version": 3
   },
   "file_extension": ".py",
   "mimetype": "text/x-python",
   "name": "python",
   "nbconvert_exporter": "python",
   "pygments_lexer": "ipython3",
   "version": "3.7.1"
  }
 },
 "nbformat": 4,
 "nbformat_minor": 2
}
