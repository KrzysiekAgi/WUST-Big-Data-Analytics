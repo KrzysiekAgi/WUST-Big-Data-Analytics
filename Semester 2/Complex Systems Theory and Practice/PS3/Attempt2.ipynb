{
 "cells": [
  {
   "cell_type": "code",
   "execution_count": 1,
   "metadata": {},
   "outputs": [
    {
     "name": "stderr",
     "output_type": "stream",
     "text": [
      "C:\\Users\\kagiencz\\AppData\\Local\\Continuum\\anaconda3\\lib\\importlib\\_bootstrap.py:219: RuntimeWarning: numpy.ufunc size changed, may indicate binary incompatibility. Expected 192 from C header, got 216 from PyObject\n",
      "  return f(*args, **kwds)\n",
      "C:\\Users\\kagiencz\\AppData\\Local\\Continuum\\anaconda3\\lib\\importlib\\_bootstrap.py:219: RuntimeWarning: numpy.ufunc size changed, may indicate binary incompatibility. Expected 192 from C header, got 216 from PyObject\n",
      "  return f(*args, **kwds)\n"
     ]
    }
   ],
   "source": [
    "import timeit\n",
    "\n",
    "start_time = timeit.default_timer()\n",
    "\n",
    "import networkx as nx\n",
    "import numpy as np\n",
    "import matplotlib.pyplot as plt\n",
    "import random\n",
    "plt.style.use('ggplot')"
   ]
  },
  {
   "cell_type": "markdown",
   "metadata": {},
   "source": [
    "# Task 1"
   ]
  },
  {
   "cell_type": "code",
   "execution_count": null,
   "metadata": {},
   "outputs": [],
   "source": [
    "# N=1000, 10000, 100000, 1000000\n",
    "# k=10, 20, 30\n",
    "wsg3 = nx.watts_strogatz_graph(n=1000, k=10, p=0.01)\n",
    "wsg4 = nx.watts_strogatz_graph(n=10000, k=10, p=0.01)\n",
    "wsg5 = nx.watts_strogatz_graph(n=100000, k=10, p=0.01)\n",
    "wsg6 = nx.watts_strogatz_graph(n=1000000, k=10, p=0.01)"
   ]
  },
  {
   "cell_type": "code",
   "execution_count": null,
   "metadata": {},
   "outputs": [],
   "source": [
    "def giant_when_removing(graph):\n",
    "    \"\"\"Returns the sizes of biggest subgraphs for each fraction of removed nodes\\n\",\n",
    "        Fractions start at 0.5 and go to ca. 0.97 (it's amount of nodes divided by elements from fractions array)\"\"\"\n",
    "        giants = list()\n",
    "        # Couldn't thnik of smarter solution\\n\",\n",
    "    fractions = np.array([2.0, 1.75, 1.5, 1.3, 1.2, 1.1, 1.05, 1.03])\n",
    "\n",
    "    for f in fractions:\n",
    "        x = np.random.choice(len(graph.nodes()), int(len(graph.nodes())/f), replace=False)\n",
    "        # Only now I realise how ineffective this is. But \"if it works, don't touch it\" :P\n",
    "        gc = graph.copy()\n",
    "        gc.remove_nodes_from(x)\n",
    "        giants.append(len(max(nx.connected_components(gc), key = len)))\n",
    "    return giants\n",
    " \n",
    "def giant_without_removing(graph):\n",
    "    \"\"\"This is basically len(graph.nodes())\"\"\"\n",
    "    return len(max(nx.connected_components(graph), key = len))"
   ]
  },
  {
   "cell_type": "code",
   "execution_count": null,
   "metadata": {},
   "outputs": [],
   "source": [
    "gs = list()\n",
    "gs.append([x/giant_without_removing(wsg3) for x in giant_when_removing(wsg3)])\n",
    "gs.append([x/giant_without_removing(wsg4) for x in giant_when_removing(wsg4)])\n",
    "gs.append([x/giant_without_removing(wsg5) for x in giant_when_removing(wsg5)])\n",
    "gs.append([x/giant_without_removing(wsg6) for x in giant_when_removing(wsg6)])\n",
    "gs"
   ]
  },
  {
   "cell_type": "code",
   "execution_count": null,
   "metadata": {},
   "outputs": [],
   "source": [
    "fractions = [1.0/2.0, 1.0/1.75, 1.0/1.5, 1.0/1.3, 1.0/1.2, 1.0/1.1, 1.0/1.05, 1.0/1.03]\n",
    "plt.scatter(fractions, gs[0])\n",
    "plt.scatter(fractions, gs[1])\n",
    "plt.scatter(fractions, gs[2])\n",
    "plt.scatter(fractions, gs[3])\n",
    "plt.title(\"Giant component for Watts-Strogatz graph with k=10\")\n",
    "plt.xlabel(\"Fraction of removed nodes\")\n",
    "plt.ylabel(\"Giant component\")\n",
    "plt.legend([\"N=10^3\", \"N=10^4\", \"N=10^5\", \"N=10^6\"])\n",
    "plt.savefig(\"Giant component for Watts-Strogatz graph with k=10\")\n",
    "plt.show()"
   ]
  },
  {
   "cell_type": "code",
   "execution_count": null,
   "metadata": {},
   "outputs": [],
   "source": [
    "# Redeclare for k=20\n",
    "wsg3 = nx.watts_strogatz_graph(n=1000, k=20, p=0.01)\n",
    "wsg4 = nx.watts_strogatz_graph(n=10000, k=20, p=0.01)\n",
    "wsg5 = nx.watts_strogatz_graph(n=100000, k=20, p=0.01)\n",
    "wsg6 = nx.watts_strogatz_graph(n=1000000, k=20, p=0.01)"
   ]
  },
  {
   "cell_type": "code",
   "execution_count": null,
   "metadata": {},
   "outputs": [],
   "source": [
    "# Calculate\n",
    "gs = list()\n",
    "gs.append([x/giant_without_removing(wsg3) for x in giant_when_removing(wsg3)])\n",
    "gs.append([x/giant_without_removing(wsg4) for x in giant_when_removing(wsg4)])\n",
    "gs.append([x/giant_without_removing(wsg5) for x in giant_when_removing(wsg5)])\n",
    "gs.append([x/giant_without_removing(wsg6) for x in giant_when_removing(wsg6)])"
   ]
  },
  {
   "cell_type": "code",
   "execution_count": null,
   "metadata": {},
   "outputs": [],
   "source": [
    "fractions = [1.0/2.0, 1.0/1.75, 1.0/1.5, 1.0/1.3, 1.0/1.2, 1.0/1.1, 1.0/1.05, 1.0/1.03]\n",
    "plt.scatter(fractions, gs[0])\n",
    "plt.scatter(fractions, gs[1])\n",
    "plt.scatter(fractions, gs[2])\n",
    "plt.scatter(fractions, gs[3])\n",
    "plt.title(\"Giant component for Watts-Strogatz graph with k=20\")\n",
    "plt.xlabel(\"Fraction of removed nodes\")\n",
    "plt.ylabel(\"Giant component\")\n",
    "plt.legend([\"N=10^3\", \"N=10^4\", \"N=10^5\", \"N=10^6\"])\n",
    "plt.savefig(\"Giant component for Watts-Strogatz graph with k=20\")\n",
    "plt.show()"
   ]
  },
  {
   "cell_type": "code",
   "execution_count": null,
   "metadata": {},
   "outputs": [],
   "source": [
    "# Redeclare for k=30\n",
    "wsg3 = nx.watts_strogatz_graph(n=1000, k=30, p=0.01)\n",
    "wsg4 = nx.watts_strogatz_graph(n=10000, k=30, p=0.01)\n",
    "wsg5 = nx.watts_strogatz_graph(n=100000, k=30, p=0.01)\n",
    "wsg6 = nx.watts_strogatz_graph(n=1000000, k=30, p=0.01)"
   ]
  },
  {
   "cell_type": "code",
   "execution_count": null,
   "metadata": {},
   "outputs": [],
   "source": [
    "# Calculate\n",
    "gs = list()\n",
    "gs.append([x/giant_without_removing(wsg3) for x in giant_when_removing(wsg3)])\n",
    "gs.append([x/giant_without_removing(wsg4) for x in giant_when_removing(wsg4)])\n",
    "gs.append([x/giant_without_removing(wsg5) for x in giant_when_removing(wsg5)])\n",
    "gs.append([x/giant_without_removing(wsg6) for x in giant_when_removing(wsg6)])"
   ]
  },
  {
   "cell_type": "code",
   "execution_count": null,
   "metadata": {},
   "outputs": [],
   "source": [
    "fractions = [1.0/2.0, 1.0/1.75, 1.0/1.5, 1.0/1.3, 1.0/1.2, 1.0/1.1, 1.0/1.05, 1.0/1.03]\n",
    "plt.scatter(fractions, gs[0])\n",
    "plt.scatter(fractions, gs[1])\n",
    "plt.scatter(fractions, gs[2])\n",
    "plt.scatter(fractions, gs[3])\n",
    "plt.title(\"Giant component for Watts-Strogatz graph with k=30\")\n",
    "plt.xlabel(\"Fraction of removed nodes\")\n",
    "plt.ylabel(\"Giant component\")\n",
    "plt.legend([\"N=10^3\", \"N=10^4\", \"N=10^5\", \"N=10^6\"])\n",
    "plt.savefig(\"Giant component for Watts-Strogatz graph with k=30\")\n",
    "plt.show()"
   ]
  },
  {
   "cell_type": "code",
   "execution_count": null,
   "metadata": {},
   "outputs": [],
   "source": [
    "# k=10\n",
    "er3 = nx.fast_gnp_random_graph(n=1000, p=10/(1000-1))\n",
    "er4 = nx.fast_gnp_random_graph(n=10000, p=10/(10000-1))\n",
    "er5 = nx.fast_gnp_random_graph(n=100000, p=10/(100000-1))\n",
    "er6 = nx.fast_gnp_random_graph(n=1000000, p=10/(1000000-1))"
   ]
  },
  {
   "cell_type": "code",
   "execution_count": null,
   "metadata": {},
   "outputs": [],
   "source": [
    "def mean_degree(G):\n",
    "    degrees = [G.degree(n) for n in G.nodes()]\n",
    "    return sum(degrees)/float(len(degrees))\n",
    "    \n",
    "print(mean_degree(er3))\n",
    "print(mean_degree(er4))\n",
    "print(mean_degree(er5))\n",
    "print(mean_degree(er6))"
   ]
  },
  {
   "cell_type": "code",
   "execution_count": null,
   "metadata": {},
   "outputs": [],
   "source": [
    "# Calculate\",\n",
    "gs = list()\n",
    "gs.append([x/giant_without_removing(er3) for x in giant_when_removing(er3)])\n",
    "gs.append([x/giant_without_removing(er4) for x in giant_when_removing(er4)])\n",
    "gs.append([x/giant_without_removing(er5) for x in giant_when_removing(er5)])\n",
    "gs.append([x/giant_without_removing(er6) for x in giant_when_removing(er6)])"
   ]
  },
  {
   "cell_type": "code",
   "execution_count": null,
   "metadata": {},
   "outputs": [],
   "source": [
    "# Plot\n",
    "fractions = [1.0/2.0, 1.0/1.75, 1.0/1.5, 1.0/1.3, 1.0/1.2, 1.0/1.1, 1.0/1.05, 1.0/1.03] \n",
    "plt.scatter(fractions, gs[0])\n",
    "plt.scatter(fractions, gs[1])\n",
    "plt.scatter(fractions, gs[2])\n",
    "plt.scatter(fractions, gs[3])\n",
    "plt.title(\"Giant component for random graph with k~10\")\n",
    "plt.xlabel(\"Fraction of removed nodes\")\n",
    "plt.ylabel(\"Giant component\")\n",
    "plt.legend([\"N=10^3\", \"N=10^4\", \"N=10^5\", \"N=10^6\"])\n",
    "plt.savefig(\"Giant component for random graph with k~10\")\n",
    "plt.show()"
   ]
  },
  {
   "cell_type": "code",
   "execution_count": null,
   "metadata": {},
   "outputs": [],
   "source": [
    "# k=20\n",
    "er3 = nx.fast_gnp_random_graph(n=1000, p=20/(1000-1))\n",
    "er4 = nx.fast_gnp_random_graph(n=10000, p=20/(10000-1))\n",
    "er5 = nx.fast_gnp_random_graph(n=100000, p=20/(100000-1))\n",
    "er6 = nx.fast_gnp_random_graph(n=1000000, p=20/(1000000-1))\n",
    "print(mean_degree(er3))"
   ]
  },
  {
   "cell_type": "code",
   "execution_count": null,
   "metadata": {},
   "outputs": [],
   "source": [
    "# Calculate\",\n",
    "gs = list()\n",
    "gs.append([x/giant_without_removing(er3) for x in giant_when_removing(er3)])\n",
    "gs.append([x/giant_without_removing(er4) for x in giant_when_removing(er4)])\n",
    "gs.append([x/giant_without_removing(er5) for x in giant_when_removing(er5)])\n",
    "gs.append([x/giant_without_removing(er6) for x in giant_when_removing(er6)])"
   ]
  },
  {
   "cell_type": "code",
   "execution_count": null,
   "metadata": {},
   "outputs": [],
   "source": [
    "# Plot\n",
    "fractions = [1.0/2.0, 1.0/1.75, 1.0/1.5, 1.0/1.3, 1.0/1.2, 1.0/1.1, 1.0/1.05, 1.0/1.03] \n",
    "plt.scatter(fractions, gs[0])\n",
    "plt.scatter(fractions, gs[1])\n",
    "plt.scatter(fractions, gs[2])\n",
    "plt.scatter(fractions, gs[3])\n",
    "plt.title(\"Giant component for random graph with k~20\")\n",
    "plt.xlabel(\"Fraction of removed nodes\")\n",
    "plt.ylabel(\"Giant component\")\n",
    "plt.legend([\"N=10^3\", \"N=10^4\", \"N=10^5\", \"N=10^6\"])\n",
    "plt.savefig(\"Giant component for random graph with k~20\")\n",
    "plt.show()"
   ]
  },
  {
   "cell_type": "code",
   "execution_count": null,
   "metadata": {},
   "outputs": [],
   "source": [
    "# k=30\n",
    "er3 = nx.fast_gnp_random_graph(n=1000, p=30/(1000-1))\n",
    "er4 = nx.fast_gnp_random_graph(n=10000, p=30/(10000-1))\n",
    "er5 = nx.fast_gnp_random_graph(n=100000, p=30/(100000-1))\n",
    "er6 = nx.fast_gnp_random_graph(n=1000000, p=30/(1000000-1))\n",
    "print(mean_degree(er3))"
   ]
  },
  {
   "cell_type": "code",
   "execution_count": null,
   "metadata": {},
   "outputs": [],
   "source": [
    "# Calculate\"\n",
    "gs = list()\n",
    "gs.append([x/giant_without_removing(er3) for x in giant_when_removing(er3)])\n",
    "gs.append([x/giant_without_removing(er4) for x in giant_when_removing(er4)])\n",
    "gs.append([x/giant_without_removing(er5) for x in giant_when_removing(er5)])\n",
    "gs.append([x/giant_without_removing(er6) for x in giant_when_removing(er6)])"
   ]
  },
  {
   "cell_type": "code",
   "execution_count": null,
   "metadata": {},
   "outputs": [],
   "source": [
    "# Plot\n",
    "fractions = [1.0/2.0, 1.0/1.75, 1.0/1.5, 1.0/1.3, 1.0/1.2, 1.0/1.1, 1.0/1.05, 1.0/1.03] \n",
    "plt.scatter(fractions, gs[0])\n",
    "plt.scatter(fractions, gs[1])\n",
    "plt.scatter(fractions, gs[2])\n",
    "plt.scatter(fractions, gs[3])\n",
    "plt.title(\"Giant component for random graph with k~30\")\n",
    "plt.xlabel(\"Fraction of removed nodes\")\n",
    "plt.ylabel(\"Giant component\")\n",
    "plt.legend([\"N=10^3\", \"N=10^4\", \"N=10^5\", \"N=10^6\"])\n",
    "plt.savefig(\"Giant component for random graph with k~30\")\n",
    "plt.show()"
   ]
  },
  {
   "cell_type": "code",
   "execution_count": null,
   "metadata": {},
   "outputs": [],
   "source": [
    "# k=10\n",
    "ba3 = nx.barabasi_albert_graph(n=1000,m=5)\n",
    "ba4 = nx.barabasi_albert_graph(n=10000,m=5)\n",
    "ba5 = nx.barabasi_albert_graph(n=100000,m=5)\n",
    "ba6 = nx.barabasi_albert_graph(n=1000000,m=5)\n",
    "print(mean_degree(ba3))"
   ]
  },
  {
   "cell_type": "code",
   "execution_count": null,
   "metadata": {},
   "outputs": [],
   "source": [
    "# Calculate\n",
    "gs = list()\n",
    "gs.append([x/giant_without_removing(ba3) for x in giant_when_removing(ba3)])\n",
    "gs.append([x/giant_without_removing(ba4) for x in giant_when_removing(ba4)])\n",
    "gs.append([x/giant_without_removing(ba5) for x in giant_when_removing(ba5)])\n",
    "gs.append([x/giant_without_removing(ba6) for x in giant_when_removing(ba6)])"
   ]
  },
  {
   "cell_type": "code",
   "execution_count": null,
   "metadata": {},
   "outputs": [],
   "source": [
    "# Plot\n",
    "fractions = [1.0/2.0, 1.0/1.75, 1.0/1.5, 1.0/1.3, 1.0/1.2, 1.0/1.1, 1.0/1.05, 1.0/1.03]\n",
    "plt.scatter(fractions, gs[0])\n",
    "plt.scatter(fractions, gs[1])\n",
    "plt.scatter(fractions, gs[2])\n",
    "plt.scatter(fractions, gs[3])\n",
    "plt.title(\"Giant component for Barabasi-Albert graph with k~10\")\n",
    "plt.xlabel(\"Fraction of removed nodes\")\n",
    "plt.ylabel(\"Giant component\")\n",
    "plt.legend([\"N=10^3\", \"N=10^4\", \"N=10^5\", \"N=10^6\"])\n",
    "plt.savefig(\"Giant component for Barabasi-Albert graph with k~10\")\n",
    "plt.show()"
   ]
  },
  {
   "cell_type": "code",
   "execution_count": null,
   "metadata": {},
   "outputs": [],
   "source": [
    "# k=20\n",
    "ba3 = nx.barabasi_albert_graph(n=1000,m=10)\n",
    "ba4 = nx.barabasi_albert_graph(n=10000,m=10)\n",
    "ba5 = nx.barabasi_albert_graph(n=100000,m=10)\n",
    "ba6 = nx.barabasi_albert_graph(n=1000000,m=10)\n",
    "print(mean_degree(ba3))"
   ]
  },
  {
   "cell_type": "code",
   "execution_count": null,
   "metadata": {},
   "outputs": [],
   "source": [
    "# Calculate\n",
    "gs = list()\n",
    "gs.append([x/giant_without_removing(ba3) for x in giant_when_removing(ba3)])\n",
    "gs.append([x/giant_without_removing(ba4) for x in giant_when_removing(ba4)])\n",
    "gs.append([x/giant_without_removing(ba5) for x in giant_when_removing(ba5)])\n",
    "gs.append([x/giant_without_removing(ba6) for x in giant_when_removing(ba6)])"
   ]
  },
  {
   "cell_type": "code",
   "execution_count": null,
   "metadata": {},
   "outputs": [],
   "source": [
    "# Plot\n",
    "fractions = [1.0/2.0, 1.0/1.75, 1.0/1.5, 1.0/1.3, 1.0/1.2, 1.0/1.1, 1.0/1.05, 1.0/1.03]\n",
    "plt.scatter(fractions, gs[0])\n",
    "plt.scatter(fractions, gs[1])\n",
    "plt.scatter(fractions, gs[2])\n",
    "plt.scatter(fractions, gs[3])\n",
    "plt.title(\"Giant component for Barabasi-Albert graph with k~20\")\n",
    "plt.xlabel(\"Fraction of removed nodes\")\n",
    "plt.ylabel(\"Giant component\")\n",
    "plt.legend([\"N=10^3\", \"N=10^4\", \"N=10^5\", \"N=10^6\"])\n",
    "plt.savefig(\"Giant component for Barabasi-Albert graph with k~20\")\n",
    "plt.show()"
   ]
  },
  {
   "cell_type": "code",
   "execution_count": null,
   "metadata": {},
   "outputs": [],
   "source": [
    "# k=30\n",
    "ba3 = nx.barabasi_albert_graph(n=1000,m=15)\n",
    "ba4 = nx.barabasi_albert_graph(n=10000,m=15)\n",
    "ba5 = nx.barabasi_albert_graph(n=100000,m=15)\n",
    "ba6 = nx.barabasi_albert_graph(n=1000000,m=15)\n",
    "print(mean_degree(ba3))"
   ]
  },
  {
   "cell_type": "code",
   "execution_count": null,
   "metadata": {},
   "outputs": [],
   "source": [
    "# Calculate\n",
    "gs = list()\n",
    "gs.append([x/giant_without_removing(ba3) for x in giant_when_removing(ba3)])\n",
    "gs.append([x/giant_without_removing(ba4) for x in giant_when_removing(ba4)])\n",
    "gs.append([x/giant_without_removing(ba5) for x in giant_when_removing(ba5)])\n",
    "gs.append([x/giant_without_removing(ba6) for x in giant_when_removing(ba6)])"
   ]
  },
  {
   "cell_type": "code",
   "execution_count": null,
   "metadata": {},
   "outputs": [],
   "source": [
    "# Plot\n",
    "fractions = [1.0/2.0, 1.0/1.75, 1.0/1.5, 1.0/1.3, 1.0/1.2, 1.0/1.1, 1.0/1.05, 1.0/1.03]\n",
    "plt.scatter(fractions, gs[0])\n",
    "plt.scatter(fractions, gs[1])\n",
    "plt.scatter(fractions, gs[2])\n",
    "plt.scatter(fractions, gs[3])\n",
    "plt.title(\"Giant component for Barabasi-Albert graph with k~30\")\n",
    "plt.xlabel(\"Fraction of removed nodes\")\n",
    "plt.ylabel(\"Giant component\")\n",
    "plt.legend([\"N=10^3\", \"N=10^4\", \"N=10^5\", \"N=10^6\"])\n",
    "plt.savefig(\"Giant component for Barabasi-Albert graph with k~30\")\n",
    "plt.show()"
   ]
  },
  {
   "cell_type": "markdown",
   "metadata": {},
   "source": [
    "# Task 2"
   ]
  },
  {
   "cell_type": "code",
   "execution_count": null,
   "metadata": {},
   "outputs": [],
   "source": [
    "def giant_when_attacking(graph):\n",
    "    \"\"\"Returns the sizes of biggest subgraphs for each fraction of removed nodes\n",
    "    Fractions start at 0.5 and go to ca. 0.97 (it's amount of nodes divided by elements from fractions array)\"\"\"\n",
    "    giants = list()\n",
    "    # Couldn't thnik of smarter solution\n",
    "    fractions = np.array([2.0, 1.75, 1.5, 1.3, 1.2, 1.1, 1.05, 1.03])\n",
    "\n",
    "    for f in fractions:\n",
    "        xx = [x[0] for x in sorted(graph.degree, key=lambda x: x[1], reverse=True)]\n",
    "        x = xx[0:int(len(graph.nodes())/f)]\n",
    "        # Only now I realise how ineffective this is. But \\\"if it works, don't touch it\\\" :P\n",
    "        gc = graph.copy()\n",
    "        gc.remove_nodes_from(x)\n",
    "        giants.append(len(max(nx.connected_components(gc), key = len)))\n",
    "    return giants\n",
    "\n",
    "def giant_without_attacking(graph):\n",
    "    \"\"\"This is basically len(graph.nodes())\"\"\"\n",
    "    return len(max(nx.connected_components(graph), key = len))"
   ]
  },
  {
   "cell_type": "code",
   "execution_count": null,
   "metadata": {},
   "outputs": [],
   "source": [
    "# N=1000, 10000, 100000, 1000000\n",
    "# k=10, 20, 30\n",
    "wsg3 = nx.watts_strogatz_graph(n=1000, k=10, p=0.01)\n",
    "wsg4 = nx.watts_strogatz_graph(n=10000, k=10, p=0.01)\n",
    "wsg5 = nx.watts_strogatz_graph(n=100000, k=10, p=0.01)\n",
    "wsg6 = nx.watts_strogatz_graph(n=1000000, k=10, p=0.01)"
   ]
  },
  {
   "cell_type": "code",
   "execution_count": null,
   "metadata": {},
   "outputs": [],
   "source": [
    "gs = list()\n",
    "gs.append([x/giant_without_attacking(wsg3) for x in giant_when_attacking(wsg3)])\n",
    "gs.append([x/giant_without_attacking(wsg4) for x in giant_when_attacking(wsg4)])\n",
    "gs.append([x/giant_without_attacking(wsg5) for x in giant_when_attacking(wsg5)])\n",
    "gs.append([x/giant_without_attacking(wsg6) for x in giant_when_attacking(wsg6)])"
   ]
  },
  {
   "cell_type": "code",
   "execution_count": null,
   "metadata": {},
   "outputs": [],
   "source": [
    "fractions = [1.0/2.0, 1.0/1.75, 1.0/1.5, 1.0/1.3, 1.0/1.2, 1.0/1.1, 1.0/1.05, 1.0/1.03]\n",
    "plt.scatter(fractions, gs[0])\n",
    "plt.scatter(fractions, gs[1])\n",
    "plt.scatter(fractions, gs[2])\n",
    "plt.scatter(fractions, gs[3])\n",
    "plt.title(\"Giant component for attacking Watts-Strogatz graph with k=10\")\n",
    "plt.xlabel(\"Fraction of removed nodes\")\n",
    "plt.ylabel(\"Giant component\")\n",
    "plt.legend([\"N=10^3\", \"N=10^4\", \"N=10^5\", \"N=10^6\"])\n",
    "plt.savefig(\"Giant component for attacking Watts-Strogatz graph with k=10\")\n",
    "plt.show()"
   ]
  },
  {
   "cell_type": "code",
   "execution_count": null,
   "metadata": {},
   "outputs": [],
   "source": [
    "# k=20\n",
    "wsg3 = nx.watts_strogatz_graph(n=1000, k=20, p=0.01)\n",
    "wsg4 = nx.watts_strogatz_graph(n=10000, k=20, p=0.01)\n",
    "wsg5 = nx.watts_strogatz_graph(n=100000, k=20, p=0.01)\n",
    "wsg6 = nx.watts_strogatz_graph(n=1000000, k=20, p=0.01)"
   ]
  },
  {
   "cell_type": "code",
   "execution_count": null,
   "metadata": {},
   "outputs": [],
   "source": [
    "gs = list()\n",
    "gs.append([x/giant_without_attacking(wsg3) for x in giant_when_attacking(wsg3)])\n",
    "gs.append([x/giant_without_attacking(wsg4) for x in giant_when_attacking(wsg4)])\n",
    "gs.append([x/giant_without_attacking(wsg5) for x in giant_when_attacking(wsg5)])\n",
    "gs.append([x/giant_without_attacking(wsg6) for x in giant_when_attacking(wsg6)])"
   ]
  },
  {
   "cell_type": "code",
   "execution_count": null,
   "metadata": {},
   "outputs": [],
   "source": [
    "fractions = [1.0/2.0, 1.0/1.75, 1.0/1.5, 1.0/1.3, 1.0/1.2, 1.0/1.1, 1.0/1.05, 1.0/1.03]\n",
    "plt.scatter(fractions, gs[0])\n",
    "plt.scatter(fractions, gs[1])\n",
    "plt.scatter(fractions, gs[2])\n",
    "plt.scatter(fractions, gs[3])\n",
    "plt.title(\"Giant component for attacking Watts-Strogatz graph with k=20\")\n",
    "plt.xlabel(\"Fraction of removed nodes\")\n",
    "plt.ylabel(\"Giant component\")\n",
    "plt.legend([\"N=10^3\", \"N=10^4\", \"N=10^5\", \"N=10^6\"])\n",
    "plt.savefig(\"Giant component for attacking Watts-Strogatz graph with k=20\")\n",
    "plt.show()"
   ]
  },
  {
   "cell_type": "code",
   "execution_count": null,
   "metadata": {},
   "outputs": [],
   "source": [
    "# k=30\n",
    "wsg3 = nx.watts_strogatz_graph(n=1000, k=30, p=0.01)\n",
    "wsg4 = nx.watts_strogatz_graph(n=10000, k=30, p=0.01)\n",
    "wsg5 = nx.watts_strogatz_graph(n=100000, k=30, p=0.01)\n",
    "wsg6 = nx.watts_strogatz_graph(n=1000000, k=30, p=0.01)"
   ]
  },
  {
   "cell_type": "code",
   "execution_count": null,
   "metadata": {},
   "outputs": [],
   "source": [
    "gs = list()\n",
    "gs.append([x/giant_without_attacking(wsg3) for x in giant_when_attacking(wsg3)])\n",
    "gs.append([x/giant_without_attacking(wsg4) for x in giant_when_attacking(wsg4)])\n",
    "gs.append([x/giant_without_attacking(wsg5) for x in giant_when_attacking(wsg5)])\n",
    "gs.append([x/giant_without_attacking(wsg6) for x in giant_when_attacking(wsg6)])"
   ]
  },
  {
   "cell_type": "code",
   "execution_count": null,
   "metadata": {},
   "outputs": [],
   "source": [
    "fractions = [1.0/2.0, 1.0/1.75, 1.0/1.5, 1.0/1.3, 1.0/1.2, 1.0/1.1, 1.0/1.05, 1.0/1.03]\n",
    "plt.scatter(fractions, gs[0])\n",
    "plt.scatter(fractions, gs[1])\n",
    "plt.scatter(fractions, gs[2])\n",
    "plt.scatter(fractions, gs[3])\n",
    "plt.title(\"Giant component for attacking Watts-Strogatz graph with k=30\")\n",
    "plt.xlabel(\"Fraction of removed nodes\")\n",
    "plt.ylabel(\"Giant component\")\n",
    "plt.legend([\"N=10^3\", \"N=10^4\", \"N=10^5\", \"N=10^6\"])\n",
    "plt.savefig(\"Giant component for attacking Watts-Strogatz graph with k=30\")\n",
    "plt.show()"
   ]
  },
  {
   "cell_type": "code",
   "execution_count": null,
   "metadata": {},
   "outputs": [],
   "source": [
    "# k=10\n",
    "er3 = nx.fast_gnp_random_graph(n=1000, p=10/(1000-1))\n",
    "er4 = nx.fast_gnp_random_graph(n=10000, p=10/(10000-1))\n",
    "er5 = nx.fast_gnp_random_graph(n=100000, p=10/(100000-1))\n",
    "er6 = nx.fast_gnp_random_graph(n=1000000, p=10/(1000000-1))"
   ]
  },
  {
   "cell_type": "code",
   "execution_count": null,
   "metadata": {},
   "outputs": [],
   "source": [
    "gs = list()\n",
    "gs.append([x/giant_without_attacking(er3) for x in giant_when_attacking(er3)])\n",
    "gs.append([x/giant_without_attacking(er4) for x in giant_when_attacking(er4)])\n",
    "gs.append([x/giant_without_attacking(er5) for x in giant_when_attacking(er5)])\n",
    "gs.append([x/giant_without_attacking(er6) for x in giant_when_attacking(er6)])"
   ]
  },
  {
   "cell_type": "code",
   "execution_count": null,
   "metadata": {},
   "outputs": [],
   "source": [
    "fractions = [1.0/2.0, 1.0/1.75, 1.0/1.5, 1.0/1.3, 1.0/1.2, 1.0/1.1, 1.0/1.05, 1.0/1.03]\n",
    "plt.scatter(fractions, gs[0])\n",
    "plt.scatter(fractions, gs[1])\n",
    "plt.scatter(fractions, gs[2])\n",
    "plt.scatter(fractions, gs[3])\n",
    "plt.title(\"Giant component for attacking Random Graph with k=10\")\n",
    "plt.xlabel(\"Fraction of removed nodes\")\n",
    "plt.ylabel(\"Giant component\")\n",
    "plt.legend([\"N=10^3\", \"N=10^4\", \"N=10^5\", \"N=10^6\"])\n",
    "plt.savefig(\"Giant component for attacking Random graph with k=10\")\n",
    "plt.show()"
   ]
  },
  {
   "cell_type": "code",
   "execution_count": null,
   "metadata": {},
   "outputs": [],
   "source": [
    "# k=20\n",
    "er3 = nx.fast_gnp_random_graph(n=1000, p=20/(1000-1))\n",
    "er4 = nx.fast_gnp_random_graph(n=10000, p=20/(10000-1))\n",
    "er5 = nx.fast_gnp_random_graph(n=100000, p=20/(100000-1))\n",
    "er6 = nx.fast_gnp_random_graph(n=1000000, p=20/(1000000-1))"
   ]
  },
  {
   "cell_type": "code",
   "execution_count": null,
   "metadata": {},
   "outputs": [],
   "source": [
    "gs = list()\n",
    "gs.append([x/giant_without_attacking(er3) for x in giant_when_attacking(er3)])\n",
    "gs.append([x/giant_without_attacking(er4) for x in giant_when_attacking(er4)])\n",
    "gs.append([x/giant_without_attacking(er5) for x in giant_when_attacking(er5)])\n",
    "gs.append([x/giant_without_attacking(er6) for x in giant_when_attacking(er6)])"
   ]
  },
  {
   "cell_type": "code",
   "execution_count": null,
   "metadata": {},
   "outputs": [],
   "source": [
    "fractions = [1.0/2.0, 1.0/1.75, 1.0/1.5, 1.0/1.3, 1.0/1.2, 1.0/1.1, 1.0/1.05, 1.0/1.03]\n",
    "plt.scatter(fractions, gs[0])\n",
    "plt.scatter(fractions, gs[1])\n",
    "plt.scatter(fractions, gs[2])\n",
    "plt.scatter(fractions, gs[3])\n",
    "plt.title(\"Giant component for attacking Random Graph with k=20\")\n",
    "plt.xlabel(\"Fraction of removed nodes\")\n",
    "plt.ylabel(\"Giant component\")\n",
    "plt.legend([\"N=10^3\", \"N=10^4\", \"N=10^5\", \"N=10^6\"])\n",
    "plt.savefig(\"Giant component for attacking Random graph with k=20\")\n",
    "plt.show()"
   ]
  },
  {
   "cell_type": "code",
   "execution_count": null,
   "metadata": {},
   "outputs": [],
   "source": [
    "# k=30\n",
    "er3 = nx.fast_gnp_random_graph(n=1000, p=30/(1000-1))\n",
    "er4 = nx.fast_gnp_random_graph(n=10000, p=30/(10000-1))\n",
    "er5 = nx.fast_gnp_random_graph(n=100000, p=30/(100000-1))\n",
    "er6 = nx.fast_gnp_random_graph(n=1000000, p=30/(1000000-1))"
   ]
  },
  {
   "cell_type": "code",
   "execution_count": null,
   "metadata": {},
   "outputs": [],
   "source": [
    "gs = list()\n",
    "gs.append([x/giant_without_attacking(er3) for x in giant_when_attacking(er3)])\n",
    "gs.append([x/giant_without_attacking(er4) for x in giant_when_attacking(er4)])\n",
    "gs.append([x/giant_without_attacking(er5) for x in giant_when_attacking(er5)])\n",
    "gs.append([x/giant_without_attacking(er6) for x in giant_when_attacking(er6)])"
   ]
  },
  {
   "cell_type": "code",
   "execution_count": null,
   "metadata": {},
   "outputs": [],
   "source": [
    "fractions = [1.0/2.0, 1.0/1.75, 1.0/1.5, 1.0/1.3, 1.0/1.2, 1.0/1.1, 1.0/1.05, 1.0/1.03]\n",
    "plt.scatter(fractions, gs[0])\n",
    "plt.scatter(fractions, gs[1])\n",
    "plt.scatter(fractions, gs[2])\n",
    "plt.scatter(fractions, gs[3])\n",
    "plt.title(\"Giant component for attacking Random Graph with k=30\")\n",
    "plt.xlabel(\"Fraction of removed nodes\")\n",
    "plt.ylabel(\"Giant component\")\n",
    "plt.legend([\"N=10^3\", \"N=10^4\", \"N=10^5\", \"N=10^6\"])\n",
    "plt.savefig(\"Giant component for attacking Random graph with k=30\")\n",
    "plt.show()"
   ]
  },
  {
   "cell_type": "code",
   "execution_count": null,
   "metadata": {},
   "outputs": [],
   "source": [
    "# k=10\n",
    "ba3 = nx.barabasi_albert_graph(n=1000,m=5)\n",
    "ba4 = nx.barabasi_albert_graph(n=10000,m=5)\n",
    "ba5 = nx.barabasi_albert_graph(n=100000,m=5)\n",
    "ba6 = nx.barabasi_albert_graph(n=1000000,m=5)\n",
    "print(mean_degree(ba3))"
   ]
  },
  {
   "cell_type": "code",
   "execution_count": null,
   "metadata": {},
   "outputs": [],
   "source": [
    "# Calculate\n",
    "gs = list()\n",
    "gs.append([x/giant_without_attacking(ba3) for x in giant_when_attacking(ba3)])\n",
    "gs.append([x/giant_without_attacking(ba4) for x in giant_when_attacking(ba4)])\n",
    "gs.append([x/giant_without_attacking(ba5) for x in giant_when_attacking(ba5)])\n",
    "gs.append([x/giant_without_attacking(ba6) for x in giant_when_attacking(ba6)])"
   ]
  },
  {
   "cell_type": "code",
   "execution_count": null,
   "metadata": {},
   "outputs": [],
   "source": [
    "fractions = [1.0/2.0, 1.0/1.75, 1.0/1.5, 1.0/1.3, 1.0/1.2, 1.0/1.1, 1.0/1.05, 1.0/1.03]\n",
    "plt.scatter(fractions, gs[0])\n",
    "plt.scatter(fractions, gs[1])\n",
    "plt.scatter(fractions, gs[2])\n",
    "plt.scatter(fractions, gs[3])\n",
    "plt.title(\"Giant component for attacking Barabasi-Albert Graph with k=10\")\n",
    "plt.xlabel(\"Fraction of removed nodes\")\n",
    "plt.ylabel(\"Giant component\")\n",
    "plt.legend([\"N=10^3\", \"N=10^4\", \"N=10^5\", \"N=10^6\"])\n",
    "plt.savefig(\"Giant component for attacking Barabasi-Albert graph with k=10\")\n",
    "plt.show()"
   ]
  },
  {
   "cell_type": "code",
   "execution_count": null,
   "metadata": {},
   "outputs": [],
   "source": [
    "# k=20\n",
    "ba3 = nx.barabasi_albert_graph(n=1000,m=10)\n",
    "ba4 = nx.barabasi_albert_graph(n=10000,m=10)\n",
    "ba5 = nx.barabasi_albert_graph(n=100000,m=10)\n",
    "ba6 = nx.barabasi_albert_graph(n=1000000,m=10)\n",
    "print(mean_degree(ba3))"
   ]
  },
  {
   "cell_type": "code",
   "execution_count": null,
   "metadata": {},
   "outputs": [],
   "source": [
    "# Calculate\n",
    "gs = list()\n",
    "gs.append([x/giant_without_attacking(ba3) for x in giant_when_attacking(ba3)])\n",
    "gs.append([x/giant_without_attacking(ba4) for x in giant_when_attacking(ba4)])\n",
    "gs.append([x/giant_without_attacking(ba5) for x in giant_when_attacking(ba5)])\n",
    "gs.append([x/giant_without_attacking(ba6) for x in giant_when_attacking(ba6)])"
   ]
  },
  {
   "cell_type": "code",
   "execution_count": null,
   "metadata": {},
   "outputs": [],
   "source": [
    "fractions = [1.0/2.0, 1.0/1.75, 1.0/1.5, 1.0/1.3, 1.0/1.2, 1.0/1.1, 1.0/1.05, 1.0/1.03]\n",
    "plt.scatter(fractions, gs[0])\n",
    "plt.scatter(fractions, gs[1])\n",
    "plt.scatter(fractions, gs[2])\n",
    "plt.scatter(fractions, gs[3])\n",
    "plt.title(\"Giant component for attacking Barabasi-Albert Graph with k=20\")\n",
    "plt.xlabel(\"Fraction of removed nodes\")\n",
    "plt.ylabel(\"Giant component\")\n",
    "plt.legend([\"N=10^3\", \"N=10^4\", \"N=10^5\", \"N=10^6\"])\n",
    "plt.savefig(\"Giant component for attacking Barabasi-Albert graph with k=20\")\n",
    "plt.show()"
   ]
  },
  {
   "cell_type": "code",
   "execution_count": null,
   "metadata": {},
   "outputs": [],
   "source": [
    "# k=30\n",
    "ba3 = nx.barabasi_albert_graph(n=1000,m=15)\n",
    "ba4 = nx.barabasi_albert_graph(n=10000,m=15)\n",
    "ba5 = nx.barabasi_albert_graph(n=100000,m=15)\n",
    "ba6 = nx.barabasi_albert_graph(n=1000000,m=15)\n",
    "print(mean_degree(ba3))"
   ]
  },
  {
   "cell_type": "code",
   "execution_count": null,
   "metadata": {},
   "outputs": [],
   "source": [
    "# Calculate\n",
    "gs = list()\n",
    "gs.append([x/giant_without_attacking(ba3) for x in giant_when_attacking(ba3)])\n",
    "gs.append([x/giant_without_attacking(ba4) for x in giant_when_attacking(ba4)])\n",
    "gs.append([x/giant_without_attacking(ba5) for x in giant_when_attacking(ba5)])\n",
    "gs.append([x/giant_without_attacking(ba6) for x in giant_when_attacking(ba6)])"
   ]
  },
  {
   "cell_type": "code",
   "execution_count": null,
   "metadata": {},
   "outputs": [],
   "source": [
    "fractions = [1.0/2.0, 1.0/1.75, 1.0/1.5, 1.0/1.3, 1.0/1.2, 1.0/1.1, 1.0/1.05, 1.0/1.03]\n",
    "plt.scatter(fractions, gs[0])\n",
    "plt.scatter(fractions, gs[1])\n",
    "plt.scatter(fractions, gs[2])\n",
    "plt.scatter(fractions, gs[3])\n",
    "plt.title(\"Giant component for attacking Barabasi-Albert Graph with k=30\")\n",
    "plt.xlabel(\"Fraction of removed nodes\")\n",
    "plt.ylabel(\"Giant component\")\n",
    "plt.legend([\"N=10^3\", \"N=10^4\", \"N=10^5\", \"N=10^6\"])\n",
    "plt.savefig(\"Giant component for attacking Barabasi-Albert graph with k=30\")\n",
    "plt.show()"
   ]
  },
  {
   "cell_type": "code",
   "execution_count": null,
   "metadata": {},
   "outputs": [],
   "source": []
  },
  {
   "cell_type": "code",
   "execution_count": null,
   "metadata": {},
   "outputs": [],
   "source": []
  },
  {
   "cell_type": "code",
   "execution_count": null,
   "metadata": {},
   "outputs": [],
   "source": []
  },
  {
   "cell_type": "code",
   "execution_count": null,
   "metadata": {},
   "outputs": [],
   "source": []
  },
  {
   "cell_type": "code",
   "execution_count": null,
   "metadata": {},
   "outputs": [],
   "source": []
  },
  {
   "cell_type": "code",
   "execution_count": null,
   "metadata": {},
   "outputs": [],
   "source": []
  },
  {
   "cell_type": "code",
   "execution_count": null,
   "metadata": {},
   "outputs": [],
   "source": []
  },
  {
   "cell_type": "code",
   "execution_count": null,
   "metadata": {},
   "outputs": [],
   "source": []
  },
  {
   "cell_type": "code",
   "execution_count": null,
   "metadata": {},
   "outputs": [],
   "source": []
  },
  {
   "cell_type": "code",
   "execution_count": null,
   "metadata": {},
   "outputs": [],
   "source": []
  },
  {
   "cell_type": "code",
   "execution_count": null,
   "metadata": {},
   "outputs": [],
   "source": []
  },
  {
   "cell_type": "code",
   "execution_count": null,
   "metadata": {},
   "outputs": [],
   "source": []
  },
  {
   "cell_type": "code",
   "execution_count": null,
   "metadata": {},
   "outputs": [],
   "source": []
  }
 ],
 "metadata": {
  "kernelspec": {
   "display_name": "Python 3",
   "language": "python",
   "name": "python3"
  },
  "language_info": {
   "codemirror_mode": {
    "name": "ipython",
    "version": 3
   },
   "file_extension": ".py",
   "mimetype": "text/x-python",
   "name": "python",
   "nbconvert_exporter": "python",
   "pygments_lexer": "ipython3",
   "version": "3.7.5"
  }
 },
 "nbformat": 4,
 "nbformat_minor": 4
}
