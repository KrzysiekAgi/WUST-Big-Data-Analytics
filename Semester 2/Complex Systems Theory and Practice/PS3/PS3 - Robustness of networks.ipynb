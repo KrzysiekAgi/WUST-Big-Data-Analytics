{
 "cells": [
  {
   "cell_type": "code",
   "execution_count": 1,
   "metadata": {},
   "outputs": [],
   "source": [
    "import networkx as nx\n",
    "import numpy as np\n",
    "import matplotlib.pyplot as plt\n",
    "import random\n",
    "plt.style.use('ggplot')"
   ]
  },
  {
   "cell_type": "markdown",
   "metadata": {},
   "source": [
    "# Task 1"
   ]
  },
  {
   "cell_type": "markdown",
   "metadata": {},
   "source": [
    "### Watts-Strogatz Graph"
   ]
  },
  {
   "cell_type": "code",
   "execution_count": 4,
   "metadata": {},
   "outputs": [],
   "source": [
    "# N=1000, 10000, 100000, 1000000\n",
    "# k=10, 20, 30\n",
    "wsg3 = nx.watts_strogatz_graph(n=1000, k=10, p=0.01)\n",
    "wsg4 = nx.watts_strogatz_graph(n=10000, k=10, p=0.01)\n",
    "wsg5 = nx.watts_strogatz_graph(n=100000, k=10, p=0.01)\n",
    "wsg6 = nx.watts_strogatz_graph(n=1000000, k=10, p=0.01)"
   ]
  },
  {
   "cell_type": "code",
   "execution_count": 14,
   "metadata": {},
   "outputs": [],
   "source": [
    "def giant_when_removing(graph):\n",
    "    \"\"\"Returns the sizes of biggest subgraphs for each fraction of removed nodes\n",
    "    Fractions start at 0.5 and go to ca. 0.97 (it's amount of nodes divided by elements from fractions array)\"\"\"\n",
    "    giants = list()\n",
    "    # Couldn't thnik of smarter solution\n",
    "    fractions = np.array([2.0, 1.75, 1.5, 1.3, 1.2, 1.1, 1.05, 1.03])\n",
    "\n",
    "    for f in fractions:\n",
    "        print(\"fraction: \" + str(f))\n",
    "        x = np.random.choice(len(graph.nodes()), int(len(graph.nodes())/f), replace=False)\n",
    "        # Only now I realise how ineffective this is. But \"if it works, don't touch it\" :P\n",
    "        gc = graph.copy()\n",
    "        gc.remove_nodes_from(x)\n",
    "        giants.append(len(max(nx.connected_components(gc), key = len)))\n",
    "    return giants\n",
    "\n",
    "def giant_without_removing(graph):\n",
    "    \"\"\"This is basically len(graph.nodes())\"\"\"\n",
    "    return len(max(nx.connected_components(graph), key = len))"
   ]
  },
  {
   "cell_type": "code",
   "execution_count": 5,
   "metadata": {},
   "outputs": [
    {
     "name": "stdout",
     "output_type": "stream",
     "text": [
      "1\n",
      "2\n",
      "3\n"
     ]
    },
    {
     "data": {
      "text/plain": [
       "[[0.372, 0.178, 0.055, 0.016, 0.014, 0.005, 0.002, 0.002],\n",
       " [0.4126, 0.1181, 0.0132, 0.0026, 0.0015, 0.0008, 0.0005, 0.0005],\n",
       " [0.39447, 0.11942, 0.00174, 0.00038, 0.0002, 0.00013, 6e-05, 6e-05],\n",
       " [0.398331, 0.147062, 0.00045, 7.5e-05, 2.7e-05, 1.4e-05, 9e-06, 6e-06]]"
      ]
     },
     "execution_count": 5,
     "metadata": {},
     "output_type": "execute_result"
    }
   ],
   "source": [
    "gs = list()\n",
    "gs.append([x/giant_without_removing(wsg3) for x in giant_when_removing(wsg3)])\n",
    "gs.append([x/giant_without_removing(wsg4) for x in giant_when_removing(wsg4)])\n",
    "gs.append([x/giant_without_removing(wsg5) for x in giant_when_removing(wsg5)])\n",
    "gs.append([x/giant_without_removing(wsg6) for x in giant_when_removing(wsg6)])\n",
    "gs"
   ]
  },
  {
   "cell_type": "code",
   "execution_count": 6,
   "metadata": {},
   "outputs": [
    {
     "data": {
      "image/png": "[encoded data removed]",
      "text/plain": [
       "<Figure size 432x288 with 1 Axes>"
      ]
     },
     "metadata": {
      "needs_background": "light"
     },
     "output_type": "display_data"
    }
   ],
   "source": [
    "fractions = [1.0/2.0, 1.0/1.75, 1.0/1.5, 1.0/1.3, 1.0/1.2, 1.0/1.1, 1.0/1.05, 1.0/1.03] \n",
    "plt.plot(fractions, gs[0])\n",
    "plt.plot(fractions, gs[1])\n",
    "plt.plot(fractions, gs[2])\n",
    "plt.plot(fractions, gs[3])\n",
    "plt.title(\"Giant component for Watts-Strogatz graph with k=10\")\n",
    "plt.xlabel(\"Fraction of removed nodes\")\n",
    "plt.ylabel(\"Giant component\")\n",
    "plt.legend([\"N=10^3\", \"N=10^4\", \"N=10^5\", \"N=10^6\"])\n",
    "plt.show()"
   ]
  },
  {
   "cell_type": "code",
   "execution_count": 10,
   "metadata": {},
   "outputs": [],
   "source": [
    "# Redeclare for k=20\n",
    "wsg3 = nx.watts_strogatz_graph(n=1000, k=20, p=0.01)\n",
    "wsg4 = nx.watts_strogatz_graph(n=10000, k=20, p=0.01)\n",
    "wsg5 = nx.watts_strogatz_graph(n=100000, k=20, p=0.01)\n",
    "wsg6 = nx.watts_strogatz_graph(n=1000000, k=20, p=0.01)"
   ]
  },
  {
   "cell_type": "code",
   "execution_count": 13,
   "metadata": {},
   "outputs": [
    {
     "name": "stdout",
     "output_type": "stream",
     "text": [
      "fraction: 2.0\n",
      "fraction: 1.75\n",
      "fraction: 1.5\n",
      "fraction: 1.3\n",
      "fraction: 1.2\n",
      "fraction: 1.1\n",
      "fraction: 1.05\n",
      "fraction: 1.03\n",
      "fraction: 2.0\n",
      "fraction: 1.75\n",
      "fraction: 1.5\n",
      "fraction: 1.3\n",
      "fraction: 1.2\n",
      "fraction: 1.1\n",
      "fraction: 1.05\n",
      "fraction: 1.03\n",
      "fraction: 2.0\n",
      "fraction: 1.75\n",
      "fraction: 1.5\n",
      "fraction: 1.3\n",
      "fraction: 1.2\n",
      "fraction: 1.1\n",
      "fraction: 1.05\n",
      "fraction: 1.03\n",
      "fraction: 2.0\n",
      "fraction: 1.75\n",
      "fraction: 1.5\n",
      "fraction: 1.3\n",
      "fraction: 1.2\n",
      "fraction: 1.1\n",
      "fraction: 1.05\n",
      "fraction: 1.03\n"
     ]
    }
   ],
   "source": [
    "# Calculate\n",
    "gs = list()\n",
    "gs.append([x/giant_without_removing(wsg3) for x in giant_when_removing(wsg3)])\n",
    "gs.append([x/giant_without_removing(wsg4) for x in giant_when_removing(wsg4)])\n",
    "gs.append([x/giant_without_removing(wsg5) for x in giant_when_removing(wsg5)])\n",
    "gs.append([x/giant_without_removing(wsg6) for x in giant_when_removing(wsg6)])"
   ]
  },
  {
   "cell_type": "code",
   "execution_count": 15,
   "metadata": {},
   "outputs": [
    {
     "data": {
      "image/png": "[encoded data removed]",
      "text/plain": [
       "<Figure size 432x288 with 1 Axes>"
      ]
     },
     "metadata": {
      "needs_background": "light"
     },
     "output_type": "display_data"
    }
   ],
   "source": [
    "# Plot\n",
    "fractions = [1.0/2.0, 1.0/1.75, 1.0/1.5, 1.0/1.3, 1.0/1.2, 1.0/1.1, 1.0/1.05, 1.0/1.03] \n",
    "plt.plot(fractions, gs[0])\n",
    "plt.plot(fractions, gs[1])\n",
    "plt.plot(fractions, gs[2])\n",
    "plt.plot(fractions, gs[3])\n",
    "plt.title(\"Giant component for Watts-Strogatz graph with k=20\")\n",
    "plt.xlabel(\"Fraction of removed nodes\")\n",
    "plt.ylabel(\"Giant component\")\n",
    "plt.legend([\"N=10^3\", \"N=10^4\", \"N=10^5\", \"N=10^6\"])\n",
    "plt.show()"
   ]
  },
  {
   "cell_type": "code",
   "execution_count": 16,
   "metadata": {},
   "outputs": [],
   "source": [
    "# Redeclare for k=30\n",
    "wsg3 = nx.watts_strogatz_graph(n=1000, k=30, p=0.01)\n",
    "wsg4 = nx.watts_strogatz_graph(n=10000, k=30, p=0.01)\n",
    "wsg5 = nx.watts_strogatz_graph(n=100000, k=30, p=0.01)\n",
    "wsg6 = nx.watts_strogatz_graph(n=1000000, k=30, p=0.01)"
   ]
  },
  {
   "cell_type": "code",
   "execution_count": 17,
   "metadata": {},
   "outputs": [
    {
     "name": "stdout",
     "output_type": "stream",
     "text": [
      "fraction: 2.0\n",
      "fraction: 1.75\n",
      "fraction: 1.5\n",
      "fraction: 1.3\n",
      "fraction: 1.2\n",
      "fraction: 1.1\n",
      "fraction: 1.05\n",
      "fraction: 1.03\n",
      "fraction: 2.0\n",
      "fraction: 1.75\n",
      "fraction: 1.5\n",
      "fraction: 1.3\n",
      "fraction: 1.2\n",
      "fraction: 1.1\n",
      "fraction: 1.05\n",
      "fraction: 1.03\n",
      "fraction: 2.0\n",
      "fraction: 1.75\n",
      "fraction: 1.5\n",
      "fraction: 1.3\n",
      "fraction: 1.2\n",
      "fraction: 1.1\n",
      "fraction: 1.05\n",
      "fraction: 1.03\n",
      "fraction: 2.0\n",
      "fraction: 1.75\n",
      "fraction: 1.5\n",
      "fraction: 1.3\n",
      "fraction: 1.2\n",
      "fraction: 1.1\n",
      "fraction: 1.05\n",
      "fraction: 1.03\n"
     ]
    }
   ],
   "source": [
    "# Calculate\n",
    "gs = list()\n",
    "gs.append([x/giant_without_removing(wsg3) for x in giant_when_removing(wsg3)])\n",
    "gs.append([x/giant_without_removing(wsg4) for x in giant_when_removing(wsg4)])\n",
    "gs.append([x/giant_without_removing(wsg5) for x in giant_when_removing(wsg5)])\n",
    "gs.append([x/giant_without_removing(wsg6) for x in giant_when_removing(wsg6)])"
   ]
  },
  {
   "cell_type": "code",
   "execution_count": 19,
   "metadata": {},
   "outputs": [
    {
     "data": {
      "image/png": "[encoded data removed]",
      "text/plain": [
       "<Figure size 432x288 with 1 Axes>"
      ]
     },
     "metadata": {
      "needs_background": "light"
     },
     "output_type": "display_data"
    }
   ],
   "source": [
    "# Plot\n",
    "fractions = [1.0/2.0, 1.0/1.75, 1.0/1.5, 1.0/1.3, 1.0/1.2, 1.0/1.1, 1.0/1.05, 1.0/1.03] \n",
    "plt.plot(fractions, gs[0])\n",
    "plt.plot(fractions, gs[1])\n",
    "plt.plot(fractions, gs[2])\n",
    "plt.plot(fractions, gs[3])\n",
    "plt.title(\"Giant component for Watts-Strogatz graph with k=30\")\n",
    "plt.xlabel(\"Fraction of removed nodes\")\n",
    "plt.ylabel(\"Giant component\")\n",
    "plt.legend([\"N=10^3\", \"N=10^4\", \"N=10^5\", \"N=10^6\"])\n",
    "plt.show()"
   ]
  },
  {
   "cell_type": "markdown",
   "metadata": {},
   "source": [
    "### Random Graph"
   ]
  },
  {
   "cell_type": "code",
   "execution_count": null,
   "metadata": {},
   "outputs": [],
   "source": [
    "# k=10\n",
    "er3 = nx.fast_gnp_random_graph(n=1000, p=10/(1000-1))\n",
    "er4 = nx.fast_gnp_random_graph(n=10000, p=10/(10000-1))\n",
    "er5 = nx.fast_gnp_random_graph(n=100000, p=10/(100000-1))\n",
    "er6 = nx.fast_gnp_random_graph(n=1000000, p=10/(1000000-1))"
   ]
  },
  {
   "cell_type": "code",
   "execution_count": 36,
   "metadata": {},
   "outputs": [
    {
     "name": "stdout",
     "output_type": "stream",
     "text": [
      "9.84\n",
      "10.0158\n",
      "9.99738\n",
      "99.992862\n"
     ]
    }
   ],
   "source": [
    "def mean_degree(G):\n",
    "    degrees = [G.degree(n) for n in G.nodes()]\n",
    "    return sum(degrees)/float(len(degrees))\n",
    "\n",
    "print(mean_degree(er3))\n",
    "print(mean_degree(er4))\n",
    "print(mean_degree(er5))\n",
    "print(mean_degree(er6))"
   ]
  },
  {
   "cell_type": "code",
   "execution_count": null,
   "metadata": {},
   "outputs": [],
   "source": [
    "# Calculate\n",
    "gs = list()\n",
    "gs.append([x/giant_without_removing(er3) for x in giant_when_removing(er3)])\n",
    "gs.append([x/giant_without_removing(er4) for x in giant_when_removing(er4)])\n",
    "gs.append([x/giant_without_removing(er5) for x in giant_when_removing(er5)])\n",
    "gs.append([x/giant_without_removing(er6) for x in giant_when_removing(er6)])"
   ]
  },
  {
   "cell_type": "code",
   "execution_count": null,
   "metadata": {},
   "outputs": [],
   "source": [
    "# Plot\n",
    "fractions = [1.0/2.0, 1.0/1.75, 1.0/1.5, 1.0/1.3, 1.0/1.2, 1.0/1.1, 1.0/1.05, 1.0/1.03] \n",
    "plt.plot(fractions, gs[0])\n",
    "plt.plot(fractions, gs[1])\n",
    "plt.plot(fractions, gs[2])\n",
    "plt.plot(fractions, gs[3])\n",
    "plt.title(\"Giant component for random graph with k~10\")\n",
    "plt.xlabel(\"Fraction of removed nodes\")\n",
    "plt.ylabel(\"Giant component\")\n",
    "plt.legend([\"N=10^3\", \"N=10^4\", \"N=10^5\", \"N=10^6\"])\n",
    "plt.show()"
   ]
  },
  {
   "cell_type": "code",
   "execution_count": null,
   "metadata": {},
   "outputs": [],
   "source": [
    "# k=20\n",
    "er3 = nx.fast_gnp_random_graph(n=1000, p=20/(1000-1))\n",
    "er4 = nx.fast_gnp_random_graph(n=10000, p=20/(10000-1))\n",
    "er5 = nx.fast_gnp_random_graph(n=100000, p=20/(100000-1))\n",
    "er6 = nx.fast_gnp_random_graph(n=1000000, p=20/(1000000-1))\n",
    "print(mean_degree(er3))"
   ]
  },
  {
   "cell_type": "code",
   "execution_count": null,
   "metadata": {},
   "outputs": [],
   "source": [
    "# Calculate\n",
    "gs = list()\n",
    "gs.append([x/giant_without_removing(er3) for x in giant_when_removing(er3)])\n",
    "gs.append([x/giant_without_removing(er4) for x in giant_when_removing(er4)])\n",
    "gs.append([x/giant_without_removing(er5) for x in giant_when_removing(er5)])\n",
    "gs.append([x/giant_without_removing(er6) for x in giant_when_removing(er6)])"
   ]
  },
  {
   "cell_type": "code",
   "execution_count": null,
   "metadata": {},
   "outputs": [],
   "source": [
    "# Plot\n",
    "fractions = [1.0/2.0, 1.0/1.75, 1.0/1.5, 1.0/1.3, 1.0/1.2, 1.0/1.1, 1.0/1.05, 1.0/1.03] \n",
    "plt.plot(fractions, gs[0])\n",
    "plt.plot(fractions, gs[1])\n",
    "plt.plot(fractions, gs[2])\n",
    "plt.plot(fractions, gs[3])\n",
    "plt.title(\"Giant component for random graph with k~20\")\n",
    "plt.xlabel(\"Fraction of removed nodes\")\n",
    "plt.ylabel(\"Giant component\")\n",
    "plt.legend([\"N=10^3\", \"N=10^4\", \"N=10^5\", \"N=10^6\"])\n",
    "plt.show()"
   ]
  },
  {
   "cell_type": "code",
   "execution_count": null,
   "metadata": {},
   "outputs": [],
   "source": [
    "# k=30\n",
    "er3 = nx.fast_gnp_random_graph(n=1000, p=30/(1000-1))\n",
    "er4 = nx.fast_gnp_random_graph(n=10000, p=30/(10000-1))\n",
    "er5 = nx.fast_gnp_random_graph(n=100000, p=30/(100000-1))\n",
    "er6 = nx.fast_gnp_random_graph(n=1000000, p=30/(1000000-1))\n",
    "print(mean_degree(er3))"
   ]
  },
  {
   "cell_type": "code",
   "execution_count": null,
   "metadata": {},
   "outputs": [],
   "source": [
    "# Calculate\n",
    "gs = list()\n",
    "gs.append([x/giant_without_removing(er3) for x in giant_when_removing(er3)])\n",
    "gs.append([x/giant_without_removing(er4) for x in giant_when_removing(er4)])\n",
    "gs.append([x/giant_without_removing(er5) for x in giant_when_removing(er5)])\n",
    "gs.append([x/giant_without_removing(er6) for x in giant_when_removing(er6)])"
   ]
  },
  {
   "cell_type": "code",
   "execution_count": null,
   "metadata": {},
   "outputs": [],
   "source": [
    "# Plot\n",
    "fractions = [1.0/2.0, 1.0/1.75, 1.0/1.5, 1.0/1.3, 1.0/1.2, 1.0/1.1, 1.0/1.05, 1.0/1.03] \n",
    "plt.plot(fractions, gs[0])\n",
    "plt.plot(fractions, gs[1])\n",
    "plt.plot(fractions, gs[2])\n",
    "plt.plot(fractions, gs[3])\n",
    "plt.title(\"Giant component for random graph with k~30\")\n",
    "plt.xlabel(\"Fraction of removed nodes\")\n",
    "plt.ylabel(\"Giant component\")\n",
    "plt.legend([\"N=10^3\", \"N=10^4\", \"N=10^5\", \"N=10^6\"])\n",
    "plt.show()"
   ]
  },
  {
   "cell_type": "markdown",
   "metadata": {},
   "source": [
    "### Barabasi-Albert graph"
   ]
  },
  {
   "cell_type": "code",
   "execution_count": null,
   "metadata": {},
   "outputs": [],
   "source": [
    "# k=10\n",
    "ba3 = nx.barabasi_albert_graph(n=1000,m=5)\n",
    "ba4 = nx.barabasi_albert_graph(n=10000,m=5)\n",
    "ba5 = nx.barabasi_albert_graph(n=100000,m=5)\n",
    "ba6 = nx.barabasi_albert_graph(n=1000000,m=5)\n",
    "print(mean_degree(ba3))"
   ]
  },
  {
   "cell_type": "code",
   "execution_count": null,
   "metadata": {},
   "outputs": [],
   "source": [
    "# Calculate\n",
    "gs = list()\n",
    "gs.append([x/giant_without_removing(ba3) for x in giant_when_removing(ba3)])\n",
    "gs.append([x/giant_without_removing(ba4) for x in giant_when_removing(ba4)])\n",
    "gs.append([x/giant_without_removing(ba5) for x in giant_when_removing(ba5)])\n",
    "gs.append([x/giant_without_removing(ba6) for x in giant_when_removing(ba6)])"
   ]
  },
  {
   "cell_type": "code",
   "execution_count": null,
   "metadata": {},
   "outputs": [],
   "source": [
    "# Plot\n",
    "fractions = [1.0/2.0, 1.0/1.75, 1.0/1.5, 1.0/1.3, 1.0/1.2, 1.0/1.1, 1.0/1.05, 1.0/1.03] \n",
    "plt.plot(fractions, gs[0])\n",
    "plt.plot(fractions, gs[1])\n",
    "plt.plot(fractions, gs[2])\n",
    "plt.plot(fractions, gs[3])\n",
    "plt.title(\"Giant component for Barabasi-Albert graph with k~10\")\n",
    "plt.xlabel(\"Fraction of removed nodes\")\n",
    "plt.ylabel(\"Giant component\")\n",
    "plt.legend([\"N=10^3\", \"N=10^4\", \"N=10^5\", \"N=10^6\"])\n",
    "plt.show()"
   ]
  },
  {
   "cell_type": "code",
   "execution_count": null,
   "metadata": {},
   "outputs": [],
   "source": [
    "# k=20\n",
    "ba3 = nx.barabasi_albert_graph(n=1000,m=10)\n",
    "ba4 = nx.barabasi_albert_graph(n=10000,m=10)\n",
    "ba5 = nx.barabasi_albert_graph(n=100000,m=10)\n",
    "ba6 = nx.barabasi_albert_graph(n=1000000,m=10)\n",
    "print(mean_degree(ba3))"
   ]
  },
  {
   "cell_type": "code",
   "execution_count": null,
   "metadata": {},
   "outputs": [],
   "source": [
    "# Calculate\n",
    "gs = list()\n",
    "gs.append([x/giant_without_removing(ba3) for x in giant_when_removing(ba3)])\n",
    "gs.append([x/giant_without_removing(ba4) for x in giant_when_removing(ba4)])\n",
    "gs.append([x/giant_without_removing(ba5) for x in giant_when_removing(ba5)])\n",
    "gs.append([x/giant_without_removing(ba6) for x in giant_when_removing(ba6)])"
   ]
  },
  {
   "cell_type": "code",
   "execution_count": null,
   "metadata": {},
   "outputs": [],
   "source": [
    "# Plot\n",
    "fractions = [1.0/2.0, 1.0/1.75, 1.0/1.5, 1.0/1.3, 1.0/1.2, 1.0/1.1, 1.0/1.05, 1.0/1.03] \n",
    "plt.plot(fractions, gs[0])\n",
    "plt.plot(fractions, gs[1])\n",
    "plt.plot(fractions, gs[2])\n",
    "plt.plot(fractions, gs[3])\n",
    "plt.title(\"Giant component for Barabasi-Albert graph with k~20\")\n",
    "plt.xlabel(\"Fraction of removed nodes\")\n",
    "plt.ylabel(\"Giant component\")\n",
    "plt.legend([\"N=10^3\", \"N=10^4\", \"N=10^5\", \"N=10^6\"])\n",
    "plt.show()"
   ]
  },
  {
   "cell_type": "code",
   "execution_count": null,
   "metadata": {},
   "outputs": [],
   "source": [
    "# k=30\n",
    "ba3 = nx.barabasi_albert_graph(n=1000,m=15)\n",
    "ba4 = nx.barabasi_albert_graph(n=10000,m=15)\n",
    "ba5 = nx.barabasi_albert_graph(n=100000,m=15)\n",
    "ba6 = nx.barabasi_albert_graph(n=1000000,m=15)\n",
    "print(mean_degree(ba3))"
   ]
  },
  {
   "cell_type": "code",
   "execution_count": null,
   "metadata": {},
   "outputs": [],
   "source": [
    "# Calculate\n",
    "gs = list()\n",
    "gs.append([x/giant_without_removing(ba3) for x in giant_when_removing(ba3)])\n",
    "gs.append([x/giant_without_removing(ba4) for x in giant_when_removing(ba4)])\n",
    "gs.append([x/giant_without_removing(ba5) for x in giant_when_removing(ba5)])\n",
    "gs.append([x/giant_without_removing(ba6) for x in giant_when_removing(ba6)])"
   ]
  },
  {
   "cell_type": "code",
   "execution_count": null,
   "metadata": {},
   "outputs": [],
   "source": [
    "# Plot\n",
    "fractions = [1.0/2.0, 1.0/1.75, 1.0/1.5, 1.0/1.3, 1.0/1.2, 1.0/1.1, 1.0/1.05, 1.0/1.03] \n",
    "plt.plot(fractions, gs[0])\n",
    "plt.plot(fractions, gs[1])\n",
    "plt.plot(fractions, gs[2])\n",
    "plt.plot(fractions, gs[3])\n",
    "plt.title(\"Giant component for Barabasi-Albert graph with k~30\")\n",
    "plt.xlabel(\"Fraction of removed nodes\")\n",
    "plt.ylabel(\"Giant component\")\n",
    "plt.legend([\"N=10^3\", \"N=10^4\", \"N=10^5\", \"N=10^6\"])\n",
    "plt.show()"
   ]
  },
  {
   "cell_type": "markdown",
   "metadata": {},
   "source": [
    "# Task 2"
   ]
  },
  {
   "cell_type": "code",
   "execution_count": null,
   "metadata": {},
   "outputs": [],
   "source": [
    "# Posortowana lista wierzchołków\n",
    "sg = [x[0] for x in sorted(GRAPH.degree, key=lambda x: x[1], reverse=True)]\n",
    "# Teraz usuń z grafu fraction"
   ]
  }
 ],
 "metadata": {
  "kernelspec": {
   "display_name": "Python 3",
   "language": "python",
   "name": "python3"
  },
  "language_info": {
   "codemirror_mode": {
    "name": "ipython",
    "version": 3
   },
   "file_extension": ".py",
   "mimetype": "text/x-python",
   "name": "python",
   "nbconvert_exporter": "python",
   "pygments_lexer": "ipython3",
   "version": "3.7.5"
  }
 },
 "nbformat": 4,
 "nbformat_minor": 4
}
