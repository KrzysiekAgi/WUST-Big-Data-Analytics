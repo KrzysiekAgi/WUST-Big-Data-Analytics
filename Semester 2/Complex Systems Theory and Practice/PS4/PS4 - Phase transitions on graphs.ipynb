{
 "cells": [
  {
   "cell_type": "code",
   "execution_count": 1,
   "metadata": {},
   "outputs": [],
   "source": [
    "import networkx as nx\n",
    "import numpy as np\n",
    "import matplotlib.pyplot as plt\n",
    "import random\n",
    "plt.style.use('ggplot')"
   ]
  },
  {
   "cell_type": "code",
   "execution_count": 4,
   "metadata": {},
   "outputs": [],
   "source": [
    "def giant_when_attacking_closeness(graph):\n",
    "    \"\"\"Returns the sizes of biggest subgraphs for each fraction of removed nodes\n",
    "    Fractions start at 0.5 and go to ca. 0.97 (it's amount of nodes divided by elements from fractions array)\"\"\"\n",
    "    giants = list()\n",
    "    # Couldn't thnik of smarter solution\n",
    "    fractions = np.array([2.0, 1.75, 1.5, 1.3, 1.2, 1.1, 1.05, 1.03])\n",
    "\n",
    "    for f in fractions:\n",
    "        xx = [x[0] for x in sorted(nx.closeness_centrality(graph), key=lambda x: x[1], reverse=True)]\n",
    "        x = xx[0:int(len(graph.nodes())/f)]\n",
    "        # Only now I realise how ineffective this is. But \\\"if it works, don't touch it\\\" :P\n",
    "        gc = graph.copy()\n",
    "        gc.remove_nodes_from(x)\n",
    "        giants.append(len(max(nx.connected_components(gc), key = len)))\n",
    "    return giants\n",
    "\n",
    "def giant_when_attacking_betwenness(graph):\n",
    "    \"\"\"Returns the sizes of biggest subgraphs for each fraction of removed nodes\n",
    "    Fractions start at 0.5 and go to ca. 0.97 (it's amount of nodes divided by elements from fractions array)\"\"\"\n",
    "    giants = list()\n",
    "    # Couldn't thnik of smarter solution\n",
    "    fractions = np.array([2.0, 1.75, 1.5, 1.3, 1.2, 1.1, 1.05, 1.03])\n",
    "\n",
    "    for f in fractions:\n",
    "        xx = [x[0] for x in sorted(nx.betwenness_centrality(graph), key=lambda x: x[1], reverse=True)]\n",
    "        x = xx[0:int(len(graph.nodes())/f)]\n",
    "        # Only now I realise how ineffective this is. But \\\"if it works, don't touch it\\\" :P\n",
    "        gc = graph.copy()\n",
    "        gc.remove_nodes_from(x)\n",
    "        giants.append(len(max(nx.connected_components(gc), key = len)))\n",
    "    return giants\n",
    "\n",
    "def giant_without_attacking(graph):\n",
    "    return len(graph.nodes())"
   ]
  },
  {
   "cell_type": "code",
   "execution_count": null,
   "metadata": {},
   "outputs": [],
   "source": []
  }
 ],
 "metadata": {
  "kernelspec": {
   "display_name": "Python 3",
   "language": "python",
   "name": "python3"
  },
  "language_info": {
   "codemirror_mode": {
    "name": "ipython",
    "version": 3
   },
   "file_extension": ".py",
   "mimetype": "text/x-python",
   "name": "python",
   "nbconvert_exporter": "python",
   "pygments_lexer": "ipython3",
   "version": "3.7.5"
  }
 },
 "nbformat": 4,
 "nbformat_minor": 4
}
