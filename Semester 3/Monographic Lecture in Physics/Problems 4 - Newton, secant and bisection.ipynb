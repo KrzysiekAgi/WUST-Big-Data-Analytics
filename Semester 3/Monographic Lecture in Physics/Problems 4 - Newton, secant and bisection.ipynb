{
 "cells": [
  {
   "cell_type": "code",
   "execution_count": 5,
   "metadata": {},
   "outputs": [],
   "source": [
    "import numpy as np\n",
    "import matplotlib.pyplot as plt\n",
    "import scipy.integrate as integrate\n",
    "from scipy.integrate import quad"
   ]
  },
  {
   "cell_type": "markdown",
   "metadata": {},
   "source": [
    "# Thermo-physical calculations"
   ]
  },
  {
   "cell_type": "code",
   "execution_count": 28,
   "metadata": {},
   "outputs": [],
   "source": [
    "def f(c):\n",
    "    return (U_T1+dQ)/M - integral(C_benzene, c)\n",
    "\n",
    "def integrand(C, T):\n",
    "    return C*T\n",
    "\n",
    "def integral(C, T):\n",
    "    return quad(integrand, 0, T, C)[0]"
   ]
  },
  {
   "cell_type": "code",
   "execution_count": 29,
   "metadata": {},
   "outputs": [
    {
     "name": "stdout",
     "output_type": "stream",
     "text": [
      "U(T1) =  77399999.99999999\n",
      "T1:  300 T2:  301.9315185546875\n"
     ]
    }
   ],
   "source": [
    "C_benzene = 1720 # J/(kg*K)\n",
    "M = 1\n",
    "dQ = 1000000\n",
    "T1 = 300 #K\n",
    "\n",
    "a = T1-1\n",
    "b = T1+5\n",
    "eps = 0.001\n",
    "x = a\n",
    "\n",
    "u_T1 = integral(C_benzene, T1)\n",
    "U_T1 = M*u_T1\n",
    "print(\"U(T1) = \", U_T1)\n",
    "u_T2 = (U_T1 + dQ)/M\n",
    "\n",
    "while (b-a) >= eps:\n",
    "    if f(a)*f(b) <= 0:\n",
    "        x = (a+b)/2\n",
    "        if f(a)*f(x) <= 0:\n",
    "            b = x\n",
    "        elif f(x)*f(b) <= 0:\n",
    "            a = x\n",
    "        \n",
    "print(\"T1: \", T1, \"T2: \", (a+b)/2)"
   ]
  },
  {
   "cell_type": "markdown",
   "metadata": {},
   "source": [
    "# Square root"
   ]
  },
  {
   "cell_type": "markdown",
   "metadata": {},
   "source": [
    "Formula: $$x_{i+1} = x_i - \\frac{x_i^2 - a}{2x_i}$$"
   ]
  },
  {
   "cell_type": "code",
   "execution_count": 14,
   "metadata": {},
   "outputs": [
    {
     "name": "stdout",
     "output_type": "stream",
     "text": [
      "Square root from math module: 3.8729833\n",
      "Square root using Newton module: 3.8729833 \n"
     ]
    }
   ],
   "source": [
    "from math import sqrt\n",
    "\n",
    "def newton_square_root(a):\n",
    "    value = 1\n",
    "    for i in range(10**4):\n",
    "        value = value - (1/2)*(value - a/value)\n",
    "    return value\n",
    "\n",
    "print(\"Square root from math module: %.7f\" % sqrt(15))\n",
    "print(\"Square root using Newton module: %.7f \" % newton_square_root(15))"
   ]
  },
  {
   "cell_type": "markdown",
   "metadata": {},
   "source": [
    "# Gas equation"
   ]
  },
  {
   "cell_type": "markdown",
   "metadata": {},
   "source": [
    "$$ (p+\\frac{a}{v^2})(v-b) = RT $$\n",
    "Can be rewritten as: $$ f(v) = pv^3 - v^2(RT+pb) + av - ab = 0 $$\n",
    "Then the derivative is: $$ f'(v) = 3pv^2 - 2v(RT+pb) + a = 0 $$\n",
    "Using Newton formula we get"
   ]
  },
  {
   "cell_type": "code",
   "execution_count": 1,
   "metadata": {},
   "outputs": [
    {
     "name": "stdout",
     "output_type": "stream",
     "text": [
      "Result for analytical ideal gas calculation: 2.4\n",
      "Result for numerical approximation: 2.4000912\n",
      "Difference between them: 0.0000912\n"
     ]
    }
   ],
   "source": [
    "R = 0.08\n",
    "a = 3.592\n",
    "b = 0.04267\n",
    "p = 10\n",
    "T = 300\n",
    "eps = 0.0001\n",
    "\n",
    "def f_weird(v):\n",
    "    return p*v**3 - (v**2)*(R*T + p*b) - a*v - a*b\n",
    "\n",
    "def df_weird(v):\n",
    "    return 3*p*v**2 - 2*v*(T*T + p*b) - a\n",
    "\n",
    "def f(v):\n",
    "    return p*v**3 - (v**2)*(R*T + p*b) + a*v - a*b\n",
    "\n",
    "def df(v):\n",
    "    return 3*p*v**2 - 2*v*(R*T + p*b) + a\n",
    "\n",
    "v_ideal = (R*T)/p\n",
    "\n",
    "print(\"Result for analytical ideal gas calculation: \" + str(v_ideal))\n",
    "\n",
    "\n",
    "v = 1\n",
    "while abs(v - v_ideal) > eps:\n",
    "    v = v - f_weird(v)/df_weird(v)\n",
    "    \n",
    "print(\"Result for numerical approximation: %.7f\" % v)\n",
    "print(\"Difference between them: %.7f\" % abs(v - v_ideal))"
   ]
  },
  {
   "cell_type": "markdown",
   "metadata": {},
   "source": [
    "You can see however functions f_weird() and df_weird(). Those are functions I found by trial and error which appear to work. Analytically I calculated functions f() and df(), however they appear to run unending loop, as abs(v - v_ideal) stops at 0.11 order of magnitude. Interestingly, changing the epsilon (eg. to 0.15, so higher than 0.11) produces better result (still of 0.04 order of magnitude)"
   ]
  },
  {
   "cell_type": "code",
   "execution_count": null,
   "metadata": {},
   "outputs": [],
   "source": [
    "v = 1\n",
    "while abs(v - v_ideal) > eps:\n",
    "    v = v - f(v)/df(v)\n",
    "    \n",
    "print(\"Result for analytical ideal gas calculation: \" + str(v_ideal))\n",
    "print(\"Result for numerical approximation: %.7f\" % v)\n",
    "print(\"Difference between them: %.7f\" % abs(v - v_ideal))"
   ]
  },
  {
   "cell_type": "markdown",
   "metadata": {},
   "source": [
    "# Floating ball"
   ]
  },
  {
   "cell_type": "code",
   "execution_count": null,
   "metadata": {},
   "outputs": [],
   "source": []
  }
 ],
 "metadata": {
  "kernelspec": {
   "display_name": "Python 3",
   "language": "python",
   "name": "python3"
  },
  "language_info": {
   "codemirror_mode": {
    "name": "ipython",
    "version": 3
   },
   "file_extension": ".py",
   "mimetype": "text/x-python",
   "name": "python",
   "nbconvert_exporter": "python",
   "pygments_lexer": "ipython3",
   "version": "3.7.5"
  }
 },
 "nbformat": 4,
 "nbformat_minor": 4
}
