{
 "cells": [
  {
   "cell_type": "code",
   "execution_count": 16,
   "metadata": {},
   "outputs": [],
   "source": [
    "import numpy as np\n",
    "import matplotlib.pyplot as plt"
   ]
  },
  {
   "cell_type": "markdown",
   "metadata": {},
   "source": [
    "# Thermo-physical calculations"
   ]
  },
  {
   "cell_type": "code",
   "execution_count": null,
   "metadata": {},
   "outputs": [],
   "source": []
  },
  {
   "cell_type": "markdown",
   "metadata": {},
   "source": [
    "# Square root"
   ]
  },
  {
   "cell_type": "markdown",
   "metadata": {},
   "source": [
    "Formula: $$x_{i+1} = x_i - \\frac{x_i^2 - a}{2x_i}$$"
   ]
  },
  {
   "cell_type": "code",
   "execution_count": 14,
   "metadata": {},
   "outputs": [
    {
     "name": "stdout",
     "output_type": "stream",
     "text": [
      "Square root from math module: 3.8729833\n",
      "Square root using Newton module: 3.8729833 \n"
     ]
    }
   ],
   "source": [
    "from math import sqrt\n",
    "\n",
    "def newton_square_root(a):\n",
    "    value = 1\n",
    "    for i in range(10**4):\n",
    "        value = value - (1/2)*(value - a/value)\n",
    "    return value\n",
    "\n",
    "print(\"Square root from math module: %.7f\" % sqrt(15))\n",
    "print(\"Square root using Newton module: %.7f \" % newton_square_root(15))"
   ]
  },
  {
   "cell_type": "markdown",
   "metadata": {},
   "source": [
    "# Gas equation"
   ]
  },
  {
   "cell_type": "markdown",
   "metadata": {},
   "source": [
    "$$ (p+\\frac{a}{v^2})(v-b) = RT $$\n",
    "Can be rewritten as: $$ f(v) = pv^3 - v^2(RT+pb) + av - ab = 0 $$\n",
    "Then the derivative is: $$ f'(v) = 3pv^2 - 2v(RT+pb) + a = 0 $$\n",
    "Using Newton formula we get"
   ]
  },
  {
   "cell_type": "code",
   "execution_count": 1,
   "metadata": {},
   "outputs": [
    {
     "name": "stdout",
     "output_type": "stream",
     "text": [
      "Result for analytical ideal gas calculation: 2.4\n",
      "Result for numerical approximation: 2.4000912\n",
      "Difference between them: 0.0000912\n"
     ]
    }
   ],
   "source": [
    "R = 0.08\n",
    "a = 3.592\n",
    "b = 0.04267\n",
    "p = 10\n",
    "T = 300\n",
    "eps = 0.0001\n",
    "\n",
    "def f_weird(v):\n",
    "    return p*v**3 - (v**2)*(R*T + p*b) - a*v - a*b\n",
    "\n",
    "def df_weird(v):\n",
    "    return 3*p*v**2 - 2*v*(T*T + p*b) - a\n",
    "\n",
    "def f(v):\n",
    "    return p*v**3 - (v**2)*(R*T + p*b) + a*v - a*b\n",
    "\n",
    "def df(v):\n",
    "    return 3*p*v**2 - 2*v*(R*T + p*b) + a\n",
    "\n",
    "v_ideal = (R*T)/p\n",
    "\n",
    "print(\"Result for analytical ideal gas calculation: \" + str(v_ideal))\n",
    "\n",
    "\n",
    "v = 1\n",
    "while abs(v - v_ideal) > eps:\n",
    "    v = v - f_weird(v)/df_weird(v)\n",
    "    \n",
    "print(\"Result for numerical approximation: %.7f\" % v)\n",
    "print(\"Difference between them: %.7f\" % abs(v - v_ideal))"
   ]
  },
  {
   "cell_type": "markdown",
   "metadata": {},
   "source": [
    "You can see however functions f_weird() and df_weird(). Those are functions I found by trial and error which appear to work. Analytically I calculated functions f() and df(), however they appear to run unending loop, as abs(v - v_ideal) stops at 0.11 order of magnitude. Interestingly, changing the epsilon (eg. to 0.15, so higher than 0.11) produces better result (still of 0.04 order of magnitude)"
   ]
  },
  {
   "cell_type": "code",
   "execution_count": null,
   "metadata": {},
   "outputs": [],
   "source": [
    "v = 1\n",
    "while abs(v - v_ideal) > eps:\n",
    "    v = v - f(v)/df(v)\n",
    "    \n",
    "print(\"Result for analytical ideal gas calculation: \" + str(v_ideal))\n",
    "print(\"Result for numerical approximation: %.7f\" % v)\n",
    "print(\"Difference between them: %.7f\" % abs(v - v_ideal))"
   ]
  },
  {
   "cell_type": "code",
   "execution_count": 70,
   "metadata": {},
   "outputs": [
    {
     "name": "stdout",
     "output_type": "stream",
     "text": [
      "v of ideal gas:  2.4\n",
      "epslion:  0.0001\n"
     ]
    },
    {
     "ename": "KeyboardInterrupt",
     "evalue": "",
     "output_type": "error",
     "traceback": [
      "\u001b[1;31m---------------------------------------------------------------------------\u001b[0m",
      "\u001b[1;31mKeyboardInterrupt\u001b[0m                         Traceback (most recent call last)",
      "\u001b[1;32m<ipython-input-70-24c56328da9a>\u001b[0m in \u001b[0;36m<module>\u001b[1;34m\u001b[0m\n\u001b[0;32m     21\u001b[0m \u001b[1;32mwhile\u001b[0m \u001b[0mabs\u001b[0m\u001b[1;33m(\u001b[0m\u001b[0mv\u001b[0m \u001b[1;33m-\u001b[0m \u001b[0mv0\u001b[0m\u001b[1;33m)\u001b[0m \u001b[1;33m>\u001b[0m \u001b[0mepslion\u001b[0m\u001b[1;33m:\u001b[0m\u001b[1;33m\u001b[0m\u001b[1;33m\u001b[0m\u001b[0m\n\u001b[0;32m     22\u001b[0m     \u001b[1;31m#print(v, v0)\u001b[0m\u001b[1;33m\u001b[0m\u001b[1;33m\u001b[0m\u001b[1;33m\u001b[0m\u001b[0m\n\u001b[1;32m---> 23\u001b[1;33m     \u001b[0mv0\u001b[0m \u001b[1;33m=\u001b[0m \u001b[0mv0\u001b[0m \u001b[1;33m-\u001b[0m \u001b[0mgasEquation\u001b[0m\u001b[1;33m(\u001b[0m\u001b[0mv0\u001b[0m\u001b[1;33m)\u001b[0m\u001b[1;33m/\u001b[0m\u001b[0mgasEquationDerivatie\u001b[0m\u001b[1;33m(\u001b[0m\u001b[0mv0\u001b[0m\u001b[1;33m)\u001b[0m\u001b[1;33m\u001b[0m\u001b[1;33m\u001b[0m\u001b[0m\n\u001b[0m\u001b[0;32m     24\u001b[0m \u001b[0mprint\u001b[0m\u001b[1;33m(\u001b[0m\u001b[1;34m\"exact v: \"\u001b[0m\u001b[1;33m,\u001b[0m \u001b[0mv0\u001b[0m\u001b[1;33m)\u001b[0m\u001b[1;33m\u001b[0m\u001b[1;33m\u001b[0m\u001b[0m\n\u001b[0;32m     25\u001b[0m \u001b[0mprint\u001b[0m\u001b[1;33m(\u001b[0m\u001b[1;34m\"difference: \"\u001b[0m\u001b[1;33m,\u001b[0m \u001b[0mabs\u001b[0m\u001b[1;33m(\u001b[0m\u001b[0mv\u001b[0m\u001b[1;33m-\u001b[0m\u001b[0mv0\u001b[0m\u001b[1;33m)\u001b[0m\u001b[1;33m)\u001b[0m\u001b[1;33m\u001b[0m\u001b[1;33m\u001b[0m\u001b[0m\n",
      "\u001b[1;32m<ipython-input-70-24c56328da9a>\u001b[0m in \u001b[0;36mgasEquationDerivatie\u001b[1;34m(v)\u001b[0m\n\u001b[0;32m     16\u001b[0m \u001b[1;33m\u001b[0m\u001b[0m\n\u001b[0;32m     17\u001b[0m \u001b[1;32mdef\u001b[0m \u001b[0mgasEquationDerivatie\u001b[0m\u001b[1;33m(\u001b[0m\u001b[0mv\u001b[0m\u001b[1;33m)\u001b[0m\u001b[1;33m:\u001b[0m\u001b[1;33m\u001b[0m\u001b[1;33m\u001b[0m\u001b[0m\n\u001b[1;32m---> 18\u001b[1;33m     \u001b[1;32mreturn\u001b[0m \u001b[1;36m3\u001b[0m\u001b[1;33m*\u001b[0m\u001b[0mp\u001b[0m\u001b[1;33m*\u001b[0m\u001b[0mv\u001b[0m\u001b[1;33m**\u001b[0m\u001b[1;36m2\u001b[0m \u001b[1;33m-\u001b[0m \u001b[1;36m2\u001b[0m\u001b[1;33m*\u001b[0m\u001b[0mv\u001b[0m\u001b[1;33m*\u001b[0m\u001b[1;33m(\u001b[0m\u001b[0mb\u001b[0m\u001b[1;33m*\u001b[0m\u001b[0mp\u001b[0m \u001b[1;33m+\u001b[0m \u001b[0mT\u001b[0m\u001b[1;33m*\u001b[0m\u001b[0mT\u001b[0m\u001b[1;33m)\u001b[0m \u001b[1;33m+\u001b[0m \u001b[0ma\u001b[0m\u001b[1;33m\u001b[0m\u001b[1;33m\u001b[0m\u001b[0m\n\u001b[0m\u001b[0;32m     19\u001b[0m \u001b[0mv0\u001b[0m\u001b[1;33m=\u001b[0m\u001b[1;36m1\u001b[0m\u001b[1;33m\u001b[0m\u001b[1;33m\u001b[0m\u001b[0m\n\u001b[0;32m     20\u001b[0m \u001b[1;33m\u001b[0m\u001b[0m\n",
      "\u001b[1;31mKeyboardInterrupt\u001b[0m: "
     ]
    }
   ],
   "source": [
    "R = 0.08\n",
    "a = 3.592\n",
    "b = 0.04267\n",
    "p = 10\n",
    "T = 300\n",
    "epslion = 0.0001\n",
    "\n",
    "v = (R*T)/p\n",
    "\n",
    "print(\"v of ideal gas: \", v)\n",
    "print(\"epslion: \", epslion)\n",
    "\n",
    "\n",
    "def gasEquation(v):\n",
    "    return p*v**3 - (v**2)*(b*p + R*T) - a*v -a*b\n",
    "\n",
    "def gasEquationDerivatie(v):\n",
    "    return 3*p*v**2 - 2*v*(b*p + T*T) - a\n",
    "v0=1\n",
    "\n",
    "while abs(v - v0) > epslion:\n",
    "    #print(v, v0)\n",
    "    v0 = v0 - gasEquation(v0)/gasEquationDerivatie(v0)\n",
    "print(\"exact v: \", v0)\n",
    "print(\"difference: \", abs(v-v0))\n",
    "\n"
   ]
  },
  {
   "cell_type": "markdown",
   "metadata": {},
   "source": [
    "# Floating ball"
   ]
  },
  {
   "cell_type": "code",
   "execution_count": null,
   "metadata": {},
   "outputs": [],
   "source": []
  }
 ],
 "metadata": {
  "kernelspec": {
   "display_name": "Python 3",
   "language": "python",
   "name": "python3"
  },
  "language_info": {
   "codemirror_mode": {
    "name": "ipython",
    "version": 3
   },
   "file_extension": ".py",
   "mimetype": "text/x-python",
   "name": "python",
   "nbconvert_exporter": "python",
   "pygments_lexer": "ipython3",
   "version": "3.7.5"
  }
 },
 "nbformat": 4,
 "nbformat_minor": 4
}
