{
 "cells": [
  {
   "cell_type": "code",
   "execution_count": 2,
   "metadata": {},
   "outputs": [],
   "source": [
    "import numpy as np\n",
    "import matplotlib.pylab as plt\n",
    "import matplotlib.animation as animation\n",
    "from IPython.display import HTML\n",
    "\n",
    "plt.rcParams['animation.ffmpeg_path'] = '/usr/bin/ffmpeg'\n",
    "np.random.seed()"
   ]
  },
  {
   "cell_type": "markdown",
   "metadata": {},
   "source": [
    "# Gay-Lussac's Law"
   ]
  },
  {
   "cell_type": "code",
   "execution_count": 67,
   "metadata": {},
   "outputs": [],
   "source": [
    "N = 1000 # number of particles\n",
    "dt = 0.1 # time step size\n",
    "time = 1000 # number of \"frames\"\n",
    "\n",
    "def init(v0):\n",
    "    x = np.random.rand(N)\n",
    "    y = np.random.rand(N)\n",
    "    vx = v0*np.cos(2*np.pi*np.random.rand(N))\n",
    "    vy = v0*np.sin(2*np.pi*np.random.rand(N))\n",
    "    return x,y,vx,vy\n",
    "\n",
    "def model(T):\n",
    "    collisions = {\"right_collision\": 0, \"left_collision\": 0, \"top_collision\": 0, \"bottom_collision\": 0}\n",
    "    a = 1\n",
    "    m = 1\n",
    "    v0 = a*np.sqrt(T)\n",
    "    x,y,vx,vy = init(v0)\n",
    "    \n",
    "    # simulation part\n",
    "    for t in range(time):\n",
    "        for i in range(N): #loop over molecules\n",
    "            x[i] += vx[i]*dt\n",
    "            y[i] += vy[i]*dt\n",
    "            if x[i] > 1:\n",
    "                vx[i] = -vx[i]\n",
    "                collisions[\"right_collision\"] = collisions[\"right_collision\"] - 2*m*vx[i]\n",
    "            if x[i] < 0:\n",
    "                vx[i] = -vx[i]\n",
    "                collisions[\"left_collision\"] = collisions[\"left_collision\"] + 2*m*vx[i]\n",
    "            if y[i] > 1:\n",
    "                vy[i] = -vy[i]\n",
    "                collisions[\"top_collision\"] = collisions[\"top_collision\"] - 2*m*vy[i]\n",
    "            if y[i] < 0:\n",
    "                vy[i] = -vy[i]\n",
    "                collisions[\"bottom_collision\"] = collisions[\"bottom_collision\"] + 2*m*vy[i]\n",
    "    return collisions\n",
    "\n",
    "temperatures = np.linspace(0,10,11)\n",
    "p = list()\n",
    "for T in temperatures:\n",
    "    pressures = model(T)\n",
    "    p.append(np.average(list(pressures.values())))"
   ]
  },
  {
   "cell_type": "code",
   "execution_count": 68,
   "metadata": {},
   "outputs": [
    {
     "data": {
      "image/png": "[encoded data removed]",
      "text/plain": [
       "<Figure size 432x288 with 1 Axes>"
      ]
     },
     "metadata": {
      "needs_background": "light"
     },
     "output_type": "display_data"
    }
   ],
   "source": [
    "plt.plot(np.linspace(0,10,11),np.linspace(0,400000, 11), label='Baseline y=x')\n",
    "plt.scatter(temperatures, p, color='red', label='Measured points')\n",
    "plt.title(r'$p(T)$')\n",
    "plt.xlabel(r'$T$')\n",
    "plt.ylabel(r'$T$')\n",
    "plt.legend()\n",
    "plt.show()"
   ]
  },
  {
   "cell_type": "markdown",
   "metadata": {},
   "source": [
    "# Sun-Earth-Moon"
   ]
  },
  {
   "cell_type": "code",
   "execution_count": null,
   "metadata": {},
   "outputs": [],
   "source": []
  }
 ],
 "metadata": {
  "kernelspec": {
   "display_name": "Python 3",
   "language": "python",
   "name": "python3"
  },
  "language_info": {
   "codemirror_mode": {
    "name": "ipython",
    "version": 3
   },
   "file_extension": ".py",
   "mimetype": "text/x-python",
   "name": "python",
   "nbconvert_exporter": "python",
   "pygments_lexer": "ipython3",
   "version": "3.7.5"
  }
 },
 "nbformat": 4,
 "nbformat_minor": 4
}
