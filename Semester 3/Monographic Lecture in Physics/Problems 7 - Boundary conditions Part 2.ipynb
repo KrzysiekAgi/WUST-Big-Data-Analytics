{
 "cells": [
  {
   "cell_type": "code",
   "execution_count": 20,
   "metadata": {},
   "outputs": [],
   "source": [
    "import sys\n",
    "import numpy\n",
    "from scipy import sparse\n",
    "import matplotlib.pyplot as plt"
   ]
  },
  {
   "cell_type": "markdown",
   "metadata": {},
   "source": [
    "# Simple two point BVP"
   ]
  },
  {
   "cell_type": "markdown",
   "metadata": {},
   "source": [
    "Given equation $$-y''(x) +q(x)y(x) = f(x), 0<x<1, y(a)=y(b)=0$$ and $$ q(x)=x, f(x)=12x^2-20x^3-x^5+x^6 $$ solve the system"
   ]
  },
  {
   "cell_type": "code",
   "execution_count": 70,
   "metadata": {},
   "outputs": [],
   "source": [
    "a = 0\n",
    "b = 1\n",
    "N = 10000 # number of steps\n",
    "dx = (b-a) / N #delta x\n",
    "y0 = 0 # this is value of y(0)\n",
    "y1 = 0 # this is value of y(1)\n",
    "\n",
    "q = lambda x: x\n",
    "f = lambda x: 12*x**2 - 20*x**3 - x**5 + x**6\n",
    "\n",
    "A = np.zeros(N)\n",
    "B = np.zeros(N+1)\n",
    "C = np.zeros(N)\n",
    "xs = np.zeros(N)\n",
    "F = np.zeros(N)\n",
    "y = np.zeros(N)"
   ]
  },
  {
   "cell_type": "markdown",
   "metadata": {},
   "source": [
    "Prepare the A, B and C vectors and fill the matrix M. Adjust A, B and C in the first and last rows. Calculate also vector F"
   ]
  },
  {
   "cell_type": "code",
   "execution_count": 71,
   "metadata": {},
   "outputs": [],
   "source": [
    "for i in range(0, N):\n",
    "    xs[i] = xs[i-1] + dx\n",
    "    A[i] = 1/(dx**2)\n",
    "    B[i] = -2/(dx**2) + xs[i]\n",
    "    C[i] = 1/(dx**2)\n",
    "C[0] = A[N-1] = 0\n",
    "B[0] = B[N] = 1\n",
    "\n",
    "diagonals = [B,A,C]\n",
    "a = B.shape[0]\n",
    "M = sparse.diags(diagonals, [0,-1,1], shape=(a,a)).toarray()\n",
    "\n",
    "for i in range(1, N):\n",
    "    F[i] = f(xs[i])"
   ]
  },
  {
   "cell_type": "markdown",
   "metadata": {},
   "source": [
    "Use equations 𐖈 and 𐕳 from slide 34 (it would be easier if they were numbered). I also assumed that there should be $F_i = F_i - pF_{i-1}$ instead of $F_i = F_i - pF_{i-a}$ like in the presentation, as parameter $a$ is nowhere else to be found"
   ]
  },
  {
   "cell_type": "code",
   "execution_count": 73,
   "metadata": {},
   "outputs": [],
   "source": [
    "for i in range(1,N):\n",
    "    p = A[i]/B[i-1]\n",
    "    B[i] = B[i] - p*C[i-1]\n",
    "    F[i] = F[i] - p*F[i]\n",
    "    \n",
    "y[N-1] = F[N-1]/B[N-1]\n",
    "for i in range(N-2,0, -1):\n",
    "    y[i] = (F[i] - C[i]*y[i+1]) / B[i]"
   ]
  },
  {
   "cell_type": "code",
   "execution_count": 74,
   "metadata": {},
   "outputs": [
    {
     "data": {
      "text/plain": [
       "[<matplotlib.lines.Line2D at 0x89b6808>]"
      ]
     },
     "execution_count": 74,
     "metadata": {},
     "output_type": "execute_result"
    },
    {
     "data": {
      "image/png": "[encoded data removed]",
      "text/plain": [
       "<Figure size 432x288 with 1 Axes>"
      ]
     },
     "metadata": {
      "needs_background": "light"
     },
     "output_type": "display_data"
    }
   ],
   "source": [
    "plt.plot(xs, y)"
   ]
  },
  {
   "cell_type": "markdown",
   "metadata": {},
   "source": [
    "# Rod's temperature"
   ]
  },
  {
   "cell_type": "code",
   "execution_count": 81,
   "metadata": {},
   "outputs": [],
   "source": [
    "# Rod's parameters\n",
    "T1 = 200\n",
    "T2 = 30\n",
    "Ta = 30\n",
    "L = 1\n",
    "alpha = 1\n",
    "\n",
    "# Approximation parameters\n",
    "a = 0\n",
    "b = 1 #|b-a| = L\n",
    "N = 10 # number of steps\n",
    "dx = (b-a) / N #delta x\n",
    "\n",
    "# Prepare vectors\n",
    "A = np.zeros(N)\n",
    "B = np.zeros(N+1)\n",
    "C = np.zeros(N)\n",
    "xs = np.zeros(N)\n",
    "F = np.zeros(N)\n",
    "y = np.zeros(N)\n",
    "\n",
    "# Functions to fill A, B and C. They appear to be independent of x\n",
    "p = 0\n",
    "q = alpha\n",
    "f = alpha*Ta"
   ]
  },
  {
   "cell_type": "code",
   "execution_count": 82,
   "metadata": {},
   "outputs": [],
   "source": [
    "for i in range(0, N):\n",
    "    xs[i] = xs[i-1] + dx\n",
    "    A[i] = 1/(dx**2)\n",
    "    B[i] = -2/(dx**2) + alpha\n",
    "    C[i] = 1/(dx**2)\n",
    "C[0] = A[N-1] = 0\n",
    "B[0] = B[N] = 1\n",
    "\n",
    "diagonals = [B,A,C]\n",
    "a = B.shape[0]\n",
    "M = sparse.diags(diagonals, [0,-1,1], shape=(a,a)).toarray()\n",
    "\n",
    "for i in range(1, N):\n",
    "    F[i] = f"
   ]
  },
  {
   "cell_type": "code",
   "execution_count": 83,
   "metadata": {},
   "outputs": [],
   "source": [
    "for i in range(1,N):\n",
    "    p = A[i]/B[i-1]\n",
    "    B[i] = B[i] - p*C[i-1]\n",
    "    F[i] = F[i] - p*F[i]\n",
    "    \n",
    "y[N-1] = F[N-1]/B[N-1]\n",
    "for i in range(N-2,0, -1):\n",
    "    y[i] = (F[i] - C[i]*y[i+1]) / B[i]"
   ]
  },
  {
   "cell_type": "code",
   "execution_count": 84,
   "metadata": {},
   "outputs": [
    {
     "data": {
      "text/plain": [
       "[<matplotlib.lines.Line2D at 0x39aa7948>]"
      ]
     },
     "execution_count": 84,
     "metadata": {},
     "output_type": "execute_result"
    },
    {
     "data": {
      "image/png": "[encoded data removed]",
      "text/plain": [
       "<Figure size 432x288 with 1 Axes>"
      ]
     },
     "metadata": {
      "needs_background": "light"
     },
     "output_type": "display_data"
    }
   ],
   "source": [
    "plt.plot(xs, y)"
   ]
  }
 ],
 "metadata": {
  "kernelspec": {
   "display_name": "Python 3",
   "language": "python",
   "name": "python3"
  },
  "language_info": {
   "codemirror_mode": {
    "name": "ipython",
    "version": 3
   },
   "file_extension": ".py",
   "mimetype": "text/x-python",
   "name": "python",
   "nbconvert_exporter": "python",
   "pygments_lexer": "ipython3",
   "version": "3.7.5"
  }
 },
 "nbformat": 4,
 "nbformat_minor": 4
}
