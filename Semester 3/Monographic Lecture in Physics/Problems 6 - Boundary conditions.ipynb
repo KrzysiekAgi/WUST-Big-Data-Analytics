{
 "cells": [
  {
   "cell_type": "code",
   "execution_count": 1,
   "metadata": {},
   "outputs": [],
   "source": [
    "import numpy as np\n",
    "import matplotlib.pyplot as plt\n",
    "import pandas as pd\n",
    "import math"
   ]
  },
  {
   "cell_type": "markdown",
   "metadata": {},
   "source": [
    "# Chain barrier"
   ]
  },
  {
   "cell_type": "markdown",
   "metadata": {},
   "source": [
    "Read and plot points from the provided picture"
   ]
  },
  {
   "cell_type": "code",
   "execution_count": 2,
   "metadata": {},
   "outputs": [
    {
     "data": {
      "text/plain": [
       "[<matplotlib.lines.Line2D at 0x929ec08>]"
      ]
     },
     "execution_count": 2,
     "metadata": {},
     "output_type": "execute_result"
    },
    {
     "data": {
      "image/png": "[encoded data removed]",
      "text/plain": [
       "<Figure size 432x288 with 1 Axes>"
      ]
     },
     "metadata": {
      "needs_background": "light"
     },
     "output_type": "display_data"
    }
   ],
   "source": [
    "df = pd.read_csv('chain_01.csv', header=None, names=['x','y'])\n",
    "plt.title(\"Chain - imagine the poles\")\n",
    "plt.xlabel(\"x\")\n",
    "plt.ylabel('y')\n",
    "plt.plot(df['x'], df['y'])"
   ]
  },
  {
   "cell_type": "code",
   "execution_count": 3,
   "metadata": {},
   "outputs": [
    {
     "name": "stdout",
     "output_type": "stream",
     "text": [
      "Going to the right - T: 5.037109\n",
      "Going to the left - T: 4.825195\n"
     ]
    }
   ],
   "source": [
    "g = 9.8\n",
    "dt = 0.05\n",
    "\n",
    "def euler_to_the_right(Ti, endY):\n",
    "    \"\"\"\n",
    "    This function calculates T for the part of chain going from the lowest point to the rightmost point\n",
    "    \"\"\"\n",
    "    x_min = df['x'][df.idxmin(0)[1]] # find value of x for smallest y\n",
    "    x_max = df['x'].iloc[-1] # get value of x for the last element\n",
    "    length = len(np.arange(x_min,x_max,dt)) # number of points we will use\n",
    "    xs = np.zeros(length)\n",
    "    y = np.zeros(length)\n",
    "    z = np.zeros(length)\n",
    "    y[0] = df.min(0)[1] # get y coordinate of the lowest point\n",
    "\n",
    "    for i in range(len(xs) - 1):\n",
    "        xs[i+1] = xs[i] + dt\n",
    "        z[i+1] = z[i] + (np.sqrt(1+z[i]**2)*(g/Ti))*dt\n",
    "        y[i+1] = y[i] + z[i]*dt\n",
    "    return y[-1] - endY\n",
    "\n",
    "\n",
    "def euler_to_the_left(Ti, endY):\n",
    "    \"\"\"\n",
    "    This function calculates T for the part of chain going from the lowest point to the leftmost point\n",
    "    Code is analogous to the above function (they coud've been unified) with the exception of x coordinates\n",
    "    \"\"\"\n",
    "    x_min = df['x'][df.idxmin(0)[1]] # find value of x for smallest y\n",
    "    x_max = df['x'].iloc[0] # get value of x for the first element\n",
    "    length = len(np.arange(x_min,x_max,-dt))\n",
    "    xs = np.zeros(length)\n",
    "    y = np.zeros(length)\n",
    "    z = np.zeros(length)\n",
    "    y[0] = df.min(0)[1]\n",
    "\n",
    "    for i in range(len(xs) - 1):\n",
    "        xs[i+1] = xs[i] + dt\n",
    "        z[i+1] = z[i] + (np.sqrt(1+z[i]**2)*(g/Ti))*dt\n",
    "        y[i+1] = y[i] + z[i]*dt\n",
    "    return y[-1] - endY\n",
    "\n",
    "def bisection(f, a, b, endY, eps):\n",
    "    \"\"\"This is just simple bisection function\"\"\"\n",
    "    while (b-a) >= eps:\n",
    "        fa = f(a, endY)\n",
    "        fb = f(b, endY)\n",
    "        if fa*fb <= 0:\n",
    "            x = (a+b)/2\n",
    "            fx = f(x, endY)\n",
    "            if fa*fx <= 0:\n",
    "                b = x\n",
    "            else:\n",
    "                a = x\n",
    "    return a\n",
    "\n",
    "\n",
    "print(\"Going to the right - T: %f\" %bisection(euler_to_the_right, 3, 10, df['y'].iloc[-1], 0.01))\n",
    "print(\"Going to the left - T: %f\" %bisection(euler_to_the_left, 3, 10, df['y'].iloc[0], 0.01))"
   ]
  },
  {
   "cell_type": "markdown",
   "metadata": {},
   "source": [
    "The difference in the results in the end (different Ts when going in different directions) comes from different end point, which were measured \"by hand\""
   ]
  }
 ],
 "metadata": {
  "kernelspec": {
   "display_name": "Python 3",
   "language": "python",
   "name": "python3"
  },
  "language_info": {
   "codemirror_mode": {
    "name": "ipython",
    "version": 3
   },
   "file_extension": ".py",
   "mimetype": "text/x-python",
   "name": "python",
   "nbconvert_exporter": "python",
   "pygments_lexer": "ipython3",
   "version": "3.7.5"
  }
 },
 "nbformat": 4,
 "nbformat_minor": 4
}
