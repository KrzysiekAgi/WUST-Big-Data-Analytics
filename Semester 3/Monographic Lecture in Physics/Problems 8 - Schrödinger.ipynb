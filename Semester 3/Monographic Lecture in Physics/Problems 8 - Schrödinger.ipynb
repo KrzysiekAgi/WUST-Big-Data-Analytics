{
 "cells": [
  {
   "cell_type": "code",
   "execution_count": 1,
   "metadata": {},
   "outputs": [],
   "source": [
    "import numpy as np\n",
    "import matplotlib.pyplot as plt"
   ]
  },
  {
   "cell_type": "markdown",
   "metadata": {},
   "source": [
    "# Periodic Boundary Conditions"
   ]
  },
  {
   "cell_type": "markdown",
   "metadata": {},
   "source": [
    "To take periodic boundry condition into account, matrices $\\mathcal{A}, \\mathcal{B}$ and $\\mathcal{G}$ should be modified as follows\n",
    "\n",
    "$$\n",
    "\\begin{equation*}\n",
    "    \\mathcal{A} = \\frac{1}{\\Delta x^2}\n",
    "    \\begin{bmatrix}\n",
    "        -2 & 1 & 0 & 0 & \\dots & 1 \\\\\n",
    "        1 & -2 & 1 & 0 & \\dots & 0 \\\\\n",
    "        0 & 1 & -2 & 1 & \\dots & 0 \\\\\n",
    "        \\dots & \\dots & \\dots & \\dots & \\dots & \\dots \\\\\n",
    "        0 & \\dots & 0 & 1 & -2 & 1 \\\\\n",
    "        1 & \\dots & 0 & 0 & 1 & -2 \\\\\n",
    "    \\end{bmatrix}\n",
    "\\end{equation*}\n",
    "$$\n",
    "\n",
    "$$\n",
    "\\begin{equation*}\n",
    "    \\mathcal{B} = \\frac{1}{12}\n",
    "    \\begin{bmatrix}\n",
    "        10 & 1 & 0 & 0 & \\dots & 1 \\\\\n",
    "        1 & 10 & 1 & 0 & \\dots & 0 \\\\\n",
    "        0 & 1 & 10 & 1 & \\dots & 0 \\\\\n",
    "        \\dots & \\dots & \\dots & \\dots & \\dots & \\dots \\\\\n",
    "        0 & \\dots & 0 & 1 & 10 & 1 \\\\\n",
    "        1 & \\dots & 0 & 0 & 1 & 10 \\\\\n",
    "    \\end{bmatrix}\n",
    "\\end{equation*}\n",
    "$$\n",
    "\n",
    "$$\n",
    "\\begin{equation*}\n",
    "    \\mathcal{G} = \n",
    "    \\begin{bmatrix}\n",
    "        g_N & 0 & 0 & 0 & \\dots & 0 \\\\\n",
    "        0 & g_2 & 0 & 0 & \\dots & 0 \\\\\n",
    "        0 & 0 & g_3 & 0 & \\dots & 0 \\\\\n",
    "        \\dots & \\dots & \\dots & \\dots & \\dots & \\dots \\\\\n",
    "        0 & \\dots & 0 & 0 & g_{N-1} & 0 \\\\\n",
    "        0 & \\dots & 0 & 0 & 0 & g_N \\\\\n",
    "    \\end{bmatrix}\n",
    "\\end{equation*}\n",
    "$$"
   ]
  },
  {
   "cell_type": "markdown",
   "metadata": {},
   "source": [
    "# Particle in a box"
   ]
  },
  {
   "cell_type": "code",
   "execution_count": 33,
   "metadata": {},
   "outputs": [],
   "source": [
    "def bisection(a, b, eps, f):\n",
    "    \"\"\"This is just simple bisection function\"\"\"\n",
    "    while abs(b-a) >= eps:\n",
    "        if f(a)*f(b) <= 0:\n",
    "            x = (a+b)/2\n",
    "            if f(a)*f(x) <= 0:\n",
    "                b = x\n",
    "            else:\n",
    "                a = x\n",
    "    return a"
   ]
  },
  {
   "cell_type": "code",
   "execution_count": 23,
   "metadata": {},
   "outputs": [
    {
     "name": "stdout",
     "output_type": "stream",
     "text": [
      "E for n=1 : 1.2337005501361697\n",
      "E for n=2 : 4.934802200544679\n",
      "E for n=3 : 11.103304951225528\n",
      "E for n=4 : 19.739208802178716\n"
     ]
    }
   ],
   "source": [
    "h_bar = 1; m = 1\n",
    "a = 1\n",
    "dx = 0.02\n",
    "E = lambda n: (n**2 * np.pi**2 * h_bar**2) / (8*m*a**2)\n",
    "for i in range(1,5):\n",
    "    print(\"E for n={} : {}\".format(i,E(i)))"
   ]
  },
  {
   "cell_type": "code",
   "execution_count": 43,
   "metadata": {},
   "outputs": [],
   "source": [
    "def V(x):\n",
    "    if -a <= x and x <= a: return 0\n",
    "    return np.inf\n",
    "    \n",
    "g = lambda x, E_n: 2*(V(x) - E_n)"
   ]
  },
  {
   "cell_type": "code",
   "execution_count": 44,
   "metadata": {},
   "outputs": [],
   "source": [
    "def schroedinger(E_ana):\n",
    "    xs = np.arange(-a, a+0.01, dx)\n",
    "    N = xs.size\n",
    "    psi = np.zeros(N)\n",
    "    psi_prime = np.zeros(N)\n",
    "    psi_prime[0] = E_ana\n",
    "    \n",
    "    for i in range(0,N-1):\n",
    "        psi_prime[i+1] = psi_prime[i] + g(xs[i], E_ana)*psi[i]*dx\n",
    "        psi[i+1] = psi[i] + psi_prime[i]*dx\n",
    "    end_value = psi[-1]\n",
    "    return end_value"
   ]
  },
  {
   "cell_type": "code",
   "execution_count": 45,
   "metadata": {},
   "outputs": [
    {
     "name": "stdout",
     "output_type": "stream",
     "text": [
      "1.2345\n",
      "4.9478\n",
      "11.1693\n",
      "19.9489\n"
     ]
    }
   ],
   "source": [
    "print(\"%.4f\" %bisection(E(1)-1, E(1)+1, 0.0001, schroedinger))\n",
    "print(\"%.4f\" %bisection(E(2)-1, E(2)+1, 0.0001, schroedinger))\n",
    "print(\"%.4f\" %bisection(E(3)-1, E(3)+1, 0.0001, schroedinger))\n",
    "print(\"%.4f\" %bisection(E(4)-1, E(4)+1, 0.0001, schroedinger))"
   ]
  },
  {
   "cell_type": "markdown",
   "metadata": {},
   "source": [
    "# Quantum Harmonic oscillator"
   ]
  },
  {
   "cell_type": "code",
   "execution_count": null,
   "metadata": {},
   "outputs": [],
   "source": []
  }
 ],
 "metadata": {
  "kernelspec": {
   "display_name": "Python 3",
   "language": "python",
   "name": "python3"
  },
  "language_info": {
   "codemirror_mode": {
    "name": "ipython",
    "version": 3
   },
   "file_extension": ".py",
   "mimetype": "text/x-python",
   "name": "python",
   "nbconvert_exporter": "python",
   "pygments_lexer": "ipython3",
   "version": "3.7.5"
  }
 },
 "nbformat": 4,
 "nbformat_minor": 4
}
