{
 "cells": [
  {
   "cell_type": "code",
   "execution_count": 1,
   "metadata": {},
   "outputs": [],
   "source": [
    "import numpy as np\n",
    "import matplotlib.pyplot as plt"
   ]
  },
  {
   "cell_type": "markdown",
   "metadata": {},
   "source": [
    "# False Position"
   ]
  },
  {
   "cell_type": "code",
   "execution_count": 13,
   "metadata": {},
   "outputs": [
    {
     "name": "stdout",
     "output_type": "stream",
     "text": [
      "Root: 10.99557\n"
     ]
    }
   ],
   "source": [
    "a = 8\n",
    "b = 12\n",
    "eps = 10**(-5)\n",
    "x_i = a\n",
    "\n",
    "f = lambda x: np.exp(-x)*np.cos(x)\n",
    "\n",
    "while abs(b-a)>eps:\n",
    "    x_i = (a * f(b) - b * f(a))/ (f(b) - f(a))\n",
    "    if f(a)*f(x_i) < 0:\n",
    "        b = x_i\n",
    "    else:\n",
    "        a = x_i\n",
    "        \n",
    "print(\"Root: %.5f\" % x_i)"
   ]
  },
  {
   "cell_type": "markdown",
   "metadata": {},
   "source": [
    "# Fixed Point Iteration 1"
   ]
  },
  {
   "cell_type": "markdown",
   "metadata": {},
   "source": [
    "Function"
   ]
  },
  {
   "cell_type": "code",
   "execution_count": 6,
   "metadata": {},
   "outputs": [],
   "source": [
    "f = lambda x: x**2 + x - 5"
   ]
  },
  {
   "cell_type": "markdown",
   "metadata": {},
   "source": [
    "Prove this function has a root in [1,2]"
   ]
  },
  {
   "cell_type": "code",
   "execution_count": 9,
   "metadata": {},
   "outputs": [
    {
     "data": {
      "text/plain": [
       "<matplotlib.lines.Line2D at 0x3f81808>"
      ]
     },
     "execution_count": 9,
     "metadata": {},
     "output_type": "execute_result"
    },
    {
     "data": {
      "image/png": "[encoded data removed]",
      "text/plain": [
       "<Figure size 432x288 with 1 Axes>"
      ]
     },
     "metadata": {
      "needs_background": "light"
     },
     "output_type": "display_data"
    }
   ],
   "source": [
    "x = np.linspace(1,2,1000)\n",
    "y = f(x)\n",
    "fig, ax = plt.subplots()\n",
    "ax.plot(x, y)\n",
    "ax.grid(True, which='both')\n",
    "ax.set(xlim=(1, 2), ylim=(-3, 1))\n",
    "\n",
    "ax.axhline(y=0, color='k')\n",
    "ax.axvline(x=0, color='k')"
   ]
  },
  {
   "cell_type": "markdown",
   "metadata": {},
   "source": [
    "We see there is a root in [1,2]\n",
    "\n",
    "\n",
    "Now to finding function $g(x)$ that could be used as a fixed point iteration formula"
   ]
  },
  {
   "cell_type": "markdown",
   "metadata": {},
   "source": [
    "Function $f(x) = x^2 + x - 5$ can be solved by the fixed point iteration by rearranging $f(x)$ analogically to the slide 38 in the presentation to the form $x(x+1) = 5 $ giving $g(x) = \\frac{5}{x+1}$"
   ]
  },
  {
   "cell_type": "code",
   "execution_count": 7,
   "metadata": {},
   "outputs": [
    {
     "data": {
      "text/plain": [
       "1.79128784747792"
      ]
     },
     "execution_count": 7,
     "metadata": {},
     "output_type": "execute_result"
    }
   ],
   "source": [
    "x = 1.5\n",
    "eps = 10**(-4)\n",
    "g = lambda x: 5/(x+1)\n",
    "analytical = (-1+np.sqrt(21))/2\n",
    "analytical"
   ]
  },
  {
   "cell_type": "code",
   "execution_count": 11,
   "metadata": {},
   "outputs": [
    {
     "name": "stdout",
     "output_type": "stream",
     "text": [
      "Solution: 1.791356 \n",
      "Divergence from the analytical solution: 0.000068\n"
     ]
    }
   ],
   "source": [
    "while (abs(analytical-x)>eps):\n",
    "    x = g(x)\n",
    "print(\"Solution: %f \" % x)\n",
    "print(\"Divergence from the analytical solution: %f\" %abs(analytical-x))"
   ]
  },
  {
   "cell_type": "markdown",
   "metadata": {},
   "source": [
    "# Fixed Point Iteration 2"
   ]
  },
  {
   "cell_type": "code",
   "execution_count": null,
   "metadata": {},
   "outputs": [],
   "source": []
  },
  {
   "cell_type": "markdown",
   "metadata": {},
   "source": [
    "# Iterative Methods"
   ]
  },
  {
   "cell_type": "markdown",
   "metadata": {},
   "source": [
    "Let's define functions first. $f(x)$ is a given function, f_prime ($f'(x)$) if you will is a derivative, $g(x)$ is a guessing function for fixed point iteration, lambda_i is lambda estimate for fixed point method"
   ]
  },
  {
   "cell_type": "code",
   "execution_count": 59,
   "metadata": {},
   "outputs": [],
   "source": [
    "eps = 10**(-5)\n",
    "a = 0\n",
    "b = 2\n",
    "f = lambda x: x**3 - np.sin(x)\n",
    "f_prime = lambda x: 3*x**2 - np.cos(x)\n",
    "g = lambda x: np.power(np.sin(x), 1/3)\n",
    "lambda_i = lambda x_i, x_i1, x_i2: (x_i - x_i1) / (x_i1 - x_i2)\n",
    "\n",
    "def newton(x):\n",
    "    return x - f(x)/f_prime(x)\n",
    "    \n",
    "def secant(x0, x1):\n",
    "    return x1 - f(x1)*( (x1-x0) / (f(x1)-f(x0)) )\n",
    "    \n",
    "def fixed_point(x):\n",
    "    return g(x)"
   ]
  },
  {
   "cell_type": "markdown",
   "metadata": {},
   "source": [
    "This plot is just for convenience"
   ]
  },
  {
   "cell_type": "code",
   "execution_count": 11,
   "metadata": {},
   "outputs": [
    {
     "data": {
      "text/plain": [
       "<matplotlib.lines.Line2D at 0x8560108>"
      ]
     },
     "execution_count": 11,
     "metadata": {},
     "output_type": "execute_result"
    },
    {
     "data": {
      "image/png": "[encoded data removed]",
      "text/plain": [
       "<Figure size 432x288 with 1 Axes>"
      ]
     },
     "metadata": {
      "needs_background": "light"
     },
     "output_type": "display_data"
    }
   ],
   "source": [
    "x = np.linspace(0,2,1000)\n",
    "y = f(x)\n",
    "fig, ax = plt.subplots()\n",
    "ax.plot(x, y)\n",
    "ax.grid(True, which='both')\n",
    "ax.set(xlim=(0, 2), ylim=(-1, 5))\n",
    "\n",
    "ax.axhline(y=0, color='k')\n",
    "ax.axvline(x=0, color='k')"
   ]
  },
  {
   "cell_type": "code",
   "execution_count": 65,
   "metadata": {},
   "outputs": [
    {
     "name": "stdout",
     "output_type": "stream",
     "text": [
      "Newton method\n",
      "Error: 0.000000009\n",
      "Result: 0.928626309\n",
      "Iterations: 4\n",
      "=====================\n",
      "Secant method\n",
      "Error: 0.000007910\n",
      "Result: 0.928626318\n",
      "Iterations: 4\n",
      "=====================\n",
      "Fixed Point Method\n",
      "Result: 0.928639092\n",
      "Iterations: 7\n"
     ]
    }
   ],
   "source": [
    "i_fp = 1\n",
    "i_n = 1\n",
    "i_sec = 1\n",
    "\n",
    "x_fp = 1\n",
    "x_n = 1\n",
    "x_sec = 1\n",
    "\n",
    "print(\"Newton method\")\n",
    "x_n_next = newton(x_n)\n",
    "while abs(x_n_next - x_n) >= eps:\n",
    "    x_n = x_n_next\n",
    "    x_n_next = newton(x_n)\n",
    "    i_n += 1\n",
    "print(\"Error: %.9f\" %abs(x_n_next - x_n))\n",
    "print(\"Result: %.9f\" %x_n_next)\n",
    "print(\"Iterations: %d\" %i_n)\n",
    "    \n",
    "print(\"=====================\")\n",
    "\n",
    "print(\"Secant method\")\n",
    "x_sec_next = newton(x_sec)\n",
    "while abs(x_sec_next - x_sec) >= eps:\n",
    "    tmp = x_sec\n",
    "    x_sec = x_sec_next\n",
    "    x_sec_next = secant(tmp, x_sec_next)\n",
    "    i_sec += 1\n",
    "print(\"Error: %.9f\" %abs(x_sec_next - x_sec))\n",
    "print(\"Result: %.9f\" %x_sec_next)\n",
    "print(\"Iterations: %d\" %i_sec)\n",
    "    \n",
    "print(\"=====================\")\n",
    "\n",
    "print(\"Fixed Point Method\")\n",
    "x0 = x_fp\n",
    "while True:\n",
    "    i_fp += 1\n",
    "    x1 = g(x0)\n",
    "    x2 = g(x1)\n",
    "    lambda_2 = lambda_i(x_fp, x1, x2)\n",
    "    x2_hat = x2 + (lambda_2/(1-lambda_2))*(x2-x1)\n",
    "    if abs(x2_hat - x2) <= eps:\n",
    "        print(\"Result: %.9f\" %x2_hat)\n",
    "        print(\"Iterations: %d\" %i_fp)\n",
    "        break\n",
    "    else:\n",
    "        x0 = x2_hat"
   ]
  },
  {
   "cell_type": "markdown",
   "metadata": {},
   "source": [
    "From the results above we can see, that Newton method gives most accurate results (I am surprised) and Fixed Point needs most iterations. However in all cases number of iterations is in single digits, which firstly surprises me, and secondly makes no difference between methods. 4 vs 7 iterations are distinguishable by humans."
   ]
  }
 ],
 "metadata": {
  "kernelspec": {
   "display_name": "Python 3",
   "language": "python",
   "name": "python3"
  },
  "language_info": {
   "codemirror_mode": {
    "name": "ipython",
    "version": 3
   },
   "file_extension": ".py",
   "mimetype": "text/x-python",
   "name": "python",
   "nbconvert_exporter": "python",
   "pygments_lexer": "ipython3",
   "version": "3.7.5"
  }
 },
 "nbformat": 4,
 "nbformat_minor": 4
}
