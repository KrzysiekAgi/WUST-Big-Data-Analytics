{
 "cells": [
  {
   "cell_type": "code",
   "execution_count": 12,
   "metadata": {},
   "outputs": [],
   "source": [
    "import pandas as pd\n",
    "import numpy as np\n",
    "import statsmodels.api as sm\n",
    "from statsmodels.graphics.tsaplots import plot_acf, plot_pacf\n",
    "from statsmodels.tsa.stattools import acf, pacf\n",
    "from statsmodels.tsa.ar_model import AR, ARResults\n",
    "import statsmodels.tsa.arima_model as ar"
   ]
  },
  {
   "cell_type": "code",
   "execution_count": 2,
   "metadata": {},
   "outputs": [],
   "source": [
    "num_samples = 1000\n",
    "num_bins = 20\n",
    "white_noise = np.random.random(size=num_samples)"
   ]
  },
  {
   "cell_type": "code",
   "execution_count": 3,
   "metadata": {},
   "outputs": [],
   "source": [
    "a = 2\n",
    "b1 = 0.3\n",
    "b2 = -0.12\n",
    "b3 = 0.48\n",
    "b4 = -0.85\n",
    "b5 = 0.74\n",
    "\n",
    "AR1 = np.zeros(num_samples)\n",
    "AR2 = np.zeros(num_samples)\n",
    "AR3 = np.zeros(num_samples)\n",
    "AR4 = np.zeros(num_samples)\n",
    "AR5 = np.zeros(num_samples)\n",
    "\n",
    "for i in range(1, num_samples):\n",
    "    AR1[i] = a + b1*AR1[i-1] + white_noise[i]\n",
    "    AR2[i] = a + b1*AR2[i-1] + b2*AR2[i-2] + white_noise[i]\n",
    "    AR3[i] = a + b1*AR3[i-1] + b2*AR3[i-2] + b3*AR3[i-3] + white_noise[i]\n",
    "    AR4[i] = a + b1*AR4[i-1] + b2*AR4[i-2] + b3*AR4[i-3] + b4*AR4[i-4] + white_noise[i]\n",
    "    AR5[i] = a + b1*AR5[i-1] + b2*AR5[i-2] + b3*AR5[i-3] + b4*AR5[i-4] + b5*AR5[i-5] + white_noise[i]"
   ]
  },
  {
   "cell_type": "code",
   "execution_count": 4,
   "metadata": {},
   "outputs": [
    {
     "name": "stderr",
     "output_type": "stream",
     "text": [
      "C:\\Users\\kagiencz\\AppData\\Local\\Continuum\\anaconda3\\lib\\site-packages\\statsmodels\\regression\\linear_model.py:1358: RuntimeWarning: invalid value encountered in sqrt\n",
      "  return rho, np.sqrt(sigmasq)\n"
     ]
    }
   ],
   "source": [
    "plot_pacf(AR1, title='AR(1)');\n",
    "plot_pacf(AR2, title='AR(2)');\n",
    "plot_pacf(AR3, title='AR(3)');\n",
    "plot_pacf(AR4, title='AR(4)');\n",
    "plot_pacf(AR5, title='AR(5)');"
   ]
  },
  {
   "cell_type": "code",
   "execution_count": 5,
   "metadata": {},
   "outputs": [
    {
     "name": "stdout",
     "output_type": "stream",
     "text": [
      "===========================\n",
      "AR1\n",
      "Lag: 1\n",
      "Coefficients: \n",
      "[2.39852772 0.32701551]\n",
      "===========================\n",
      "AR2\n",
      "Lag: 2\n",
      "Coefficients: \n",
      "[ 2.45243884  0.33335809 -0.0214399 ]\n",
      "===========================\n",
      "AR3\n",
      "Lag: 3\n",
      "Coefficients: \n",
      "[ 2.4274494   0.33341575 -0.02441709  0.00991818]\n",
      "===========================\n",
      "AR4\n",
      "Lag: 4\n",
      "Coefficients: \n",
      "[ 2.48960962  0.33350302 -0.02463246  0.01735279 -0.02471392]\n",
      "===========================\n",
      "AR5\n",
      "Lag: 5\n",
      "Coefficients: \n",
      "[ 2.47217373  0.33363825 -0.02470289  0.01741836 -0.02676124  0.00679983]\n",
      "True components\n",
      "a: 2, b1: 0.3, b2: -0.12, b3: 0.48, b4: -0.85, b5: 0.74\n"
     ]
    }
   ],
   "source": [
    "for i in range(5):\n",
    "    model = AR(AR1)\n",
    "    ARfit = model.fit(maxlag=i+1, method='mle')\n",
    "    print(f'===========================\\nAR' + str(i+1))\n",
    "    print(f'Lag: {ARfit.k_ar}')\n",
    "    print(f'Coefficients: \\n{ARfit.params}')\n",
    "    \n",
    "print(f'True components')\n",
    "print(f'a: {a}, b1: {b1}, b2: {b2}, b3: {b3}, b4: {b4}, b5: {b5}')"
   ]
  },
  {
   "cell_type": "code",
   "execution_count": null,
   "metadata": {},
   "outputs": [],
   "source": []
  },
  {
   "cell_type": "code",
   "execution_count": null,
   "metadata": {},
   "outputs": [],
   "source": []
  },
  {
   "cell_type": "code",
   "execution_count": null,
   "metadata": {},
   "outputs": [],
   "source": []
  },
  {
   "cell_type": "code",
   "execution_count": null,
   "metadata": {},
   "outputs": [],
   "source": []
  },
  {
   "cell_type": "code",
   "execution_count": 11,
   "metadata": {},
   "outputs": [
    {
     "data": {
      "image/png": "[encoded data removed]",
      "text/plain": [
       "<Figure size 432x288 with 1 Axes>"
      ]
     },
     "metadata": {
      "needs_background": "light"
     },
     "output_type": "display_data"
    }
   ],
   "source": [
    "arma11 = np.zeros(num_samples)\n",
    "for i in range(1, num_samples):\n",
    "    arma11[i] = a + white_noise[i] + b1*arma11[i-1] + b2*white_noise[i-1]\n",
    "    \n",
    "plot_pacf(arma11, title='arma(1,1)');"
   ]
  },
  {
   "cell_type": "code",
   "execution_count": 14,
   "metadata": {},
   "outputs": [
    {
     "data": {
      "text/html": [
       "<table class=\"simpletable\">\n",
       "<caption>ARMA Model Results</caption>\n",
       "<tr>\n",
       "  <th>Dep. Variable:</th>         <td>y</td>        <th>  No. Observations:  </th>   <td>1000</td>  \n",
       "</tr>\n",
       "<tr>\n",
       "  <th>Model:</th>            <td>ARMA(1, 1)</td>    <th>  Log Likelihood     </th> <td>-223.122</td>\n",
       "</tr>\n",
       "<tr>\n",
       "  <th>Method:</th>             <td>css-mle</td>     <th>  S.D. of innovations</th>   <td>0.302</td> \n",
       "</tr>\n",
       "<tr>\n",
       "  <th>Date:</th>          <td>Fri, 15 May 2020</td> <th>  AIC                </th>  <td>454.244</td>\n",
       "</tr>\n",
       "<tr>\n",
       "  <th>Time:</th>              <td>10:48:33</td>     <th>  BIC                </th>  <td>473.875</td>\n",
       "</tr>\n",
       "<tr>\n",
       "  <th>Sample:</th>                <td>0</td>        <th>  HQIC               </th>  <td>461.705</td>\n",
       "</tr>\n",
       "<tr>\n",
       "  <th></th>                       <td> </td>        <th>                     </th>     <td> </td>   \n",
       "</tr>\n",
       "</table>\n",
       "<table class=\"simpletable\">\n",
       "<tr>\n",
       "     <td></td>        <th>coef</th>     <th>std err</th>      <th>z</th>      <th>P>|z|</th>  <th>[0.025</th>    <th>0.975]</th>  \n",
       "</tr>\n",
       "<tr>\n",
       "  <th>const</th>   <td>    3.4792</td> <td>    0.012</td> <td>  283.397</td> <td> 0.000</td> <td>    3.455</td> <td>    3.503</td>\n",
       "</tr>\n",
       "<tr>\n",
       "  <th>ar.L1.y</th> <td>    0.2447</td> <td>    0.163</td> <td>    1.503</td> <td> 0.133</td> <td>   -0.074</td> <td>    0.564</td>\n",
       "</tr>\n",
       "<tr>\n",
       "  <th>ma.L1.y</th> <td>   -0.0305</td> <td>    0.167</td> <td>   -0.183</td> <td> 0.855</td> <td>   -0.358</td> <td>    0.297</td>\n",
       "</tr>\n",
       "</table>\n",
       "<table class=\"simpletable\">\n",
       "<caption>Roots</caption>\n",
       "<tr>\n",
       "    <td></td>   <th>            Real</th>  <th>         Imaginary</th> <th>         Modulus</th>  <th>        Frequency</th>\n",
       "</tr>\n",
       "<tr>\n",
       "  <th>AR.1</th> <td>           4.0863</td> <td>          +0.0000j</td> <td>           4.0863</td> <td>           0.0000</td>\n",
       "</tr>\n",
       "<tr>\n",
       "  <th>MA.1</th> <td>          32.7586</td> <td>          +0.0000j</td> <td>          32.7586</td> <td>           0.0000</td>\n",
       "</tr>\n",
       "</table>"
      ],
      "text/plain": [
       "<class 'statsmodels.iolib.summary.Summary'>\n",
       "\"\"\"\n",
       "                              ARMA Model Results                              \n",
       "==============================================================================\n",
       "Dep. Variable:                      y   No. Observations:                 1000\n",
       "Model:                     ARMA(1, 1)   Log Likelihood                -223.122\n",
       "Method:                       css-mle   S.D. of innovations              0.302\n",
       "Date:                Fri, 15 May 2020   AIC                            454.244\n",
       "Time:                        10:48:33   BIC                            473.875\n",
       "Sample:                             0   HQIC                           461.705\n",
       "                                                                              \n",
       "==============================================================================\n",
       "                 coef    std err          z      P>|z|      [0.025      0.975]\n",
       "------------------------------------------------------------------------------\n",
       "const          3.4792      0.012    283.397      0.000       3.455       3.503\n",
       "ar.L1.y        0.2447      0.163      1.503      0.133      -0.074       0.564\n",
       "ma.L1.y       -0.0305      0.167     -0.183      0.855      -0.358       0.297\n",
       "                                    Roots                                    \n",
       "=============================================================================\n",
       "                  Real          Imaginary           Modulus         Frequency\n",
       "-----------------------------------------------------------------------------\n",
       "AR.1            4.0863           +0.0000j            4.0863            0.0000\n",
       "MA.1           32.7586           +0.0000j           32.7586            0.0000\n",
       "-----------------------------------------------------------------------------\n",
       "\"\"\""
      ]
     },
     "execution_count": 14,
     "metadata": {},
     "output_type": "execute_result"
    }
   ],
   "source": [
    "model_ret_ar_1_ma_1 = ar.ARMA(arma11, order=(1,1))\n",
    "results_ret_ar_1_ma_1 = model_ret_ar_1_ma_1.fit()\n",
    "results_ret_ar_1_ma_1.summary()"
   ]
  }
 ],
 "metadata": {
  "kernelspec": {
   "display_name": "Python 3",
   "language": "python",
   "name": "python3"
  },
  "language_info": {
   "codemirror_mode": {
    "name": "ipython",
    "version": 3
   },
   "file_extension": ".py",
   "mimetype": "text/x-python",
   "name": "python",
   "nbconvert_exporter": "python",
   "pygments_lexer": "ipython3",
   "version": "3.7.5"
  }
 },
 "nbformat": 4,
 "nbformat_minor": 4
}
